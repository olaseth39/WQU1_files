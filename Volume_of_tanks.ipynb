{
 "cells": [
  {
   "cell_type": "code",
   "execution_count": 1,
   "id": "9fd0e132",
   "metadata": {},
   "outputs": [],
   "source": [
    "import numpy as np"
   ]
  },
  {
   "cell_type": "code",
   "execution_count": 5,
   "id": "afe7aa1b",
   "metadata": {},
   "outputs": [
    {
     "name": "stdout",
     "output_type": "stream",
     "text": [
      "Length is  3.66\n",
      "Breadth is  1.22\n",
      "Height is  1.22\n"
     ]
    },
    {
     "data": {
      "text/plain": [
       "'randomized volume is 5.45'"
      ]
     },
     "execution_count": 5,
     "metadata": {},
     "output_type": "execute_result"
    }
   ],
   "source": [
    "def vol_of_steel_tank(vol, height):\n",
    "    \n",
    "    lgth = round(np.random.choice(np.arange(1.22, int(np.sqrt(vol)), 1.22)),2)\n",
    "    brth = round(np.random.choice(np.arange(1.22, int(np.sqrt(vol)), 1.22)),2)\n",
    "    hght = round(np.random.choice(np.arange(1.22, height + 1.22, 1.22)),2)\n",
    "    \n",
    "    \n",
    "    if brth > lgth:\n",
    "        brth = lgth\n",
    "        \n",
    "    randomized_vol = round(lgth * brth * hght, 2)\n",
    "    print(\"Length is \", lgth)\n",
    "    print(\"Breadth is \", brth)\n",
    "    print(\"Height is \", hght)\n",
    "    \n",
    "    return \"randomized volume is {}\".format(randomized_vol) \n",
    "\n",
    "vol_of_steel_tank(40, 3.66)"
   ]
  },
  {
   "cell_type": "code",
   "execution_count": null,
   "id": "b1309551",
   "metadata": {},
   "outputs": [],
   "source": []
  }
 ],
 "metadata": {
  "kernelspec": {
   "display_name": "Python 3 (ipykernel)",
   "language": "python",
   "name": "python3"
  },
  "language_info": {
   "codemirror_mode": {
    "name": "ipython",
    "version": 3
   },
   "file_extension": ".py",
   "mimetype": "text/x-python",
   "name": "python",
   "nbconvert_exporter": "python",
   "pygments_lexer": "ipython3",
   "version": "3.9.12"
  }
 },
 "nbformat": 4,
 "nbformat_minor": 5
}

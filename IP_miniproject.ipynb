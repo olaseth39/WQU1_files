{
 "cells": [
  {
   "cell_type": "code",
   "execution_count": 1,
   "id": "2c7a2b79",
   "metadata": {},
   "outputs": [
    {
     "name": "stdout",
     "output_type": "stream",
     "text": [
      "Logging hadn't been started.\n"
     ]
    },
    {
     "name": "stderr",
     "output_type": "stream",
     "text": [
      "C:\\Users\\LENOVO\\anaconda3\\lib\\site-packages\\IPython\\core\\magics\\logging.py:130: UserWarning: Couldn't start log: [Errno 2] No such file or directory: 'C:\\\\Users\\\\rtq ~/.logs/ip.py append'\n",
      "  warn(\"Couldn't start log: %s\" % sys.exc_info()[1])\n"
     ]
    }
   ],
   "source": [
    "%logstop\n",
    "%logstart ~rtq ~/.logs/ip.py append\n",
    "import seaborn as sns\n",
    "sns.set()"
   ]
  },
  {
   "cell_type": "markdown",
   "id": "5dfd0ddd",
   "metadata": {},
   "source": [
    "### Program Flow exercises"
   ]
  },
  {
   "cell_type": "markdown",
   "id": "35d1f2f7",
   "metadata": {},
   "source": [
    "The objective of these exercises is to develop your ability to use iteration and conditional logic to build reuseable functions. We will be extending our get_primes example from the Program Flow notebook for testing whether much larger numbers are prime. Large primes are useful for encryption. It is too slow to test every possible factor of a large number to determine if it is prime, so we will take a different approach."
   ]
  },
  {
   "cell_type": "markdown",
   "id": "6285d5a4",
   "metadata": {},
   "source": [
    "### Exercise 1: mersenne_numbers"
   ]
  },
  {
   "cell_type": "markdown",
   "id": "ce075eed",
   "metadata": {},
   "source": [
    "A Mersenne number is any number that can be written as 2$^p$ - 1 for some p. For example, 3 is a Mersenne number (2$^2$ - 1) as is 31 (2$^5$ - 1). We will see later on that it is easy if Mersenne numbers are prime."
   ]
  },
  {
   "cell_type": "markdown",
   "id": "0a59cdb2",
   "metadata": {},
   "source": [
    "Write a function that accepts an exponent p and returns the corresponding Mersenne number"
   ]
  },
  {
   "cell_type": "code",
   "execution_count": 2,
   "id": "1c8aa590",
   "metadata": {},
   "outputs": [
    {
     "data": {
      "text/plain": [
       "1"
      ]
     },
     "execution_count": 2,
     "metadata": {},
     "output_type": "execute_result"
    }
   ],
   "source": [
    "5 % 2"
   ]
  },
  {
   "cell_type": "code",
   "execution_count": 3,
   "id": "f6e666a8",
   "metadata": {},
   "outputs": [],
   "source": [
    "def mersenne_number(p):\n",
    "    return 2 ** p - 1"
   ]
  },
  {
   "cell_type": "code",
   "execution_count": 4,
   "id": "8ff9b1a9",
   "metadata": {},
   "outputs": [
    {
     "data": {
      "text/plain": [
       "63"
      ]
     },
     "execution_count": 4,
     "metadata": {},
     "output_type": "execute_result"
    }
   ],
   "source": [
    "mersenne_number(6)"
   ]
  },
  {
   "cell_type": "markdown",
   "id": "20620855",
   "metadata": {},
   "source": [
    "Mersenne numbers can only be prime if their exponent, p, is prime. Make a list of the Mersenne numbers for all primes p between 3 and 65 (there should be 17 of them)"
   ]
  },
  {
   "cell_type": "code",
   "execution_count": 5,
   "id": "13ddcc8f",
   "metadata": {},
   "outputs": [
    {
     "name": "stdout",
     "output_type": "stream",
     "text": [
      "5\n",
      "10\n",
      "25\n"
     ]
    }
   ],
   "source": [
    "tmersennes = []\n",
    "\n",
    "number = 50\n",
    "\n",
    "# first find prime numbers\n",
    "for i in range(3, number):\n",
    "    if number % i == 0 :\n",
    "        print(i)"
   ]
  },
  {
   "cell_type": "code",
   "execution_count": 76,
   "id": "d50dce15",
   "metadata": {},
   "outputs": [],
   "source": [
    "def is_prime(number):\n",
    "    if number <= 1:\n",
    "        return False\n",
    "    else:\n",
    "        for factor in range(2, number):\n",
    "            if number % factor == 0:\n",
    "                return False\n",
    "            \n",
    "    return True"
   ]
  },
  {
   "cell_type": "code",
   "execution_count": 78,
   "id": "22a444ab",
   "metadata": {},
   "outputs": [],
   "source": [
    "def get_primes(number):\n",
    "    \n",
    "    return [prime for prime in range(2, number) if is_prime(prime)]\n",
    "    "
   ]
  },
  {
   "cell_type": "code",
   "execution_count": 7,
   "id": "844f530e",
   "metadata": {},
   "outputs": [
    {
     "data": {
      "text/plain": [
       "True"
      ]
     },
     "execution_count": 7,
     "metadata": {},
     "output_type": "execute_result"
    }
   ],
   "source": [
    "is_prime(5)"
   ]
  },
  {
   "cell_type": "code",
   "execution_count": 9,
   "id": "dcd0953e",
   "metadata": {},
   "outputs": [
    {
     "data": {
      "text/plain": [
       "[3, 5, 7, 11, 13, 17, 19, 23, 29, 31, 37, 41, 43, 47, 53, 59, 61]"
      ]
     },
     "execution_count": 9,
     "metadata": {},
     "output_type": "execute_result"
    }
   ],
   "source": [
    "prime_nums = [prime for prime in range(3, 66) if is_prime(prime)]\n",
    "prime_nums"
   ]
  },
  {
   "cell_type": "code",
   "execution_count": 10,
   "id": "7c2f3fcb",
   "metadata": {},
   "outputs": [],
   "source": [
    "Merssenes_list = []\n",
    "\n",
    "def Merssenes(start_num, end_num):\n",
    "    \n",
    "    return [2**prime - 1 for prime in range(start_num, end_num) if is_prime(prime)]\n",
    "    \n"
   ]
  },
  {
   "cell_type": "code",
   "execution_count": 11,
   "id": "56be8e22",
   "metadata": {},
   "outputs": [
    {
     "data": {
      "text/plain": [
       "[7,\n",
       " 31,\n",
       " 127,\n",
       " 2047,\n",
       " 8191,\n",
       " 131071,\n",
       " 524287,\n",
       " 8388607,\n",
       " 536870911,\n",
       " 2147483647,\n",
       " 137438953471,\n",
       " 2199023255551,\n",
       " 8796093022207,\n",
       " 140737488355327,\n",
       " 9007199254740991,\n",
       " 576460752303423487,\n",
       " 2305843009213693951]"
      ]
     },
     "execution_count": 11,
     "metadata": {},
     "output_type": "execute_result"
    }
   ],
   "source": [
    "Merssenes(3, 66)"
   ]
  },
  {
   "cell_type": "markdown",
   "id": "0dc2d08d",
   "metadata": {},
   "source": [
    "### Exercise 2: lucas_lehmer"
   ]
  },
  {
   "cell_type": "markdown",
   "id": "9f9041a6",
   "metadata": {},
   "source": [
    "We can test if a Mersenne number is prime using the Lucas-Lehmer test. First let's write a function that generates the sequence used in the test. Given a Mersenne number with exponent p, the sequence can be defined as"
   ]
  },
  {
   "cell_type": "markdown",
   "id": "55328291",
   "metadata": {},
   "source": [
    "n$_0$ = 4\n",
    "\n",
    "n$_i$ = (n$^2$$_i-_1$ - 2)  mod (2$^p$ - 1)"
   ]
  },
  {
   "cell_type": "markdown",
   "id": "dd317e2c",
   "metadata": {},
   "source": [
    "Write a function that accepts the exponent p of a Merssene number and returns the Lucas-Lehmer sequence up to $i = p-2$ (inclusive). Remember that the module operation is implemented in python as %"
   ]
  },
  {
   "cell_type": "code",
   "execution_count": 12,
   "id": "e651e139",
   "metadata": {},
   "outputs": [
    {
     "name": "stdout",
     "output_type": "stream",
     "text": [
      "0\n",
      "1\n",
      "2\n",
      "3\n"
     ]
    }
   ],
   "source": [
    "for i in range(1,5):\n",
    "    print(i-1)"
   ]
  },
  {
   "cell_type": "code",
   "execution_count": 13,
   "id": "a821823e",
   "metadata": {},
   "outputs": [],
   "source": [
    "def lucas_lehmer(p):\n",
    "    \n",
    "    sequence = [4]\n",
    "\n",
    "    \n",
    "    for i in range(1, p - 2 + 1 ):\n",
    "        val_next = (sequence[i - 1] ** 2 - 2) % mersenne_number(p)\n",
    "        sequence.append(val_next)\n",
    "\n",
    "    return sequence     \n",
    "    "
   ]
  },
  {
   "cell_type": "code",
   "execution_count": 18,
   "id": "06deb80e",
   "metadata": {
    "scrolled": true
   },
   "outputs": [
    {
     "data": {
      "text/plain": [
       "[4, 14, 194, 788, 701, 119, 1877, 240, 282, 1736]"
      ]
     },
     "execution_count": 18,
     "metadata": {},
     "output_type": "execute_result"
    }
   ],
   "source": [
    "lucas_lehmer(11)"
   ]
  },
  {
   "cell_type": "markdown",
   "id": "255c4929",
   "metadata": {},
   "source": [
    "### Exercise 3 : Merssenne_Primes"
   ]
  },
  {
   "cell_type": "markdown",
   "id": "b0e51ce0",
   "metadata": {},
   "source": [
    "For a given merssenne number with exponent p, the number is prime if the lucas-lehmer series is 0 at position p-2. Write a function that tests if a Merssenne number with exponent p is prime. Test if the Merssenne number between 3 and 65 ( i.e 3, 5, 7...61) are prime. Your final answer should be a list of tuples consisting of (Merssenn exponent, 0) (or 1) for each Merssenne number you test, where 0 and 1 are replacements for False and True respectively."
   ]
  },
  {
   "cell_type": "markdown",
   "id": "c3b1cd7a",
   "metadata": {},
   "source": [
    "$ HINT $: You may want to use the ZIP function which returns an iterabls of tuples resulting in a pair-wise combition of two iterables e.g two lists"
   ]
  },
  {
   "cell_type": "code",
   "execution_count": 19,
   "id": "63be3533",
   "metadata": {},
   "outputs": [
    {
     "data": {
      "text/plain": [
       "63"
      ]
     },
     "execution_count": 19,
     "metadata": {},
     "output_type": "execute_result"
    }
   ],
   "source": [
    "mersenne_number(6)"
   ]
  },
  {
   "cell_type": "code",
   "execution_count": 20,
   "id": "87097bcb",
   "metadata": {},
   "outputs": [
    {
     "data": {
      "text/plain": [
       "[4, 14, 8, 0]"
      ]
     },
     "execution_count": 20,
     "metadata": {},
     "output_type": "execute_result"
    }
   ],
   "source": [
    "lucas_lehmer(5)"
   ]
  },
  {
   "cell_type": "code",
   "execution_count": 21,
   "id": "23fa4911",
   "metadata": {},
   "outputs": [
    {
     "name": "stdout",
     "output_type": "stream",
     "text": [
      "2047\n",
      "[4, 14, 194, 788, 701, 119, 1877, 240, 282, 1736]\n",
      "1736\n"
     ]
    }
   ],
   "source": [
    "p = 11\n",
    "print(mersenne_number(p))\n",
    "ll = lucas_lehmer(p)\n",
    "print(ll)\n",
    "print(ll[p-2])"
   ]
  },
  {
   "cell_type": "code",
   "execution_count": 22,
   "id": "51b64ff7",
   "metadata": {},
   "outputs": [],
   "source": [
    "def ll_prime(p):\n",
    "#         1. That will accept a p value\n",
    "#         2. Use that p value to obtain the respective Merssenne numbers\n",
    "#         3. Genrate Lucas Lehmer number for that Merssenne number\n",
    "#         4. Apply the prime test at p - 2 = 0 if prime\n",
    "    lucas_lehmer_sequence = lucas_lehmer(p)\n",
    "    if lucas_lehmer_sequence[-1] == 0:\n",
    "        return int(True)\n",
    "    return int(False)"
   ]
  },
  {
   "cell_type": "code",
   "execution_count": 25,
   "id": "a125827e",
   "metadata": {},
   "outputs": [
    {
     "data": {
      "text/plain": [
       "1"
      ]
     },
     "execution_count": 25,
     "metadata": {},
     "output_type": "execute_result"
    }
   ],
   "source": [
    "ll_prime(17)"
   ]
  },
  {
   "cell_type": "code",
   "execution_count": null,
   "id": "b31b2505",
   "metadata": {},
   "outputs": [],
   "source": [
    "zip?"
   ]
  },
  {
   "cell_type": "code",
   "execution_count": 32,
   "id": "6119d7bc",
   "metadata": {},
   "outputs": [
    {
     "data": {
      "text/plain": [
       "[('a', 0, 0), ('b', 1, 1), ('c', 2, 2), ('d', 3, 3)]"
      ]
     },
     "execution_count": 32,
     "metadata": {},
     "output_type": "execute_result"
    }
   ],
   "source": [
    "list(zip('abcdefg', range(4), range(5)))"
   ]
  },
  {
   "cell_type": "code",
   "execution_count": 68,
   "id": "017a53f7",
   "metadata": {},
   "outputs": [
    {
     "ename": "NameError",
     "evalue": "name 'is_prime' is not defined",
     "output_type": "error",
     "traceback": [
      "\u001b[1;31m---------------------------------------------------------------------------\u001b[0m",
      "\u001b[1;31mNameError\u001b[0m                                 Traceback (most recent call last)",
      "Input \u001b[1;32mIn [68]\u001b[0m, in \u001b[0;36m<cell line: 1>\u001b[1;34m()\u001b[0m\n\u001b[1;32m----> 1\u001b[0m merssenne_prime \u001b[38;5;241m=\u001b[39m [(p,ll_prime(p)) \u001b[38;5;28;01mfor\u001b[39;00m p \u001b[38;5;129;01min\u001b[39;00m \u001b[38;5;28mrange\u001b[39m(\u001b[38;5;241m3\u001b[39m, \u001b[38;5;241m65\u001b[39m) \u001b[38;5;28;01mif\u001b[39;00m is_prime(p)]\n\u001b[0;32m      2\u001b[0m \u001b[38;5;28mprint\u001b[39m(merssenne_prime)\n",
      "Input \u001b[1;32mIn [68]\u001b[0m, in \u001b[0;36m<listcomp>\u001b[1;34m(.0)\u001b[0m\n\u001b[1;32m----> 1\u001b[0m merssenne_prime \u001b[38;5;241m=\u001b[39m [(p,ll_prime(p)) \u001b[38;5;28;01mfor\u001b[39;00m p \u001b[38;5;129;01min\u001b[39;00m \u001b[38;5;28mrange\u001b[39m(\u001b[38;5;241m3\u001b[39m, \u001b[38;5;241m65\u001b[39m) \u001b[38;5;28;01mif\u001b[39;00m \u001b[43mis_prime\u001b[49m(p)]\n\u001b[0;32m      2\u001b[0m \u001b[38;5;28mprint\u001b[39m(merssenne_prime)\n",
      "\u001b[1;31mNameError\u001b[0m: name 'is_prime' is not defined"
     ]
    }
   ],
   "source": [
    "merssenne_prime = [(p,ll_prime(p)) for p in range(3, 65) if is_prime(p)]\n",
    "print(merssenne_prime)"
   ]
  },
  {
   "cell_type": "code",
   "execution_count": null,
   "id": "03c75402",
   "metadata": {},
   "outputs": [],
   "source": [
    "len(merssenne_prime)"
   ]
  },
  {
   "cell_type": "markdown",
   "id": "88c60c1d",
   "metadata": {},
   "source": [
    "### Exercise 4 : Optimising is_prime"
   ]
  },
  {
   "cell_type": "markdown",
   "id": "c52cda36",
   "metadata": {},
   "source": [
    "You might have noticed that the primality test is_prime we developed before is somewhat slow for large numbers. This is because we are doing a ton of extra work checking every factor of the tested number. We will use two optimizations to make is_prime_fast function.\n",
    "\n",
    "The first optimization takes advantage of the fact that two is the only even prime. Thus we can check if a number is even and as long as it's greater than two we know that it is not prime.\n",
    "\n",
    "Our second optimization takes advantage of the fact that when checking factors, we only need to check odd factors up to the square root of a number. Consider a number n decomposed into factors n=ab.There are two cases either n is prime without loss of generality. a = n, b = 1 or n is not a prime and a,b $not=$ n,1.In this case, a > $sqrtn$, then b < $sqrtn$.So we only need to get the all possible values of b and we get the values of a for free! This means that even the simple method of checking factors will increase in complexity as a square root compared to the size of the number instead of linearly.\n",
    "\n",
    "Let's write the function to do this and check the speed! is_prime_fast will take a number and return whether prime or not.\n",
    "\n"
   ]
  },
  {
   "cell_type": "code",
   "execution_count": 70,
   "id": "cfdd2c58",
   "metadata": {},
   "outputs": [],
   "source": [
    "def is_prime_fast(number):\n",
    "    \n",
    "    #check for values less than or equal to 1\n",
    "    if number <= 1:\n",
    "        return False\n",
    "    \n",
    "    if number == 2:\n",
    "        return True\n",
    "    \n",
    "    if number % 2 == 0:\n",
    "         return False\n",
    "    \n",
    "    for factor in range(2, int(number**0.5) + 1):\n",
    "        if number % factor == 0:\n",
    "            return False\n",
    "        \n",
    "    return True\n",
    "        "
   ]
  },
  {
   "cell_type": "code",
   "execution_count": 30,
   "id": "07604c13",
   "metadata": {},
   "outputs": [
    {
     "data": {
      "text/plain": [
       "False"
      ]
     },
     "execution_count": 30,
     "metadata": {},
     "output_type": "execute_result"
    }
   ],
   "source": [
    "is_prime_fast(56)"
   ]
  },
  {
   "cell_type": "code",
   "execution_count": 31,
   "id": "e761a215",
   "metadata": {},
   "outputs": [
    {
     "data": {
      "text/plain": [
       "False"
      ]
     },
     "execution_count": 31,
     "metadata": {},
     "output_type": "execute_result"
    }
   ],
   "source": [
    "is_prime(56)"
   ]
  },
  {
   "cell_type": "code",
   "execution_count": 32,
   "id": "d1bdc9b1",
   "metadata": {},
   "outputs": [],
   "source": [
    "for n in range(1000):\n",
    "    assert is_prime_fast(n) == is_prime(n)"
   ]
  },
  {
   "cell_type": "markdown",
   "id": "4ec25105",
   "metadata": {},
   "source": [
    "Now let's time it"
   ]
  },
  {
   "cell_type": "code",
   "execution_count": 33,
   "id": "f51e3686",
   "metadata": {},
   "outputs": [
    {
     "name": "stdout",
     "output_type": "stream",
     "text": [
      "1.98 µs ± 223 ns per loop (mean ± std. dev. of 7 runs, 1,000,000 loops each)\n"
     ]
    }
   ],
   "source": [
    "%%timeit\n",
    "is_prime_fast(67867795)"
   ]
  },
  {
   "cell_type": "code",
   "execution_count": 34,
   "id": "629a7f9b",
   "metadata": {},
   "outputs": [
    {
     "name": "stdout",
     "output_type": "stream",
     "text": [
      "1.07 µs ± 115 ns per loop (mean ± std. dev. of 7 runs, 1,000,000 loops each)\n"
     ]
    }
   ],
   "source": [
    "%%timeit\n",
    "is_prime(67867795)"
   ]
  },
  {
   "cell_type": "markdown",
   "id": "a86eb57b",
   "metadata": {},
   "source": [
    "Now return a function which will find all prime numbers up to and including n. Submit this function to the grader."
   ]
  },
  {
   "cell_type": "code",
   "execution_count": 71,
   "id": "0e50f2fa",
   "metadata": {},
   "outputs": [
    {
     "data": {
      "text/plain": [
       "[2, 3, 5, 7, 11, 13, 17, 19, 23, 29, 31]"
      ]
     },
     "execution_count": 71,
     "metadata": {},
     "output_type": "execute_result"
    }
   ],
   "source": [
    "def get_prime_fast(n):\n",
    "    \n",
    "    all_primes = [number for number in range(n + 1) if is_prime_fast(number)]\n",
    "    \n",
    "    return all_primes\n",
    "    \n",
    "get_prime_fast(31)"
   ]
  },
  {
   "cell_type": "code",
   "execution_count": null,
   "id": "8f729289",
   "metadata": {},
   "outputs": [],
   "source": []
  },
  {
   "cell_type": "markdown",
   "id": "69cb1c05",
   "metadata": {},
   "source": [
    "## Exercise 5: sieve"
   ]
  },
  {
   "cell_type": "markdown",
   "id": "dbdd302a",
   "metadata": {},
   "source": [
    "In this problem we will develop an even faster method which is known as the Sieve of Erastosthenes (although it will be more expensivein terms of memory).The Sieve of Erastosthenes is an example of dynamic programming where the general idea is to not redo computations we have already done). We will break this sieve down into sevral small functions. "
   ]
  },
  {
   "cell_type": "markdown",
   "id": "38cf910e",
   "metadata": {},
   "source": [
    "Our submission will be a list of all prime numbers less than 2000"
   ]
  },
  {
   "cell_type": "markdown",
   "id": "a33affae",
   "metadata": {},
   "source": [
    "The method works as follows"
   ]
  },
  {
   "cell_type": "markdown",
   "id": "545d2243",
   "metadata": {},
   "source": [
    "1. Generate a list of all numbers between 0 and N; mark the number 0 and 1 to be not prime\n",
    "2. Starting with p=2(the first prime) mark all numbers of the form np where n > 1 and np <= N to be not prime (they can't be prime since they are multiples of 2!)\n",
    "3. Findthe smallest number greater than p which is not marked and set that equal to p, then go back to step 2. Stop if there is no unmarked number greater than p and less than N + 1 \n",
    "                                                                                                               \n",
    " We will break this up into a few functions, our general strategy will b to use a Python list as our container although we could use other data structures. The index of this list will represent numbers.                                                                                                            "
   ]
  },
  {
   "cell_type": "markdown",
   "id": "069a8cd8",
   "metadata": {},
   "source": [
    "We have implemented a sieve function which will find all the prime numbers up to n. You will need to implement the functions which it calls. They are as follows:\n",
    "- list_true Make a list of true values of length n + 1 where the first two values are false (this corresponds with step 1 of the algorithm above)\n",
    "- mark_false takes a list of booleans and a number p. Mark all elements 2p,3p, ...n false (this corresponds with step 2 of the algorithm above)\n",
    "- find_next Find the smallest True element in a list which is greater than p (this corresponds with step 3 of the algorithm above)\n",
    "- prime_from_list Return indices of True values"
   ]
  },
  {
   "cell_type": "markdown",
   "id": "71c0f19f",
   "metadata": {},
   "source": [
    "Remember that python lists are zero indexed. We have provided assertions below to help you assess whether your functions are functioning properly."
   ]
  },
  {
   "cell_type": "code",
   "execution_count": null,
   "id": "721f9727",
   "metadata": {},
   "outputs": [],
   "source": []
  },
  {
   "cell_type": "code",
   "execution_count": 1,
   "id": "83a4b584",
   "metadata": {},
   "outputs": [],
   "source": [
    "def list_tru(n):\n",
    "    \n",
    "    \"\"\"\n",
    "    Return a list of Boolean of size n + 1 where the first and second values are FALSE\n",
    "        \n",
    "    \"\"\"  \n",
    "        # method 1\n",
    "#     table = [False if i < 2 else True for i in range(n + 1)]\n",
    "    \n",
    "         # method 2\n",
    "#     table = [True for i in range(n + 1)]\n",
    "#     table[0] = False\n",
    "#     table[1] = False\n",
    "    \n",
    "    return [False, False] + [True for i in range(2, n + 1)]\n",
    "    \n",
    "         # method 3\n",
    "#     for i in range(n + 1):\n",
    "#         if i < 2:\n",
    "#             table.append(False)\n",
    "#         else:\n",
    "#             table.append(True)\n",
    "            \n",
    "#     table + [range(n + 1)]\n",
    "\n",
    "    [True] * (n + 1)\n",
    "    table[0] = False\n",
    "    table[1] = False\n",
    "\n",
    "     \n",
    "            \n",
    "    return table"
   ]
  },
  {
   "cell_type": "code",
   "execution_count": 2,
   "id": "20ba3536",
   "metadata": {},
   "outputs": [
    {
     "data": {
      "text/plain": [
       "[False, False, True, True, True, True]"
      ]
     },
     "execution_count": 2,
     "metadata": {},
     "output_type": "execute_result"
    }
   ],
   "source": [
    "list_tru(5)"
   ]
  },
  {
   "cell_type": "code",
   "execution_count": 3,
   "id": "639387d9",
   "metadata": {},
   "outputs": [],
   "source": [
    "assert len(list_tru(20)) == 21\n",
    "assert list_tru(20)[0] == False\n",
    "assert list_tru(20)[1] == False"
   ]
  },
  {
   "cell_type": "markdown",
   "id": "073fa0df",
   "metadata": {},
   "source": [
    "Now we want to write a function which takes a list of elements and number p and marks the element false which are in the range 2p, 3p... N"
   ]
  },
  {
   "cell_type": "code",
   "execution_count": 48,
   "id": "e24fc816",
   "metadata": {},
   "outputs": [],
   "source": [
    "def make_false(bool_list, p):\n",
    "    \"\"\"Going to mark the multiples of a prime as False in our table\"\"\"\n",
    "    for multiple in range(2 * p, len(bool_list), p):\n",
    "        \n",
    "        # let's mark the multiple False\n",
    "        bool_list[multiple] = False\n",
    "        \n",
    "    return bool_list"
   ]
  },
  {
   "cell_type": "code",
   "execution_count": 49,
   "id": "76879e69",
   "metadata": {},
   "outputs": [],
   "source": [
    "assert make_false(list_tru(6), 2) == [False, False, True, True, False, True, False]"
   ]
  },
  {
   "cell_type": "markdown",
   "id": "ed757bc5",
   "metadata": {},
   "source": [
    "Now let's write a function find_next which returns the smallest element in a list which is not false and is greater than p"
   ]
  },
  {
   "cell_type": "code",
   "execution_count": 64,
   "id": "c19db1eb",
   "metadata": {},
   "outputs": [],
   "source": [
    "def find_next(bool_list, start_index):\n",
    "    for index, val in enumerate(bool_list[start_index + 1:]):\n",
    "        if val:\n",
    "            return index + start_index + 1\n",
    "        \n",
    "    return None\n",
    "    "
   ]
  },
  {
   "cell_type": "code",
   "execution_count": 7,
   "id": "74c64d98",
   "metadata": {},
   "outputs": [],
   "source": [
    "# checking enumerate\n",
    "for i,v in enumerate([True, True, True, True]):\n",
    "    pass\n",
    "    #print(i, v)"
   ]
  },
  {
   "cell_type": "code",
   "execution_count": 8,
   "id": "80efdef4",
   "metadata": {},
   "outputs": [],
   "source": [
    "assert find_nest([True, True, True, True], 2) == 3\n",
    "assert find_nest([True, True, True, False], 2) == None"
   ]
  },
  {
   "cell_type": "markdown",
   "id": "ddb146c0",
   "metadata": {},
   "source": [
    "Now given a list of True and False return the index of the true values"
   ]
  },
  {
   "cell_type": "code",
   "execution_count": 9,
   "id": "ebd74122",
   "metadata": {},
   "outputs": [],
   "source": [
    "# this method is not pythonic \n",
    "\n",
    "def prime_from_list(bool_list):\n",
    "    \n",
    "#    list_of_true_index = []\n",
    "#     for i in range(len(bool_list)):\n",
    "#         if bool_list[i]:\n",
    "#             list_of_true.append(i) \n",
    "            \n",
    "    return [i for i in range(len(bool_list)) if bool_list[i] ]"
   ]
  },
  {
   "cell_type": "code",
   "execution_count": 10,
   "id": "062a1b9c",
   "metadata": {},
   "outputs": [],
   "source": [
    "# This is more preferred\n",
    "def prime_from_list(bool_list):\n",
    "    \n",
    "#    list_of_true_index = []\n",
    "#     for i in range(len(bool_list)):\n",
    "#         if bool_list[i]:\n",
    "#             list_of_true.append(i) \n",
    "            \n",
    "    return [i for i, val in enumerate(bool_list) if val ]"
   ]
  },
  {
   "cell_type": "code",
   "execution_count": 11,
   "id": "1f4db3ae",
   "metadata": {},
   "outputs": [],
   "source": [
    "assert prime_from_list([False, False, True, True, False]) == [2, 3] "
   ]
  },
  {
   "cell_type": "code",
   "execution_count": null,
   "id": "b7d9958b",
   "metadata": {},
   "outputs": [],
   "source": []
  },
  {
   "cell_type": "code",
   "execution_count": 65,
   "id": "a50aac78",
   "metadata": {},
   "outputs": [],
   "source": [
    "def sieve_while(n):\n",
    "    \"\"\"Find the prime up to n\"\"\"\n",
    "    bool_list = list_tru(n)\n",
    "    p = 2\n",
    "    while p is not None:\n",
    "        bool_list = make_false(bool_list, p)\n",
    "        p = find_next(bool_list, p)\n",
    "    return prime_from_list(bool_list)\n",
    "    "
   ]
  },
  {
   "cell_type": "code",
   "execution_count": 66,
   "id": "8e81635a",
   "metadata": {},
   "outputs": [],
   "source": [
    "def sieve_for(n):\n",
    "    \"\"\"Find the prime up to n\"\"\"\n",
    "        \n",
    "    bool_list = list_tru(n)\n",
    "    #p = 2\n",
    "    \n",
    "    for p, val in enumerate(bool_list[2:]):\n",
    "        if val:\n",
    "            make_false(bool_list, p + 2)\n",
    "            \n",
    "    return prime_from_list(bool_list) "
   ]
  },
  {
   "cell_type": "code",
   "execution_count": 67,
   "id": "577a2db8",
   "metadata": {},
   "outputs": [],
   "source": [
    "assert sieve_while(1000) == sieve_for(1000)"
   ]
  },
  {
   "cell_type": "code",
   "execution_count": 72,
   "id": "39365b3c",
   "metadata": {},
   "outputs": [],
   "source": [
    "assert sieve(1000) == get_prime_fast(1000)"
   ]
  },
  {
   "cell_type": "code",
   "execution_count": 75,
   "id": "a91fd3eb",
   "metadata": {},
   "outputs": [
    {
     "name": "stdout",
     "output_type": "stream",
     "text": [
      "1.34 ms ± 163 µs per loop (mean ± std. dev. of 7 runs, 1,000 loops each)\n"
     ]
    }
   ],
   "source": [
    "%%timeit\n",
    "sieve(1000)"
   ]
  },
  {
   "cell_type": "code",
   "execution_count": 74,
   "id": "b67880e1",
   "metadata": {},
   "outputs": [
    {
     "name": "stdout",
     "output_type": "stream",
     "text": [
      "1.61 ms ± 42.3 µs per loop (mean ± std. dev. of 7 runs, 1,000 loops each)\n"
     ]
    }
   ],
   "source": [
    "%%timeit\n",
    "get_prime_fast(1000)"
   ]
  },
  {
   "cell_type": "code",
   "execution_count": 79,
   "id": "7dca4be6",
   "metadata": {},
   "outputs": [],
   "source": [
    "assert sieve(1000) == get_primes(1000)"
   ]
  },
  {
   "cell_type": "code",
   "execution_count": 80,
   "id": "38e44f29",
   "metadata": {},
   "outputs": [
    {
     "name": "stdout",
     "output_type": "stream",
     "text": [
      "7.35 ms ± 592 µs per loop (mean ± std. dev. of 7 runs, 100 loops each)\n"
     ]
    }
   ],
   "source": [
    "%%timeit\n",
    "get_primes(1000)"
   ]
  },
  {
   "cell_type": "code",
   "execution_count": null,
   "id": "b8c70b15",
   "metadata": {},
   "outputs": [],
   "source": []
  }
 ],
 "metadata": {
  "kernelspec": {
   "display_name": "Python 3 (ipykernel)",
   "language": "python",
   "name": "python3"
  },
  "language_info": {
   "codemirror_mode": {
    "name": "ipython",
    "version": 3
   },
   "file_extension": ".py",
   "mimetype": "text/x-python",
   "name": "python",
   "nbconvert_exporter": "python",
   "pygments_lexer": "ipython3",
   "version": "3.9.12"
  }
 },
 "nbformat": 4,
 "nbformat_minor": 5
}

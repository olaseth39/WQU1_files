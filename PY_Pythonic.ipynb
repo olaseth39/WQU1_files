{
 "cells": [
  {
   "cell_type": "code",
   "execution_count": 1,
   "id": "9cf3b637",
   "metadata": {},
   "outputs": [],
   "source": [
    "%matplotlib inline\n",
    "import matplotlib\n",
    "import seaborn as sns\n",
    "matplotlib.rcParams['savefig.dpi'] = 144"
   ]
  },
  {
   "cell_type": "code",
   "execution_count": 3,
   "id": "c2d0d358",
   "metadata": {},
   "outputs": [],
   "source": [
    "#import expectexception"
   ]
  },
  {
   "cell_type": "markdown",
   "id": "d0e958fe",
   "metadata": {},
   "source": [
    "## Pythonisms"
   ]
  },
  {
   "cell_type": "markdown",
   "id": "a36ce809",
   "metadata": {},
   "source": [
    "The things we will go over here\n",
    "\n",
    "- What is Pythonic?\n",
    "- Python $import$ system\n",
    "- Exceptions\n",
    "- How to debug Python"
   ]
  },
  {
   "cell_type": "markdown",
   "id": "8c56a3a2",
   "metadata": {},
   "source": [
    "Lets start by what we mean by the Python way of doing things"
   ]
  },
  {
   "cell_type": "markdown",
   "id": "c3341cfd",
   "metadata": {},
   "source": [
    "## Pythonic"
   ]
  },
  {
   "cell_type": "markdown",
   "id": "c6cc1242",
   "metadata": {},
   "source": [
    "Phythonic is a description for codes having allits bits written in a ways that obey Python code of conduct otherwise known as the zen of python.Python has an opionated way of doing things, mostly captured in the Zen of Python."
   ]
  },
  {
   "cell_type": "code",
   "execution_count": 5,
   "id": "f27f5c65",
   "metadata": {},
   "outputs": [
    {
     "name": "stdout",
     "output_type": "stream",
     "text": [
      "The Zen of Python, by Tim Peters\n",
      "\n",
      "Beautiful is better than ugly.\n",
      "Explicit is better than implicit.\n",
      "Simple is better than complex.\n",
      "Complex is better than complicated.\n",
      "Flat is better than nested.\n",
      "Sparse is better than dense.\n",
      "Readability counts.\n",
      "Special cases aren't special enough to break the rules.\n",
      "Although practicality beats purity.\n",
      "Errors should never pass silently.\n",
      "Unless explicitly silenced.\n",
      "In the face of ambiguity, refuse the temptation to guess.\n",
      "There should be one-- and preferably only one --obvious way to do it.\n",
      "Although that way may not be obvious at first unless you're Dutch.\n",
      "Now is better than never.\n",
      "Although never is often better than *right* now.\n",
      "If the implementation is hard to explain, it's a bad idea.\n",
      "If the implementation is easy to explain, it may be a good idea.\n",
      "Namespaces are one honking great idea -- let's do more of those!\n"
     ]
    }
   ],
   "source": [
    "# Zen of Python\n",
    "import this"
   ]
  },
  {
   "cell_type": "markdown",
   "id": "f720e08b",
   "metadata": {},
   "source": [
    "### Namespaces"
   ]
  },
  {
   "cell_type": "markdown",
   "id": "fa0b981d",
   "metadata": {},
   "source": [
    "They are ways or organizing the scope of various name"
   ]
  },
  {
   "cell_type": "markdown",
   "id": "e68dcbae",
   "metadata": {},
   "source": [
    "### Exceptions"
   ]
  },
  {
   "cell_type": "markdown",
   "id": "f35e4fe2",
   "metadata": {},
   "source": [
    "An exception is something that deviates from the norm. In Python it's no different, exceptions are when your program deviates from expected behavior. The Python interpreter will attempt to execute any code that it's given and when it can't, it will raise an Exception. For examle, lets try add anumber to a string. "
   ]
  },
  {
   "cell_type": "code",
   "execution_count": 3,
   "id": "c068cc40",
   "metadata": {},
   "outputs": [
    {
     "ename": "TypeError",
     "evalue": "unsupported operand type(s) for +: 'int' and 'str'",
     "output_type": "error",
     "traceback": [
      "\u001b[1;31m---------------------------------------------------------------------------\u001b[0m",
      "\u001b[1;31mTypeError\u001b[0m                                 Traceback (most recent call last)",
      "Input \u001b[1;32mIn [3]\u001b[0m, in \u001b[0;36m<cell line: 1>\u001b[1;34m()\u001b[0m\n\u001b[1;32m----> 1\u001b[0m \u001b[38;5;241;43m2\u001b[39;49m\u001b[43m \u001b[49m\u001b[38;5;241;43m+\u001b[39;49m\u001b[43m \u001b[49m\u001b[38;5;124;43m'\u001b[39;49m\u001b[38;5;124;43m3\u001b[39;49m\u001b[38;5;124;43m'\u001b[39;49m\n",
      "\u001b[1;31mTypeError\u001b[0m: unsupported operand type(s) for +: 'int' and 'str'"
     ]
    }
   ],
   "source": [
    "2 + '3'"
   ]
  },
  {
   "cell_type": "code",
   "execution_count": 4,
   "id": "fadebe00",
   "metadata": {},
   "outputs": [
    {
     "data": {
      "text/plain": [
       "5"
      ]
     },
     "execution_count": 4,
     "metadata": {},
     "output_type": "execute_result"
    }
   ],
   "source": [
    "2 + int('3')"
   ]
  },
  {
   "cell_type": "markdown",
   "id": "4b4fd3bf",
   "metadata": {},
   "source": [
    "We can see that this raises a TypeError because Python doesn't know how to add a string and an integer (Python will not coerce one of the values into a different type; remember the Zen of Python: 'In the face of ambiguity, refuse the temptation to guess'). Exceptions are often very readable and helpful to debug code, however, we can also write code to handle exceptions when they occur. Lets write a function which adds to things together(basically just another version of the add function) except it will catch the TypeError and do some conversion."
   ]
  },
  {
   "cell_type": "code",
   "execution_count": 5,
   "id": "2354e93a",
   "metadata": {},
   "outputs": [],
   "source": [
    "def add(x, y):\n",
    "    try:\n",
    "        return x + y\n",
    "    except TypeError:\n",
    "        return float(x) + float(y)"
   ]
  },
  {
   "cell_type": "markdown",
   "id": "ee3531dc",
   "metadata": {},
   "source": [
    "Now lets run something similar to the previous example"
   ]
  },
  {
   "cell_type": "code",
   "execution_count": 7,
   "id": "1539571b",
   "metadata": {},
   "outputs": [
    {
     "data": {
      "text/plain": [
       "7.0"
      ]
     },
     "execution_count": 7,
     "metadata": {},
     "output_type": "execute_result"
    }
   ],
   "source": [
    "add(5, '2')"
   ]
  },
  {
   "cell_type": "code",
   "execution_count": 9,
   "id": "fb7675a9",
   "metadata": {},
   "outputs": [
    {
     "ename": "ValueError",
     "evalue": "could not convert string to float: 'a'",
     "output_type": "error",
     "traceback": [
      "\u001b[1;31m---------------------------------------------------------------------------\u001b[0m",
      "\u001b[1;31mTypeError\u001b[0m                                 Traceback (most recent call last)",
      "Input \u001b[1;32mIn [5]\u001b[0m, in \u001b[0;36madd\u001b[1;34m(x, y)\u001b[0m\n\u001b[0;32m      2\u001b[0m \u001b[38;5;28;01mtry\u001b[39;00m:\n\u001b[1;32m----> 3\u001b[0m     \u001b[38;5;28;01mreturn\u001b[39;00m \u001b[43mx\u001b[49m\u001b[43m \u001b[49m\u001b[38;5;241;43m+\u001b[39;49m\u001b[43m \u001b[49m\u001b[43my\u001b[49m\n\u001b[0;32m      4\u001b[0m \u001b[38;5;28;01mexcept\u001b[39;00m \u001b[38;5;167;01mTypeError\u001b[39;00m:\n",
      "\u001b[1;31mTypeError\u001b[0m: unsupported operand type(s) for +: 'int' and 'str'",
      "\nDuring handling of the above exception, another exception occurred:\n",
      "\u001b[1;31mValueError\u001b[0m                                Traceback (most recent call last)",
      "Input \u001b[1;32mIn [9]\u001b[0m, in \u001b[0;36m<cell line: 1>\u001b[1;34m()\u001b[0m\n\u001b[1;32m----> 1\u001b[0m \u001b[43madd\u001b[49m\u001b[43m(\u001b[49m\u001b[38;5;241;43m5\u001b[39;49m\u001b[43m,\u001b[49m\u001b[43m \u001b[49m\u001b[38;5;124;43m'\u001b[39;49m\u001b[38;5;124;43ma\u001b[39;49m\u001b[38;5;124;43m'\u001b[39;49m\u001b[43m)\u001b[49m\n",
      "Input \u001b[1;32mIn [5]\u001b[0m, in \u001b[0;36madd\u001b[1;34m(x, y)\u001b[0m\n\u001b[0;32m      3\u001b[0m     \u001b[38;5;28;01mreturn\u001b[39;00m x \u001b[38;5;241m+\u001b[39m y\n\u001b[0;32m      4\u001b[0m \u001b[38;5;28;01mexcept\u001b[39;00m \u001b[38;5;167;01mTypeError\u001b[39;00m:\n\u001b[1;32m----> 5\u001b[0m     \u001b[38;5;28;01mreturn\u001b[39;00m \u001b[38;5;28mfloat\u001b[39m(x) \u001b[38;5;241m+\u001b[39m \u001b[38;5;28;43mfloat\u001b[39;49m\u001b[43m(\u001b[49m\u001b[43my\u001b[49m\u001b[43m)\u001b[49m\n",
      "\u001b[1;31mValueError\u001b[0m: could not convert string to float: 'a'"
     ]
    }
   ],
   "source": [
    "add(5, 'a')"
   ]
  },
  {
   "cell_type": "markdown",
   "id": "e431ca7f",
   "metadata": {},
   "source": [
    "Note that you should not leave the \"except\" bare without the exception you want to catch as Python uses Exceptions for all sorts of things(sometimes even exiting programs) and you don't want to catch Exceptions which Python is usin for a different purpose. Think of Exception handling as handling the small probability thins that will happen in your code, not as a tool to anticipate anything.\n"
   ]
  },
  {
   "cell_type": "markdown",
   "id": "0fdb1d73",
   "metadata": {},
   "source": [
    "We have seen exceptions but what are the alternative? One option, used languaes is to test ahead of time that conditions necessary to proceed are met. We can rewrite the add function in a different way."
   ]
  },
  {
   "cell_type": "code",
   "execution_count": 10,
   "id": "8ee31d73",
   "metadata": {},
   "outputs": [],
   "source": [
    "def add_2(x, y):\n",
    "    if not isinstance(x, (int, float)):\n",
    "        x = float(x)\n",
    "    if not isinstance(y, (float, int)):\n",
    "        y = float(y)\n",
    "    return x + y"
   ]
  },
  {
   "cell_type": "code",
   "execution_count": 11,
   "id": "2396a04b",
   "metadata": {},
   "outputs": [
    {
     "data": {
      "text/plain": [
       "5.0"
      ]
     },
     "execution_count": 11,
     "metadata": {},
     "output_type": "execute_result"
    }
   ],
   "source": [
    "add_2(2, '3')"
   ]
  },
  {
   "cell_type": "markdown",
   "id": "aa0db8d8",
   "metadata": {},
   "source": [
    "Debugging"
   ]
  },
  {
   "cell_type": "markdown",
   "id": "767f6790",
   "metadata": {},
   "source": [
    "#### Exercise"
   ]
  },
  {
   "cell_type": "markdown",
   "id": "ca0897a2",
   "metadata": {},
   "source": [
    "Run the following bits of code in new cells and determine the error, fix the errors in a sensible way"
   ]
  },
  {
   "cell_type": "code",
   "execution_count": 12,
   "id": "2a82cf03",
   "metadata": {},
   "outputs": [
    {
     "ename": "TypeError",
     "evalue": "float() argument must be a string or a number, not 'list'",
     "output_type": "error",
     "traceback": [
      "\u001b[1;31m---------------------------------------------------------------------------\u001b[0m",
      "\u001b[1;31mTypeError\u001b[0m                                 Traceback (most recent call last)",
      "Input \u001b[1;32mIn [12]\u001b[0m, in \u001b[0;36m<cell line: 1>\u001b[1;34m()\u001b[0m\n\u001b[1;32m----> 1\u001b[0m \u001b[38;5;28;43mfloat\u001b[39;49m\u001b[43m(\u001b[49m\u001b[43m[\u001b[49m\u001b[38;5;241;43m1\u001b[39;49m\u001b[43m]\u001b[49m\u001b[43m)\u001b[49m\n",
      "\u001b[1;31mTypeError\u001b[0m: float() argument must be a string or a number, not 'list'"
     ]
    }
   ],
   "source": [
    "float([1])"
   ]
  },
  {
   "cell_type": "code",
   "execution_count": 13,
   "id": "296cb77e",
   "metadata": {},
   "outputs": [
    {
     "data": {
      "text/plain": [
       "1.0"
      ]
     },
     "execution_count": 13,
     "metadata": {},
     "output_type": "execute_result"
    }
   ],
   "source": [
    "float(1)"
   ]
  },
  {
   "cell_type": "code",
   "execution_count": 14,
   "id": "62c14b57",
   "metadata": {},
   "outputs": [
    {
     "ename": "IndexError",
     "evalue": "list index out of range",
     "output_type": "error",
     "traceback": [
      "\u001b[1;31m---------------------------------------------------------------------------\u001b[0m",
      "\u001b[1;31mIndexError\u001b[0m                                Traceback (most recent call last)",
      "Input \u001b[1;32mIn [14]\u001b[0m, in \u001b[0;36m<cell line: 2>\u001b[1;34m()\u001b[0m\n\u001b[0;32m      1\u001b[0m a \u001b[38;5;241m=\u001b[39m []\n\u001b[1;32m----> 2\u001b[0m \u001b[43ma\u001b[49m\u001b[43m[\u001b[49m\u001b[38;5;241;43m1\u001b[39;49m\u001b[43m]\u001b[49m\n",
      "\u001b[1;31mIndexError\u001b[0m: list index out of range"
     ]
    }
   ],
   "source": [
    "a = []\n",
    "a[1]"
   ]
  },
  {
   "cell_type": "code",
   "execution_count": null,
   "id": "fe4b46b2",
   "metadata": {},
   "outputs": [],
   "source": [
    "try:\n",
    "    a = []\n",
    "    return a[n]"
   ]
  }
 ],
 "metadata": {
  "kernelspec": {
   "display_name": "Python 3 (ipykernel)",
   "language": "python",
   "name": "python3"
  },
  "language_info": {
   "codemirror_mode": {
    "name": "ipython",
    "version": 3
   },
   "file_extension": ".py",
   "mimetype": "text/x-python",
   "name": "python",
   "nbconvert_exporter": "python",
   "pygments_lexer": "ipython3",
   "version": "3.9.12"
  }
 },
 "nbformat": 4,
 "nbformat_minor": 5
}

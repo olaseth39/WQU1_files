{
 "cells": [
  {
   "cell_type": "code",
   "execution_count": 2,
   "id": "38555872",
   "metadata": {},
   "outputs": [],
   "source": [
    "%matplotlib inline\n",
    "import matplotlib\n",
    "import matplotlib.pyplot as plt\n",
    "import seaborn as sns\n",
    "matplotlib.rcParams['savefig.dpi'] = 144"
   ]
  },
  {
   "cell_type": "markdown",
   "id": "236521d5",
   "metadata": {},
   "source": [
    "# Object Oriented Programming\n",
    "\n",
    "Object is an instance(or copy) of a class with values. It is anything we can store in a variable. We can have objects with different $type$. We might also call an object's $type$ its class."
   ]
  },
  {
   "cell_type": "code",
   "execution_count": 13,
   "id": "4585a61f",
   "metadata": {},
   "outputs": [
    {
     "name": "stdout",
     "output_type": "stream",
     "text": [
      "Abiola is an object of <class 'str'>\n",
      "47 is an object of <class 'float'>\n",
      "{'name': 'Seth', 'level': 'Senior'} is a type of <class 'dict'>\n"
     ]
    }
   ],
   "source": [
    "name = \"Abiola\"\n",
    "print('%s is an object of %s' % (name, type(name)))\n",
    "\n",
    "x = 47.55\n",
    "print('%d is an object of %s' % (x, type(x)))\n",
    "\n",
    "x = {'name': 'Seth', 'level': 'Senior'}\n",
    "print('%s is a type of %s' % (x, type(x)))"
   ]
  },
  {
   "cell_type": "code",
   "execution_count": 11,
   "id": "1d5595f5",
   "metadata": {},
   "outputs": [
    {
     "data": {
      "text/plain": [
       "0"
      ]
     },
     "execution_count": 11,
     "metadata": {},
     "output_type": "execute_result"
    }
   ],
   "source": [
    "x.get('key', 0)"
   ]
  },
  {
   "cell_type": "markdown",
   "id": "efc8a9e5",
   "metadata": {},
   "source": [
    "We already know that integers, strings and dictionaries behave differently. They have different properties and capabilities. In programming, generally, we say they have different attributes and methods."
   ]
  },
  {
   "cell_type": "code",
   "execution_count": 18,
   "id": "e81fadbb",
   "metadata": {},
   "outputs": [
    {
     "name": "stdout",
     "output_type": "stream",
     "text": [
      "5.0\n",
      "3.0\n"
     ]
    }
   ],
   "source": [
    "# A complex number has the real and imaginary part.\n",
    "\n",
    "x = complex(5, 3)\n",
    "print(x.real)\n",
    "print(x.imag)"
   ]
  },
  {
   "cell_type": "markdown",
   "id": "f426bc44",
   "metadata": {},
   "source": [
    "### Classes\n",
    "\n",
    "A class is a blueprint of how an object should be like"
   ]
  },
  {
   "cell_type": "markdown",
   "id": "143bc30f",
   "metadata": {},
   "source": [
    "Note:\n",
    "1. Methods means the functions that are bound to an object\n",
    "2. Attributes means variables that are bound to an object"
   ]
  },
  {
   "cell_type": "code",
   "execution_count": 32,
   "id": "6a5baf05",
   "metadata": {},
   "outputs": [],
   "source": [
    "class Rational():\n",
    "    def __init__(self, numerator, denominator):\n",
    "        self.numerator = numerator\n",
    "        self.denominator = denominator\n",
    "    \n",
    "    def __repr__(self):\n",
    "        return '%d/%d' % (self.numerator, self.denominator)"
   ]
  },
  {
   "cell_type": "code",
   "execution_count": 34,
   "id": "82aa1e92",
   "metadata": {},
   "outputs": [
    {
     "data": {
      "text/plain": [
       "4/5"
      ]
     },
     "execution_count": 34,
     "metadata": {},
     "output_type": "execute_result"
    }
   ],
   "source": [
    "fraction = Rational(4, 5)\n",
    "fraction"
   ]
  },
  {
   "cell_type": "markdown",
   "id": "3d8bae1a",
   "metadata": {},
   "source": [
    "__repr__ means representation"
   ]
  },
  {
   "cell_type": "code",
   "execution_count": 37,
   "id": "4648f8a1",
   "metadata": {},
   "outputs": [
    {
     "data": {
      "text/plain": [
       "4"
      ]
     },
     "execution_count": 37,
     "metadata": {},
     "output_type": "execute_result"
    }
   ],
   "source": [
    "dict_num = {1, 2, 3, 4}\n",
    "check = {i for i in dict_num }\n",
    "max(check)"
   ]
  },
  {
   "cell_type": "code",
   "execution_count": 2,
   "id": "892bed85",
   "metadata": {},
   "outputs": [],
   "source": [
    "class Relational():\n",
    "    def __init__(self, numerator, denominator):\n",
    "        self.numerator = numerator\n",
    "        self.denominator = denominator\n",
    "    \n",
    "    def _gcd(self):\n",
    "        small_val = min(self.numerator, self.denominator)\n",
    "        big_val = max(self.numerator, self.denominator)\n",
    "        small_val_fac = {i for i in range(1, small_val + 1) if small_val % i == 0}\n",
    "        common = max({i for i in small_val_fac if big_val % i == 0 })\n",
    "        return common\n",
    "    \n",
    "    def fraction(self):\n",
    "        factor = self._gcd()\n",
    "        self.numerator = self.numerator / factor\n",
    "        self.denominator = self.denominator / factor\n",
    "        return self\n",
    "    \n",
    "    def __repr__(self):\n",
    "        return '%d/%d' % (self.numerator, self.denominator)"
   ]
  },
  {
   "cell_type": "code",
   "execution_count": 3,
   "id": "77abdd34",
   "metadata": {},
   "outputs": [
    {
     "data": {
      "text/plain": [
       "1/3"
      ]
     },
     "execution_count": 3,
     "metadata": {},
     "output_type": "execute_result"
    }
   ],
   "source": [
    "value = Relational(4,12)\n",
    "value.fraction()\n"
   ]
  },
  {
   "cell_type": "markdown",
   "id": "337f5414",
   "metadata": {},
   "source": [
    "We are gradually building up functionality for Rational clas, but it has a huge problem, we can't do maths with it yet."
   ]
  },
  {
   "cell_type": "code",
   "execution_count": 4,
   "id": "889b0bc2",
   "metadata": {},
   "outputs": [
    {
     "ename": "TypeError",
     "evalue": "unsupported operand type(s) for *: 'int' and 'Relational'",
     "output_type": "error",
     "traceback": [
      "\u001b[1;31m---------------------------------------------------------------------------\u001b[0m",
      "\u001b[1;31mTypeError\u001b[0m                                 Traceback (most recent call last)",
      "Input \u001b[1;32mIn [4]\u001b[0m, in \u001b[0;36m<cell line: 1>\u001b[1;34m()\u001b[0m\n\u001b[1;32m----> 1\u001b[0m \u001b[38;5;28mprint\u001b[39m(\u001b[38;5;241;43m4\u001b[39;49m\u001b[43m \u001b[49m\u001b[38;5;241;43m*\u001b[39;49m\u001b[43m \u001b[49m\u001b[43mvalue\u001b[49m)\n",
      "\u001b[1;31mTypeError\u001b[0m: unsupported operand type(s) for *: 'int' and 'Relational'"
     ]
    }
   ],
   "source": [
    "print(4 * value)"
   ]
  },
  {
   "cell_type": "markdown",
   "id": "9622e72b",
   "metadata": {},
   "source": [
    "If we look at dir(int) we see it has hidden methods __add__, __sub__, __div__, __mul__ etc"
   ]
  },
  {
   "cell_type": "code",
   "execution_count": 6,
   "id": "e43776bb",
   "metadata": {
    "scrolled": true
   },
   "outputs": [
    {
     "name": "stdout",
     "output_type": "stream",
     "text": [
      "['__abs__', '__add__', '__and__', '__bool__', '__ceil__', '__class__', '__delattr__', '__dir__', '__divmod__', '__doc__', '__eq__', '__float__', '__floor__', '__floordiv__', '__format__', '__ge__', '__getattribute__', '__getnewargs__', '__gt__', '__hash__', '__index__', '__init__', '__init_subclass__', '__int__', '__invert__', '__le__', '__lshift__', '__lt__', '__mod__', '__mul__', '__ne__', '__neg__', '__new__', '__or__', '__pos__', '__pow__', '__radd__', '__rand__', '__rdivmod__', '__reduce__', '__reduce_ex__', '__repr__', '__rfloordiv__', '__rlshift__', '__rmod__', '__rmul__', '__ror__', '__round__', '__rpow__', '__rrshift__', '__rshift__', '__rsub__', '__rtruediv__', '__rxor__', '__setattr__', '__sizeof__', '__str__', '__sub__', '__subclasshook__', '__truediv__', '__trunc__', '__xor__', 'as_integer_ratio', 'bit_length', 'conjugate', 'denominator', 'from_bytes', 'imag', 'numerator', 'real', 'to_bytes']\n"
     ]
    }
   ],
   "source": [
    "print(dir(int))"
   ]
  },
  {
   "cell_type": "markdown",
   "id": "48f8d813",
   "metadata": {},
   "source": [
    "This hiddle method tells python how to matematical operatord just like $ __repr__ $ tells python how to print out our object "
   ]
  },
  {
   "cell_type": "markdown",
   "id": "c609b99f",
   "metadata": {},
   "source": [
    "Let's add methods implementing mathematics operations to our class. To perform addition and subtraction, we have to find a common denominator with the number we are adding. Let's start with multiplication."
   ]
  },
  {
   "cell_type": "code",
   "execution_count": 72,
   "id": "72cd5c3b",
   "metadata": {},
   "outputs": [],
   "source": [
    "class Rational():\n",
    "    def __init__(self, numerator, denominator):\n",
    "        self.numerator = numerator\n",
    "        self.denominator = denominator\n",
    "        \n",
    "    def __repr__(self):\n",
    "        return '%d/%d' % (self.numerator, self.denominator)\n",
    "    \n",
    "    def __mul__(self, multiplier):\n",
    "        if isinstance(multiplier, (int, Rational)):\n",
    "             return Rational(self.numerator * multiplier.numerator, self.denominator * multiplier.denominator)\n",
    "#         elif isinstance(multiplier, Rational):\n",
    "#             return Rational(multiplier.numerator * self.numerator, multiplier.numerator * self.denominator)\n",
    "        else:\n",
    "            raise Exception(\"Number must be of class int but %s was given\" % (type(multiplier)))\n",
    "            \n",
    "    def __rmul__(self, multiplier):\n",
    "        return self.__mul__(multiplier)\n",
    "    \n",
    "    def _gcd(self):\n",
    "        small_val = min(self.numerator, self.denominator)\n",
    "        big_val = max(self.numerator, self.denominator)\n",
    "        small_val_fac = {i for i in range(1, small_val + 1) if small_val % i == 0}\n",
    "        common = max({i for i in small_val_fac if big_val % i == 0 })\n",
    "        return common\n",
    "    \n",
    "    def fraction(self):\n",
    "        factor = self._gcd()\n",
    "        self.numerator = self.numerator / factor\n",
    "        self.denominator = self.denominator / factor\n",
    "        return self\n",
    "    \n",
    "    "
   ]
  },
  {
   "cell_type": "code",
   "execution_count": 73,
   "id": "b8dc861a",
   "metadata": {},
   "outputs": [
    {
     "data": {
      "text/plain": [
       "6/6"
      ]
     },
     "execution_count": 73,
     "metadata": {},
     "output_type": "execute_result"
    }
   ],
   "source": [
    "Rational(2,3) * Rational(3,2)\n"
   ]
  },
  {
   "cell_type": "markdown",
   "id": "031bd948",
   "metadata": {},
   "source": [
    "print(type(5/7))"
   ]
  },
  {
   "cell_type": "code",
   "execution_count": null,
   "id": "c41a3d71",
   "metadata": {},
   "outputs": [],
   "source": []
  },
  {
   "cell_type": "markdown",
   "id": "fe6032e8",
   "metadata": {},
   "source": [
    "### When do we use Classes"
   ]
  },
  {
   "cell_type": "markdown",
   "id": "c1f7ed07",
   "metadata": {},
   "source": [
    "When we want to perform a set of related task, especially in repition, we usually want to define a new class. We will see that in most of the third-parties libraries we will use. The major tools they introducce to Python are new classes. "
   ]
  },
  {
   "cell_type": "code",
   "execution_count": null,
   "id": "6d839502",
   "metadata": {},
   "outputs": [],
   "source": []
  },
  {
   "cell_type": "markdown",
   "id": "a7c9cd84",
   "metadata": {},
   "source": [
    "### Inheritance"
   ]
  },
  {
   "cell_type": "code",
   "execution_count": 13,
   "id": "a69d2b6e",
   "metadata": {},
   "outputs": [],
   "source": [
    "class Rectangle():\n",
    "    def __init__(self, length, breadth):\n",
    "        self.length = length\n",
    "        self.breadth = breadth\n",
    "        \n",
    "    def area(self):\n",
    "        return self.length * self.breadth\n",
    "    \n",
    "    def perimeter(self):\n",
    "        return 2 * (self.length + self.breadth)"
   ]
  },
  {
   "cell_type": "code",
   "execution_count": 4,
   "id": "0abdd39c",
   "metadata": {},
   "outputs": [
    {
     "data": {
      "text/plain": [
       "8"
      ]
     },
     "execution_count": 4,
     "metadata": {},
     "output_type": "execute_result"
    }
   ],
   "source": [
    "Rectangle(4, 2).area()"
   ]
  },
  {
   "cell_type": "markdown",
   "id": "b2d905a6",
   "metadata": {},
   "source": [
    "Now a Square is a type of Rectangle but is somewhat more restricted in that it has the same breadth as length, so we can Subclass Rectangle and enforce this in code"
   ]
  },
  {
   "cell_type": "code",
   "execution_count": 14,
   "id": "a1166149",
   "metadata": {},
   "outputs": [],
   "source": [
    "class Square(Rectangle):\n",
    "    def __init__(self, length):\n",
    "        Rectangle.__init__(self, length, length)"
   ]
  },
  {
   "cell_type": "code",
   "execution_count": 15,
   "id": "b6623360",
   "metadata": {},
   "outputs": [
    {
     "data": {
      "text/plain": [
       "(25, 20)"
      ]
     },
     "execution_count": 15,
     "metadata": {},
     "output_type": "execute_result"
    }
   ],
   "source": [
    "s = Square(5)\n",
    "s.area(), s.perimeter()"
   ]
  },
  {
   "cell_type": "markdown",
   "id": "9ba50115",
   "metadata": {},
   "source": [
    "Sometimes (although not often) we want to actually check the type of a python object(what class is it from). There are two ways of doing this, lets first look at a few example to get a sense of the difference."
   ]
  },
  {
   "cell_type": "code",
   "execution_count": 16,
   "id": "b4bd601c",
   "metadata": {},
   "outputs": [
    {
     "data": {
      "text/plain": [
       "True"
      ]
     },
     "execution_count": 16,
     "metadata": {},
     "output_type": "execute_result"
    }
   ],
   "source": [
    "type(s) == Square"
   ]
  },
  {
   "cell_type": "code",
   "execution_count": 17,
   "id": "ef45f508",
   "metadata": {},
   "outputs": [
    {
     "data": {
      "text/plain": [
       "False"
      ]
     },
     "execution_count": 17,
     "metadata": {},
     "output_type": "execute_result"
    }
   ],
   "source": [
    "type(s) == Rectangle"
   ]
  },
  {
   "cell_type": "code",
   "execution_count": 19,
   "id": "062260a4",
   "metadata": {},
   "outputs": [
    {
     "data": {
      "text/plain": [
       "True"
      ]
     },
     "execution_count": 19,
     "metadata": {},
     "output_type": "execute_result"
    }
   ],
   "source": [
    "isinstance(s, Rectangle)"
   ]
  },
  {
   "cell_type": "markdown",
   "id": "f7b7fa62",
   "metadata": {},
   "source": [
    "### Questions"
   ]
  },
  {
   "cell_type": "markdown",
   "id": "c8bd1b2c",
   "metadata": {},
   "source": [
    "What are some built-in Python objects that might inherit from the same parent class?"
   ]
  },
  {
   "cell_type": "code",
   "execution_count": null,
   "id": "a447ff0c",
   "metadata": {},
   "outputs": [],
   "source": []
  },
  {
   "cell_type": "code",
   "execution_count": null,
   "id": "b06afe30",
   "metadata": {},
   "outputs": [],
   "source": []
  },
  {
   "cell_type": "code",
   "execution_count": 81,
   "id": "9420aede",
   "metadata": {},
   "outputs": [],
   "source": [
    "class Node:\n",
    "    def __init__(self, data=None, next=None):\n",
    "        self.data = data\n",
    "        self.next = next\n",
    "\n",
    "\n",
    "class LinkedList:\n",
    "    def __init__(self):\n",
    "        self.head = None\n",
    "\n",
    "    def insert_at_the_beginning(self, data):\n",
    "        node = Node(data, self.head)\n",
    "        self.head = node\n",
    "        return self\n",
    "\n",
    "    def result(self):\n",
    "        if self.head is None:\n",
    "            print(\"Linked list is empty\")\n",
    "\n",
    "        ttr = self.head\n",
    "        ll = \"\"\n",
    "        while ttr:\n",
    "            ll += str(ttr.data) + '=>'\n",
    "            ttr = ttr.next\n",
    "\n",
    "        print(ll)\n",
    "        print(dir(ttr))\n",
    "\n"
   ]
  },
  {
   "cell_type": "code",
   "execution_count": 82,
   "id": "f74218f1",
   "metadata": {},
   "outputs": [
    {
     "name": "stdout",
     "output_type": "stream",
     "text": [
      "20=>6=>\n",
      "['__bool__', '__class__', '__delattr__', '__dir__', '__doc__', '__eq__', '__format__', '__ge__', '__getattribute__', '__gt__', '__hash__', '__init__', '__init_subclass__', '__le__', '__lt__', '__ne__', '__new__', '__reduce__', '__reduce_ex__', '__repr__', '__setattr__', '__sizeof__', '__str__', '__subclasshook__']\n"
     ]
    }
   ],
   "source": [
    "ll_ = LinkedList()\n",
    "ll_.insert_at_the_beginning(6)\n",
    "ll_.insert_at_the_beginning(20)\n",
    "ll_.result()"
   ]
  },
  {
   "cell_type": "code",
   "execution_count": null,
   "id": "01f9194a",
   "metadata": {},
   "outputs": [],
   "source": []
  }
 ],
 "metadata": {
  "kernelspec": {
   "display_name": "Python 3 (ipykernel)",
   "language": "python",
   "name": "python3"
  },
  "language_info": {
   "codemirror_mode": {
    "name": "ipython",
    "version": 3
   },
   "file_extension": ".py",
   "mimetype": "text/x-python",
   "name": "python",
   "nbconvert_exporter": "python",
   "pygments_lexer": "ipython3",
   "version": "3.9.12"
  }
 },
 "nbformat": 4,
 "nbformat_minor": 5
}

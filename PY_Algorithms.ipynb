{
 "cells": [
  {
   "cell_type": "markdown",
   "id": "66fec17b",
   "metadata": {},
   "source": [
    "## Algorithms"
   ]
  },
  {
   "cell_type": "markdown",
   "id": "23f1d0bc",
   "metadata": {},
   "source": [
    "Programming is not only about making the computer do work for us, it about optimising the amount of work the computer needs to do. There are multiple types of work we can consider but here we will consider three major bottlenecks in our codes.\n",
    "\n",
    "1. Computational Complexity : how many instructions are executed?\n",
    "2. Memory needs : how much memory is needed?\n",
    "3. I/O : how many reads and writes or network requests do I need to make ? "
   ]
  },
  {
   "cell_type": "markdown",
   "id": "b4706783",
   "metadata": {},
   "source": [
    "An algorithm is a procedure for solving a problem. It describes a sequence of operations that when performed will result into the solution of the problem. Often we are interested in understanding the performance of an algorithm in terms of the three bottlenecks listed above (as well as others). In other to understand this algorithm we need to develope some tools to understand how the algorithms behave as a function of the problem size."
   ]
  },
  {
   "cell_type": "markdown",
   "id": "e6a01aac",
   "metadata": {},
   "source": [
    "### Big O"
   ]
  },
  {
   "cell_type": "markdown",
   "id": "e03cb64a",
   "metadata": {},
   "source": [
    "In other to quantify the complexity of a particular algorithm, we can quantify how the algorithm grows with respect to the size of the problem. For the purposes of this notebook we will only consider problems that are one dimensional, so we an quantify the algorithm with respect to a single number denoted as $N$. Remember that a  problem itself does not have a complexity, rather it is the algorithm solution which has complexity. For example, let's consider the problem of summing all the numbers between 1 and $N$(inclusive). One way to solve this might be to take the sum of all the numbers.\n",
    "$$ \\mathcal{O}(N) $$"
   ]
  },
  {
   "cell_type": "code",
   "execution_count": 43,
   "id": "c7a9d50d",
   "metadata": {},
   "outputs": [
    {
     "data": {
      "text/plain": [
       "50005000"
      ]
     },
     "execution_count": 43,
     "metadata": {},
     "output_type": "execute_result"
    }
   ],
   "source": [
    "import numpy as np\n",
    "\n",
    "def sum_all(N):\n",
    "    sum_ = 0\n",
    "    times = []\n",
    "    ts = time.time()\n",
    "    for n in range(N + 1):\n",
    "        sum_ += n\n",
    "        times.append(time.time() - ts)\n",
    "    return sum_\n",
    "\n",
    "sum_all(10000)"
   ]
  },
  {
   "cell_type": "code",
   "execution_count": 36,
   "id": "b7efd38a",
   "metadata": {},
   "outputs": [],
   "source": [
    "#dir(np)"
   ]
  },
  {
   "cell_type": "markdown",
   "id": "c0cb6851",
   "metadata": {},
   "source": [
    "Because we need to perform $N$ operation, the complexity is $ \\mathcal{O}(N) $. Note that we only care about the dominant function of $N$ in the expansion so for our purposes $O(N) \\approx O(N + 1) \\approx O(2N)$"
   ]
  },
  {
   "cell_type": "markdown",
   "id": "0f4936a6",
   "metadata": {},
   "source": [
    "However if we have a rethink about how number sums, we can invoke a summation rule often attributed to Gauss which says that \n",
    "$$ \\sum_{n=1}^{N} n = \\frac {N(N+1)}{2} $$"
   ]
  },
  {
   "cell_type": "code",
   "execution_count": 1,
   "id": "b289ef7f",
   "metadata": {},
   "outputs": [],
   "source": [
    "def sum_form(N):\n",
    "    return N * (N + 1) // 2"
   ]
  },
  {
   "cell_type": "code",
   "execution_count": 4,
   "id": "187a4015",
   "metadata": {},
   "outputs": [
    {
     "data": {
      "text/plain": [
       "15"
      ]
     },
     "execution_count": 4,
     "metadata": {},
     "output_type": "execute_result"
    }
   ],
   "source": [
    "sum_form(5)"
   ]
  },
  {
   "cell_type": "markdown",
   "id": "e8b68712",
   "metadata": {},
   "source": [
    "Because the function sum_form does not depend on the size of $N$ unlike function sum_all, its complexity is of the order $ \\mathcal {O}(1)$. As it has only one command which makes it linear."
   ]
  },
  {
   "cell_type": "markdown",
   "id": "469300a0",
   "metadata": {},
   "source": [
    "Let's just check that both functions give the same answer"
   ]
  },
  {
   "cell_type": "code",
   "execution_count": 5,
   "id": "4db3ea23",
   "metadata": {},
   "outputs": [],
   "source": [
    "for N in range(100):\n",
    "    assert sum_all(N) == sum_form(N)"
   ]
  },
  {
   "cell_type": "markdown",
   "id": "3cda333a",
   "metadata": {},
   "source": [
    "Now let's plot the time it takes to computes these functions as a function of N"
   ]
  },
  {
   "cell_type": "code",
   "execution_count": 3,
   "id": "b4d91116",
   "metadata": {},
   "outputs": [],
   "source": [
    "import matplotlib.pyplot as plt\n",
    "import seaborn as sns\n",
    "import time\n",
    "sns.set()"
   ]
  },
  {
   "cell_type": "code",
   "execution_count": 7,
   "id": "b64f4fba",
   "metadata": {},
   "outputs": [
    {
     "data": {
      "text/plain": [
       "1657630793.6725368"
      ]
     },
     "execution_count": 7,
     "metadata": {},
     "output_type": "execute_result"
    }
   ],
   "source": [
    "ts = time.time()\n",
    "ts"
   ]
  },
  {
   "cell_type": "code",
   "execution_count": 8,
   "id": "20947cde",
   "metadata": {},
   "outputs": [
    {
     "data": {
      "text/plain": [
       "134.8733901977539"
      ]
     },
     "execution_count": 8,
     "metadata": {},
     "output_type": "execute_result"
    }
   ],
   "source": [
    "(time.time() - ts) * 1000"
   ]
  },
  {
   "cell_type": "code",
   "execution_count": 9,
   "id": "0d122c4a",
   "metadata": {},
   "outputs": [
    {
     "data": {
      "text/plain": [
       "20"
      ]
     },
     "execution_count": 9,
     "metadata": {},
     "output_type": "execute_result"
    }
   ],
   "source": [
    "container = []\n",
    "for n in range(10, 100000, 5000):\n",
    "    container.append(n)\n",
    "    \n",
    "len(container)"
   ]
  },
  {
   "cell_type": "code",
   "execution_count": 10,
   "id": "d287dba6",
   "metadata": {},
   "outputs": [
    {
     "data": {
      "text/plain": [
       "210"
      ]
     },
     "execution_count": 10,
     "metadata": {},
     "output_type": "execute_result"
    }
   ],
   "source": [
    "sum_form(20)"
   ]
  },
  {
   "cell_type": "code",
   "execution_count": 6,
   "id": "ebb2d746",
   "metadata": {},
   "outputs": [
    {
     "name": "stdout",
     "output_type": "stream",
     "text": [
      "5\n",
      "5\n",
      "5\n",
      "5\n",
      "5\n"
     ]
    }
   ],
   "source": [
    "for _ in range(5):\n",
    "    print(5)"
   ]
  },
  {
   "cell_type": "code",
   "execution_count": 49,
   "id": "b953bb7a",
   "metadata": {},
   "outputs": [],
   "source": [
    "# for _ in range(15):\n",
    "#     ts = time.time()\n",
    "#         #func(N)\n",
    "#     print(sum_all(5))\n",
    "\n",
    "# for N in range(5, 20, 4 ):\n",
    "#     for _ in range(15):\n",
    "#         print(sum_all(5))"
   ]
  },
  {
   "cell_type": "code",
   "execution_count": 48,
   "id": "d226919d",
   "metadata": {},
   "outputs": [
    {
     "data": {
      "text/plain": [
       "[0.005989551544189453,\n",
       " 0.01997995376586914,\n",
       " 0.01798248291015625,\n",
       " 0.0319676399230957,\n",
       " 0.047959327697753906]"
      ]
     },
     "execution_count": 48,
     "metadata": {},
     "output_type": "execute_result"
    }
   ],
   "source": [
    "#rough work\n",
    "def compute(n_avgs, func, N):\n",
    "    times = []\n",
    "    sums = []\n",
    "    for _ in range(n_avgs): # number of iteration for the inner function\n",
    "        ts = time.time()    # it first take the first number fo N and iterate _ times\n",
    "        func(N)             # then returns the time it started for each outward iteration\n",
    "        times.append(time.time() - ts)\n",
    "    return sum(times)/float(len(times)) * 1000\n",
    "\n",
    "values = []\n",
    "for N in range(10, 100, 20):\n",
    "    values.append(compute(500, sum_all, N))\n",
    "    \n",
    "values"
   ]
  },
  {
   "cell_type": "code",
   "execution_count": 50,
   "id": "8ad0f663",
   "metadata": {},
   "outputs": [],
   "source": [
    "def compute(n_avgs, func, N):\n",
    "    times = []\n",
    "    for _ in range(n_avgs):\n",
    "        ts = time.time()\n",
    "        func(N)\n",
    "        times.append(time.time() - ts)\n",
    "    return sum(times)/float(len(times)) *1000 #milliseconds\n",
    "\n",
    "n_avgs = 100\n",
    "time_sum = []\n",
    "time_gauss = []\n",
    "N_range = range(10, 100000, 5000)\n",
    "for N in N_range:\n",
    "    time_sum.append(compute(n_avgs, sum_all, N))\n",
    "    time_gauss.append(compute(n_avgs, sum_form, N))"
   ]
  },
  {
   "cell_type": "code",
   "execution_count": 51,
   "id": "2537a262",
   "metadata": {},
   "outputs": [
    {
     "data": {
      "text/plain": [
       "<matplotlib.legend.Legend at 0x1fc0cbb23d0>"
      ]
     },
     "execution_count": 51,
     "metadata": {},
     "output_type": "execute_result"
    },
    {
     "data": {
      "image/png": "[encoded data removed]",
      "text/plain": [
       "<Figure size 864x432 with 1 Axes>"
      ]
     },
     "metadata": {},
     "output_type": "display_data"
    }
   ],
   "source": [
    "plt.figure(figsize=[12, 6])\n",
    "plt.plot(N_range, time_sum, 'o-', label= \"Sum Numbers\")\n",
    "plt.plot(N_range, time_gauss, 'o-', label= \"Gauss\")\n",
    "plt.xlabel(\"N_range\")\n",
    "plt.ylabel(\"Average time in ms\")\n",
    "plt.legend()"
   ]
  },
  {
   "cell_type": "code",
   "execution_count": 15,
   "id": "a5677233",
   "metadata": {},
   "outputs": [
    {
     "data": {
      "text/plain": [
       "5"
      ]
     },
     "execution_count": 15,
     "metadata": {},
     "output_type": "execute_result"
    }
   ],
   "source": [
    "import random\n",
    "random.choice([0, 5, 9])"
   ]
  },
  {
   "cell_type": "code",
   "execution_count": 16,
   "id": "a263d5ec",
   "metadata": {},
   "outputs": [],
   "source": [
    "#dir(random)"
   ]
  },
  {
   "cell_type": "markdown",
   "id": "3b713ad0",
   "metadata": {},
   "source": [
    "## Computational Complexity"
   ]
  },
  {
   "cell_type": "markdown",
   "id": "3bb40aa2",
   "metadata": {},
   "source": [
    "Let's solve a version of common problem you might find as data scientist, how should I store my data? Let's tak a very simple case where our data is just a list of numbers and we need to store these in a list. Is there anyway to optimize the storage?"
   ]
  },
  {
   "cell_type": "markdown",
   "id": "1a775de8",
   "metadata": {},
   "source": [
    "Let's consider the tradeoffs for various things we might want to do in the list."
   ]
  },
  {
   "cell_type": "markdown",
   "id": "37ced701",
   "metadata": {},
   "source": [
    "### Finding an element"
   ]
  },
  {
   "cell_type": "markdown",
   "id": "1d151142",
   "metadata": {},
   "source": [
    "If we want to find an element in a list and we know nothing about list, then we need to check every element in the list to see if that elemet is there. Let's write a function to do this"
   ]
  },
  {
   "cell_type": "code",
   "execution_count": 16,
   "id": "ec53b0e7",
   "metadata": {},
   "outputs": [],
   "source": [
    "def find_ele(list_, ele):\n",
    "    for i in list_:\n",
    "        if i == ele:\n",
    "            return True\n",
    "    return False"
   ]
  },
  {
   "cell_type": "markdown",
   "id": "747b61c5",
   "metadata": {},
   "source": [
    "In other to test these, lets use the random module to generate a list of random numbers between 0 and 10*N where N is the length of the list we want."
   ]
  },
  {
   "cell_type": "code",
   "execution_count": 17,
   "id": "7b1072e6",
   "metadata": {},
   "outputs": [
    {
     "name": "stdout",
     "output_type": "stream",
     "text": [
      "[0, 1, 11, 20, 8, 12, 35, 56, 71, 66]\n"
     ]
    },
    {
     "data": {
      "text/plain": [
       "True"
      ]
     },
     "execution_count": 17,
     "metadata": {},
     "output_type": "execute_result"
    }
   ],
   "source": [
    "import random\n",
    "import numpy as np\n",
    "\n",
    "list_ = [random.randint(0, 10*N) for N in np.arange(10)]\n",
    "print(list_)\n",
    "find_ele(list_, 8)"
   ]
  },
  {
   "cell_type": "code",
   "execution_count": 18,
   "id": "cfd5d9ef",
   "metadata": {},
   "outputs": [
    {
     "data": {
      "text/plain": [
       "[7, 9, 28, 34, 34]"
      ]
     },
     "execution_count": 18,
     "metadata": {},
     "output_type": "execute_result"
    }
   ],
   "source": [
    "def random_list(N, sort=False):\n",
    "    list_ = [random.randint(0, 10*N) for _ in np.arange(N)]\n",
    "    return sorted(list_) if sort else list_\n",
    "\n",
    "random_list(5, True)    "
   ]
  },
  {
   "cell_type": "markdown",
   "id": "de0d1ebf",
   "metadata": {},
   "source": [
    "Let's time the function"
   ]
  },
  {
   "cell_type": "markdown",
   "id": "37581853",
   "metadata": {},
   "source": [
    "Packing positional argument"
   ]
  },
  {
   "cell_type": "markdown",
   "id": "8eae879b",
   "metadata": {},
   "source": [
    "Sometimes during the function call, we may use an arbitrary number of arguments. Since we don't know the number of arguments to be passed during the function call, we can use packing to pack all the arguments in a tuple."
   ]
  },
  {
   "cell_type": "code",
   "execution_count": 52,
   "id": "eab404a6",
   "metadata": {},
   "outputs": [
    {
     "name": "stdout",
     "output_type": "stream",
     "text": [
      "24\n"
     ]
    }
   ],
   "source": [
    "def mul(*args):\n",
    "    result = 1\n",
    "    for i in args:\n",
    "        result *= i\n",
    "    print(result)\n",
    "    \n",
    "mul(2,3,4)"
   ]
  },
  {
   "cell_type": "markdown",
   "id": "e399a20a",
   "metadata": {},
   "source": [
    "Unpacking keyword arguments"
   ]
  },
  {
   "cell_type": "markdown",
   "id": "f2ee28f5",
   "metadata": {},
   "source": [
    "when the arguments are in the form of a dictionary, we can unpack them during the function call using the ** operator"
   ]
  },
  {
   "cell_type": "code",
   "execution_count": 21,
   "id": "0af8612b",
   "metadata": {},
   "outputs": [
    {
     "name": "stdout",
     "output_type": "stream",
     "text": [
      "140\n"
     ]
    }
   ],
   "source": [
    "def mul2(a, b, c):\n",
    "    print(a * b * c)\n",
    "    \n",
    "d = {'a':4, 'b':5, 'c':7}\n",
    "mul2(**d)"
   ]
  },
  {
   "cell_type": "code",
   "execution_count": 80,
   "id": "156be43d",
   "metadata": {},
   "outputs": [],
   "source": [
    "import time\n",
    "\n",
    "def time_func(func, *avgs):\n",
    "    ts = time.time()\n",
    "    func(*avgs)\n",
    "    return time.time() - ts\n",
    "\n",
    "def compute_with_list(n_avgs, N, sort, *funcs):\n",
    "    ans = []\n",
    "    for _ in range(n_avgs):\n",
    "        list_r = random_list(N, sort)\n",
    "        n_to_find = random.randint(0, 10*N)\n",
    "        ans.append([time_func(func, list_r, n_to_find) for func in funcs])\n",
    "        #now find avgs\n",
    "        return np.array(ans).mean(axis=0)*1000\n",
    "    \n",
    "n_avgs = 40\n",
    "N_range = range(10, 100000, 10000)\n",
    "time_list = np.array([compute_with_list(n_avgs, N, False, find_ele) for N in N_range])"
   ]
  },
  {
   "cell_type": "code",
   "execution_count": 63,
   "id": "959a0703",
   "metadata": {},
   "outputs": [
    {
     "data": {
      "text/plain": [
       "2.198481559753418"
      ]
     },
     "execution_count": 63,
     "metadata": {},
     "output_type": "execute_result"
    }
   ],
   "source": []
  },
  {
   "cell_type": "code",
   "execution_count": 70,
   "id": "2f94fc0e",
   "metadata": {},
   "outputs": [],
   "source": [
    "#np.mean()"
   ]
  },
  {
   "cell_type": "code",
   "execution_count": 81,
   "id": "e100d348",
   "metadata": {},
   "outputs": [
    {
     "data": {
      "text/plain": [
       "[<matplotlib.lines.Line2D at 0x1fc0d1f6e50>]"
      ]
     },
     "execution_count": 81,
     "metadata": {},
     "output_type": "execute_result"
    },
    {
     "data": {
      "image/png": "[encoded data removed]",
      "text/plain": [
       "<Figure size 432x288 with 1 Axes>"
      ]
     },
     "metadata": {},
     "output_type": "display_data"
    }
   ],
   "source": [
    "plt.plot(N_range, time_list, \"o-\")"
   ]
  },
  {
   "cell_type": "markdown",
   "id": "8464dec4",
   "metadata": {},
   "source": [
    "Let us take a different approach where we know this list is sorted. Note that sorting itself is Nlog(N) complexity, so although we will be able to perform optimized on a sorted list, it not ingeneral faster to sort and then find the element. However, if we know we will be searching often, we can build up the list as a sorted structure and for now we can assume we have already done so."
   ]
  },
  {
   "cell_type": "markdown",
   "id": "bdecd2b5",
   "metadata": {},
   "source": [
    "The only basic optimization we can perform is to only check until we have seen a number greater than what we are looking for. Since we know the list is sorted we are guaranteed to not find the number in the rest of the list."
   ]
  },
  {
   "cell_type": "markdown",
   "id": "29c1d58a",
   "metadata": {},
   "source": [
    "#### Why is the time complexity of (merge) sort $ \\mathcal{O}N(logN)\\ $ from Quora by Dun Kumari\n",
    "Merge Sort separates the array in half and takes linear time to merge the two halves. "
   ]
  },
  {
   "cell_type": "code",
   "execution_count": 82,
   "id": "869e329b",
   "metadata": {},
   "outputs": [],
   "source": [
    "def find_element_sorted(list_, ele):\n",
    "    for i in list_:\n",
    "        if i == ele:\n",
    "            return ele\n",
    "        elif i > ele:\n",
    "            return False\n",
    "    return False\n",
    "\n",
    "n_avgs = 40\n",
    "N_range = range(10, 100000, 10000)\n",
    "time_list = np.array([compute_with_list(n_avgs, N, True, find_ele, find_element_sorted) for N in N_range])"
   ]
  },
  {
   "cell_type": "code",
   "execution_count": 83,
   "id": "98fdfe09",
   "metadata": {},
   "outputs": [
    {
     "data": {
      "text/plain": [
       "array([[0.        , 0.        ],\n",
       "       [0.        , 1.00326538],\n",
       "       [1.00064278, 0.99897385],\n",
       "       [0.99802017, 1.99770927],\n",
       "       [1.99842453, 4.9932003 ],\n",
       "       [3.99422646, 0.99849701],\n",
       "       [3.99327278, 3.99541855],\n",
       "       [5.9928894 , 9.99140739],\n",
       "       [6.99138641, 7.98797607],\n",
       "       [8.98122787, 8.99171829]])"
      ]
     },
     "execution_count": 83,
     "metadata": {},
     "output_type": "execute_result"
    }
   ],
   "source": [
    "time_list"
   ]
  },
  {
   "cell_type": "code",
   "execution_count": 84,
   "id": "85d31292",
   "metadata": {},
   "outputs": [
    {
     "data": {
      "text/plain": [
       "<matplotlib.legend.Legend at 0x1fc0d228ac0>"
      ]
     },
     "execution_count": 84,
     "metadata": {},
     "output_type": "execute_result"
    },
    {
     "data": {
      "image/png": "[encoded data removed]",
      "text/plain": [
       "<Figure size 432x288 with 1 Axes>"
      ]
     },
     "metadata": {},
     "output_type": "display_data"
    }
   ],
   "source": [
    "plt.plot(N_range, time_list[:,0], \"o-\", label=\"find_ele\")\n",
    "plt.plot(N_range, time_list[:,1], \"o-\", label=\"find_element_sorted\")\n",
    "plt.legend()"
   ]
  },
  {
   "cell_type": "markdown",
   "id": "c61ee579",
   "metadata": {},
   "source": [
    "This does better on the average, but it still have $ \\mathcal {0}(N) $ runtime. Such optimization are useful but we can do better. Lets implement what is sometimes known as Binary search. This is a recursive algorithm that allows the list to be divided roughly in half on each recursive step. The will yield logarithmic assymptotic run time. Let's first illustrate the algorithm by walking through an example where l = [1, 2, 3, 4, 5, 6, 7, 8, 9, 10] and we want to check if 2 is contained in the list. "
   ]
  },
  {
   "cell_type": "markdown",
   "id": "bd097848",
   "metadata": {},
   "source": [
    "First we check the midpoint of the list, which is 6. We know that 2 does not equal 6, but since the list is sorted, we can immediately rull out the part of the list containing numbers greater than 6. Thus we have already rulled out half the elements of the list"
   ]
  },
  {
   "cell_type": "markdown",
   "id": "808f28bc",
   "metadata": {},
   "source": [
    "Now we can ask the question is 2 contained in the list [1, 2, 3, 4, 5]. First we check the midpoint element of the list which is 3. We know that 3 is not 2, but again since 3 > 2, we can eliminate half the list."
   ]
  },
  {
   "cell_type": "markdown",
   "id": "f95758f8",
   "metadata": {},
   "source": [
    "Now we can check if 2 is contained in the list [1, 2]. We will take the midpoint of this list as the first element(since it has index 1 = len(list)/2 and this is equal to 2. Thus 2 is in the original list."
   ]
  },
  {
   "cell_type": "markdown",
   "id": "52e1b8a4",
   "metadata": {},
   "source": [
    "We can see we have performed this search in only three steps and up to an extra step, this did not depend on where 2 was in the list, only that it was sorted. Since we are removing half the list each time, we expect that the number of N will be roughly $ \\mathcal {O}(logN) $ where the logarithm is understood to be in base two."
   ]
  },
  {
   "cell_type": "markdown",
   "id": "2fa747da",
   "metadata": {},
   "source": [
    "#### Note : from mediun by Humam Abo Alraja \n",
    "- When an algorithm has $ \\mathcal{O}(logN)\\ $ running time, it means that as the input size grows, the number of operations grows very slowly.\n",
    "- Even though $ \\mathcal{O}(N)\\ $ is pretty good for an algorithm,$ \\mathcal{O}(logN)\\ $ is gonna be way better as the size of your input increases."
   ]
  },
  {
   "cell_type": "code",
   "execution_count": 85,
   "id": "5fb09d91",
   "metadata": {},
   "outputs": [],
   "source": [
    "def find_ele_binary(l_, ele):\n",
    "    # check if the list is empty\n",
    "    if len(l_) < 1:\n",
    "        return False\n",
    "    mid_point = len(l_) // 2    # get the midpoint\n",
    "    if l_[mid_point] == ele:    # check if the midpoint element equals the element that is required\n",
    "        return True  \n",
    "    elif l_[mid_point] > ele:   # check if the midpoint element is greater than the element required\n",
    "        return find_ele_binary(l_[:mid_point], ele)  \n",
    "    else:\n",
    "        return find_ele_binary(l_[mid_point+1:], ele)"
   ]
  },
  {
   "cell_type": "code",
   "execution_count": 86,
   "id": "0dd3c738",
   "metadata": {},
   "outputs": [],
   "source": [
    "n_avgs = 50\n",
    "N_range = np.arange(1000, 70000, 8000)\n",
    "time_list = np.array([compute_with_list(n_avgs, N, True, find_element_sorted, find_ele_binary) for N in N_range])"
   ]
  },
  {
   "cell_type": "code",
   "execution_count": 87,
   "id": "8c23119f",
   "metadata": {},
   "outputs": [
    {
     "data": {
      "text/plain": [
       "array([[0.        , 0.        ],\n",
       "       [0.99802017, 0.        ],\n",
       "       [1.99794769, 0.        ],\n",
       "       [0.9996891 , 0.        ],\n",
       "       [0.        , 0.        ],\n",
       "       [4.99558449, 0.        ],\n",
       "       [1.99794769, 1.00135803],\n",
       "       [5.99241257, 0.99992752],\n",
       "       [1.99747086, 0.9996891 ]])"
      ]
     },
     "execution_count": 87,
     "metadata": {},
     "output_type": "execute_result"
    }
   ],
   "source": [
    "time_list"
   ]
  },
  {
   "cell_type": "code",
   "execution_count": null,
   "id": "e11a743a",
   "metadata": {},
   "outputs": [],
   "source": [
    "np.polyfit()"
   ]
  },
  {
   "cell_type": "code",
   "execution_count": 88,
   "id": "035b5e6c",
   "metadata": {},
   "outputs": [
    {
     "data": {
      "text/plain": [
       "<matplotlib.legend.Legend at 0x1fc0ce61580>"
      ]
     },
     "execution_count": 88,
     "metadata": {},
     "output_type": "execute_result"
    },
    {
     "data": {
      "image/png": "[encoded data removed]",
      "text/plain": [
       "<Figure size 864x432 with 1 Axes>"
      ]
     },
     "metadata": {},
     "output_type": "display_data"
    }
   ],
   "source": [
    "plt.figure(figsize=[12, 6])\n",
    "for i, func in enumerate(['find_element_sorted', 'find_ele_binary']):\n",
    "    plt.plot(N_range, 2**time_list[:, i],'o-', label=func)\n",
    "    \n",
    "    p = np.polyfit(N_range, 2**time_list[:, i], 1)\n",
    "    #print(p[0])\n",
    "    plt.plot(N_range, N_range * p[0] + p[1])\n",
    "    \n",
    "plt.legend()"
   ]
  },
  {
   "cell_type": "code",
   "execution_count": 82,
   "id": "90c12b2c",
   "metadata": {},
   "outputs": [
    {
     "data": {
      "text/plain": [
       "19"
      ]
     },
     "execution_count": 82,
     "metadata": {},
     "output_type": "execute_result"
    }
   ],
   "source": [
    "5 * 3 + 4"
   ]
  },
  {
   "cell_type": "code",
   "execution_count": null,
   "id": "873e47f1",
   "metadata": {},
   "outputs": [],
   "source": [
    "lim = [1, 4, 5, 8, 5, 9, 2]\n",
    "lim[4:]"
   ]
  },
  {
   "cell_type": "markdown",
   "id": "1773a34c",
   "metadata": {},
   "source": [
    "### Memoization"
   ]
  },
  {
   "cell_type": "markdown",
   "id": "f981f726",
   "metadata": {},
   "source": [
    "Often we can get performance increase just by not recomputing things we have already computed. Let's look again at our Fibonacci recursive sequence."
   ]
  },
  {
   "cell_type": "code",
   "execution_count": 94,
   "id": "92ff2c59",
   "metadata": {},
   "outputs": [],
   "source": [
    "def fibonacci_recursive(n):\n",
    "    if n == 0:\n",
    "        return 0\n",
    "    elif n == 1:\n",
    "        return 1\n",
    "    else:\n",
    "        return fibonacci_recursive(n - 1) + fibonacci_recursive(n - 2)"
   ]
  },
  {
   "cell_type": "code",
   "execution_count": 95,
   "id": "91225fcc",
   "metadata": {},
   "outputs": [
    {
     "data": {
      "text/plain": [
       "8"
      ]
     },
     "execution_count": 95,
     "metadata": {},
     "output_type": "execute_result"
    }
   ],
   "source": [
    "fibonacci_recursive(6)"
   ]
  },
  {
   "cell_type": "code",
   "execution_count": 124,
   "id": "649d5fb9",
   "metadata": {},
   "outputs": [
    {
     "data": {
      "text/plain": [
       "5"
      ]
     },
     "execution_count": 124,
     "metadata": {},
     "output_type": "execute_result"
    }
   ],
   "source": [
    "fibonacci_recursive(5)"
   ]
  },
  {
   "cell_type": "markdown",
   "id": "76f54757",
   "metadata": {},
   "source": [
    "- fibonacci_recursive(4) + fibonacci_recursive(3) \n",
    "- fibonacci_recursive(3) + fibonacci_recursive(2) + fibonacci_recursive(2) + fibonacci_recursive(1)\n",
    "- fibonacci_recursive(2) + fibonacci_recursive(1) + fibonacci_recursive(1) + fibonacci_recursive(0)\n",
    "- fibonacci_recursive(1) + fibonacci_recursive(0) \n",
    "- fibonacci_recursive(1) + fibonacci_recursive(0) "
   ]
  },
  {
   "cell_type": "markdown",
   "id": "8e94b554",
   "metadata": {},
   "source": [
    "Let's make a slightly different version which keeps track of our many times we call the function on each element."
   ]
  },
  {
   "cell_type": "code",
   "execution_count": 113,
   "id": "48c764f1",
   "metadata": {},
   "outputs": [],
   "source": [
    "from collections import defaultdict\n",
    "def fibonacci_count(n, d):\n",
    "    d[n] += 1\n",
    "    if n == 0:\n",
    "        return 0, d\n",
    "    if n == 1:\n",
    "        return 1, d\n",
    "    else:\n",
    "        n1, _ = fibonacci_count(n - 1, d) \n",
    "        n2, _ = fibonacci_count(n - 2, d)\n",
    "        return n1 + n2, d"
   ]
  },
  {
   "cell_type": "markdown",
   "id": "68519bc7",
   "metadata": {},
   "source": [
    "Let's see this action for N = 5"
   ]
  },
  {
   "cell_type": "code",
   "execution_count": 105,
   "id": "f247c02d",
   "metadata": {},
   "outputs": [
    {
     "name": "stdout",
     "output_type": "stream",
     "text": [
      "0 3\n",
      "1 5\n",
      "2 3\n",
      "3 2\n",
      "4 1\n"
     ]
    }
   ],
   "source": [
    "N = 5\n",
    "ans, d = fibonacci_count(N, defaultdict(int))\n",
    "for i in range(N):\n",
    "    print(i, d[i])"
   ]
  },
  {
   "cell_type": "code",
   "execution_count": 121,
   "id": "43c14a04",
   "metadata": {},
   "outputs": [
    {
     "name": "stdout",
     "output_type": "stream",
     "text": [
      "5 1\n",
      "4 1\n",
      "3 2\n",
      "2 3\n",
      "1 5\n",
      "0 3\n"
     ]
    }
   ],
   "source": [
    "# mine own method\n",
    "res, count = fibonacci_count(5, defaultdict(int))\n",
    "for key, val in count.items():\n",
    "    print(key, val)\n"
   ]
  },
  {
   "cell_type": "code",
   "execution_count": 123,
   "id": "f1d064a3",
   "metadata": {},
   "outputs": [
    {
     "data": {
      "text/plain": [
       "defaultdict(int, {5: 1, 4: 1, 3: 2, 2: 3, 1: 5, 0: 3})"
      ]
     },
     "execution_count": 123,
     "metadata": {},
     "output_type": "execute_result"
    }
   ],
   "source": [
    "count"
   ]
  },
  {
   "cell_type": "markdown",
   "id": "372dac5f",
   "metadata": {},
   "source": [
    "Now let's look for N = 25"
   ]
  },
  {
   "cell_type": "code",
   "execution_count": 139,
   "id": "55c96b11",
   "metadata": {},
   "outputs": [
    {
     "name": "stdout",
     "output_type": "stream",
     "text": [
      "75025 0 46368\n",
      "75025 1 75025\n",
      "75025 2 46368\n",
      "75025 3 28657\n",
      "75025 4 17711\n",
      "75025 5 10946\n",
      "75025 6 6765\n",
      "75025 7 4181\n",
      "75025 8 2584\n",
      "75025 9 1597\n",
      "75025 10 987\n",
      "75025 11 610\n",
      "75025 12 377\n",
      "75025 13 233\n",
      "75025 14 144\n",
      "75025 15 89\n",
      "75025 16 55\n",
      "75025 17 34\n",
      "75025 18 21\n",
      "75025 19 13\n",
      "75025 20 8\n",
      "75025 21 5\n",
      "75025 22 3\n",
      "75025 23 2\n",
      "75025 24 1\n"
     ]
    }
   ],
   "source": [
    "N = 25\n",
    "ans, d = fibonacci_count(N, defaultdict(int))\n",
    "for i in range(N):\n",
    "    print(ans,i, d[i])"
   ]
  },
  {
   "cell_type": "markdown",
   "id": "a1669d68",
   "metadata": {},
   "source": [
    "Notice we are calling some of these functons with the same argument thousands of time. If we store the answer to the problem instead of recomputing."
   ]
  },
  {
   "cell_type": "code",
   "execution_count": 171,
   "id": "c5207256",
   "metadata": {},
   "outputs": [
    {
     "name": "stdout",
     "output_type": "stream",
     "text": [
      "0\n",
      "1\n"
     ]
    }
   ],
   "source": [
    "dic = {0:0,1:1}\n",
    "for i in range(5):\n",
    "    if i in dic:\n",
    "        print(dic[i])"
   ]
  },
  {
   "cell_type": "code",
   "execution_count": 176,
   "id": "703ad97a",
   "metadata": {},
   "outputs": [],
   "source": [
    "def fibonacci_mem(n, d):\n",
    "    if n in d:\n",
    "        return d[n]\n",
    "    elif n == 0:\n",
    "        return 0\n",
    "    elif n == 1:\n",
    "        return 1\n",
    "    else:\n",
    "        ans = fibonacci_mem(n-1, d) + fibonacci_mem(n-2, d)\n",
    "    d[n] = ans  # populate the dictionary\n",
    "    return ans"
   ]
  },
  {
   "cell_type": "code",
   "execution_count": 184,
   "id": "04845f4a",
   "metadata": {},
   "outputs": [],
   "source": [
    "# testing with this\n",
    "def fibonacci_mem2(n, m):\n",
    "    if n in m:\n",
    "        return m[n]\n",
    "    elif n == 0:\n",
    "        return 0\n",
    "    elif n == 1:\n",
    "        return 1\n",
    "    else:\n",
    "        ans = fibonacci_mem2(n-1, m) + fibonacci_mem2(n-2, m)\n",
    "        m[n] = ans\n",
    "    return ans\n",
    "        "
   ]
  },
  {
   "cell_type": "code",
   "execution_count": 185,
   "id": "459a0e49",
   "metadata": {},
   "outputs": [
    {
     "data": {
      "text/plain": [
       "75025"
      ]
     },
     "execution_count": 185,
     "metadata": {},
     "output_type": "execute_result"
    }
   ],
   "source": [
    "fibonacci_mem2(25,{})"
   ]
  },
  {
   "cell_type": "code",
   "execution_count": 188,
   "id": "6dc3bc50",
   "metadata": {},
   "outputs": [
    {
     "name": "stdout",
     "output_type": "stream",
     "text": [
      "24.1 µs ± 2.56 µs per loop (mean ± std. dev. of 7 runs, 10,000 loops each)\n"
     ]
    }
   ],
   "source": [
    "%%timeit\n",
    "fibonacci_mem(33, {})"
   ]
  },
  {
   "cell_type": "code",
   "execution_count": 189,
   "id": "58eb9090",
   "metadata": {},
   "outputs": [
    {
     "name": "stdout",
     "output_type": "stream",
     "text": [
      "24.3 µs ± 2.59 µs per loop (mean ± std. dev. of 7 runs, 10,000 loops each)\n"
     ]
    }
   ],
   "source": [
    "%%timeit\n",
    "fibonacci_mem(33, {0:0, 1:1})"
   ]
  },
  {
   "cell_type": "code",
   "execution_count": 187,
   "id": "342a4534",
   "metadata": {},
   "outputs": [
    {
     "name": "stdout",
     "output_type": "stream",
     "text": [
      "3.87 s ± 174 ms per loop (mean ± std. dev. of 7 runs, 1 loop each)\n"
     ]
    }
   ],
   "source": [
    "%%timeit\n",
    "fibonacci_recursive(33)"
   ]
  },
  {
   "cell_type": "code",
   "execution_count": 191,
   "id": "4c3a5864",
   "metadata": {},
   "outputs": [],
   "source": [
    "assert fibonacci_mem(33, {}) == fibonacci_recursive(33)"
   ]
  },
  {
   "cell_type": "markdown",
   "id": "f48b3d10",
   "metadata": {},
   "source": [
    "Our memoised solution does better, it is several orders of magnitude faster than the recursive."
   ]
  },
  {
   "cell_type": "markdown",
   "id": "0736ac9a",
   "metadata": {},
   "source": [
    "However it come with a cost, although we save computation, we must use more memory to store the previous result. Often there is a trade between the two."
   ]
  },
  {
   "cell_type": "markdown",
   "id": "4a856e5b",
   "metadata": {},
   "source": [
    "### Exercise"
   ]
  },
  {
   "cell_type": "markdown",
   "id": "2854958c",
   "metadata": {},
   "source": [
    "1. Write the factorial function f(n) = n! as a recusive function\n",
    "2. Would memoization make this function faster?\n",
    "3. Now what if we need to calculate the factorial often(perhaps we were calculating probabilities of different selections), could we use memoization in this case?"
   ]
  },
  {
   "cell_type": "markdown",
   "id": "3da6e60d",
   "metadata": {},
   "source": [
    "1."
   ]
  },
  {
   "cell_type": "markdown",
   "id": "c3b857cc",
   "metadata": {},
   "source": [
    "n! = n(n-1)(n-2)...1"
   ]
  },
  {
   "cell_type": "code",
   "execution_count": 304,
   "id": "143af40a",
   "metadata": {},
   "outputs": [],
   "source": [
    "def fact(n):\n",
    "    if n == 0:\n",
    "        return 1\n",
    "    elif n == 1:\n",
    "        return 1\n",
    "    else:\n",
    "        return n * fact(n - 1)"
   ]
  },
  {
   "cell_type": "code",
   "execution_count": 251,
   "id": "efb40d02",
   "metadata": {},
   "outputs": [
    {
     "data": {
      "text/plain": [
       "3628800"
      ]
     },
     "execution_count": 251,
     "metadata": {},
     "output_type": "execute_result"
    }
   ],
   "source": [
    "fact(10)"
   ]
  },
  {
   "cell_type": "code",
   "execution_count": 250,
   "id": "9531f54d",
   "metadata": {},
   "outputs": [
    {
     "data": {
      "text/plain": [
       "3628800"
      ]
     },
     "execution_count": 250,
     "metadata": {},
     "output_type": "execute_result"
    }
   ],
   "source": [
    "import math\n",
    "math.factorial(10)"
   ]
  },
  {
   "cell_type": "markdown",
   "id": "c6f75f3d",
   "metadata": {},
   "source": [
    "using memoization on factorial"
   ]
  },
  {
   "cell_type": "code",
   "execution_count": 258,
   "id": "36703a92",
   "metadata": {},
   "outputs": [],
   "source": [
    "def fact_mem(n, d):\n",
    "    if n in d:\n",
    "        return d[n]\n",
    "    if n < 1 or n == 0:\n",
    "        return 0\n",
    "    elif n == 1:\n",
    "        return 1\n",
    "    else:\n",
    "        ans = fact_mem(n - 1, d)\n",
    "        d[n] = ans\n",
    "    return d[n] * n\n",
    "    "
   ]
  },
  {
   "cell_type": "code",
   "execution_count": 259,
   "id": "7d91dae9",
   "metadata": {},
   "outputs": [
    {
     "data": {
      "text/plain": [
       "3628800"
      ]
     },
     "execution_count": 259,
     "metadata": {},
     "output_type": "execute_result"
    }
   ],
   "source": [
    "fact_mem(10, {})"
   ]
  },
  {
   "cell_type": "code",
   "execution_count": 293,
   "id": "e93396ac",
   "metadata": {},
   "outputs": [
    {
     "name": "stdout",
     "output_type": "stream",
     "text": [
      "5.07 µs ± 865 ns per loop (mean ± std. dev. of 7 runs, 100,000 loops each)\n"
     ]
    }
   ],
   "source": [
    "%%timeit \n",
    "fact(10)"
   ]
  },
  {
   "cell_type": "code",
   "execution_count": 264,
   "id": "63aadbeb",
   "metadata": {},
   "outputs": [
    {
     "name": "stdout",
     "output_type": "stream",
     "text": [
      "8 µs ± 1.8 µs per loop (mean ± std. dev. of 7 runs, 100,000 loops each)\n"
     ]
    }
   ],
   "source": [
    "%%timeit\n",
    "fact_mem(10, {0:0, 1:1})"
   ]
  },
  {
   "cell_type": "code",
   "execution_count": 290,
   "id": "9a3a7a17",
   "metadata": {},
   "outputs": [],
   "source": [
    "def fact_mem2(n):\n",
    "    ans = 1\n",
    "    if n < 1 or n == 0:\n",
    "        return 0\n",
    "    elif n == 1:\n",
    "        return 1\n",
    "    else:\n",
    "        for i in range(1, n + 1):\n",
    "            ans *= i\n",
    "    return ans"
   ]
  },
  {
   "cell_type": "code",
   "execution_count": 291,
   "id": "c24a17cf",
   "metadata": {},
   "outputs": [
    {
     "data": {
      "text/plain": [
       "3628800"
      ]
     },
     "execution_count": 291,
     "metadata": {},
     "output_type": "execute_result"
    }
   ],
   "source": [
    "fact_mem2(10)"
   ]
  },
  {
   "cell_type": "code",
   "execution_count": 294,
   "id": "f35bb67b",
   "metadata": {},
   "outputs": [
    {
     "name": "stdout",
     "output_type": "stream",
     "text": [
      "2.58 µs ± 447 ns per loop (mean ± std. dev. of 7 runs, 1,000,000 loops each)\n"
     ]
    }
   ],
   "source": [
    "%%timeit\n",
    "fact_mem2(10)"
   ]
  },
  {
   "cell_type": "code",
   "execution_count": 296,
   "id": "db57f0aa",
   "metadata": {},
   "outputs": [
    {
     "data": {
      "text/plain": [
       "[0, 1, 2, 3, 4]"
      ]
     },
     "execution_count": 296,
     "metadata": {},
     "output_type": "execute_result"
    }
   ],
   "source": [
    "list(range(5))"
   ]
  },
  {
   "cell_type": "code",
   "execution_count": 303,
   "id": "7fea8ea8",
   "metadata": {},
   "outputs": [
    {
     "data": {
      "text/plain": [
       "(0, 1)"
      ]
     },
     "execution_count": 303,
     "metadata": {},
     "output_type": "execute_result"
    }
   ],
   "source": [
    "fact(0), math.factorial(0)"
   ]
  },
  {
   "cell_type": "code",
   "execution_count": 305,
   "id": "4940da40",
   "metadata": {},
   "outputs": [],
   "source": [
    "for n in range(1000):\n",
    "    assert fact(n) == math.factorial(n)"
   ]
  },
  {
   "cell_type": "markdown",
   "id": "9757b148",
   "metadata": {},
   "source": [
    "### Memory"
   ]
  },
  {
   "cell_type": "markdown",
   "id": "71713a2f",
   "metadata": {},
   "source": [
    "As seen before memoization has a tradeoff in terms of memory. Let's try to describe that here for the case of Fibonacci sequence. We have to keep track of a single element number\n",
    "for all number less than N, the number we want to compute. Thus the memory we need grows with problem size as $  \\mathcal{0}(N) $"
   ]
  },
  {
   "cell_type": "markdown",
   "id": "95fc304c",
   "metadata": {},
   "source": [
    "We can analyse our algorithms in terms of memory in a similar way. Again remember, it is the algorithm(and the implementation) which has memory complexity not the problem itself."
   ]
  },
  {
   "cell_type": "markdown",
   "id": "956941da",
   "metadata": {},
   "source": [
    "For our first problem, we will again look at summing the numbers between 0 and N, and we will take two different approaches."
   ]
  },
  {
   "cell_type": "markdown",
   "id": "d7bb0bc9",
   "metadata": {},
   "source": [
    "For the first, we will build a list of these elements and then sum."
   ]
  },
  {
   "cell_type": "code",
   "execution_count": 306,
   "id": "bd129048",
   "metadata": {},
   "outputs": [],
   "source": [
    "def sum_list(n):\n",
    "    numbers = list(range(n))\n",
    "    return sum(numbers)"
   ]
  },
  {
   "cell_type": "code",
   "execution_count": 307,
   "id": "fdd614fc",
   "metadata": {},
   "outputs": [],
   "source": [
    "def sum_iter(n):\n",
    "    number = 0\n",
    "    sum_ = 0\n",
    "    while number < n:\n",
    "        sum_ += number\n",
    "        number += 1\n",
    "    return sum_"
   ]
  },
  {
   "cell_type": "code",
   "execution_count": 308,
   "id": "0ddaba02",
   "metadata": {},
   "outputs": [
    {
     "data": {
      "text/plain": [
       "(4950, 4950)"
      ]
     },
     "execution_count": 308,
     "metadata": {},
     "output_type": "execute_result"
    }
   ],
   "source": [
    "sum_list(100), sum_iter(100)"
   ]
  },
  {
   "cell_type": "raw",
   "id": "aa7d22a6",
   "metadata": {},
   "source": []
  },
  {
   "cell_type": "code",
   "execution_count": null,
   "id": "92b737ba",
   "metadata": {},
   "outputs": [],
   "source": []
  },
  {
   "cell_type": "code",
   "execution_count": 309,
   "id": "1baaa0a6",
   "metadata": {},
   "outputs": [
    {
     "name": "stdout",
     "output_type": "stream",
     "text": [
      "36 µs ± 4.23 µs per loop (mean ± std. dev. of 7 runs, 10,000 loops each)\n"
     ]
    }
   ],
   "source": [
    "%%timeit \n",
    "sum_list(1000)"
   ]
  },
  {
   "cell_type": "code",
   "execution_count": 310,
   "id": "12ecc275",
   "metadata": {},
   "outputs": [
    {
     "name": "stdout",
     "output_type": "stream",
     "text": [
      "203 µs ± 17.4 µs per loop (mean ± std. dev. of 7 runs, 1,000 loops each)\n"
     ]
    }
   ],
   "source": [
    "%%timeit\n",
    "sum_iter(1000)"
   ]
  },
  {
   "cell_type": "markdown",
   "id": "9a7c66ac",
   "metadata": {},
   "source": [
    "### Choose data structure wisely"
   ]
  },
  {
   "cell_type": "markdown",
   "id": "59c4c466",
   "metadata": {},
   "source": [
    "As we may have known in the sorting section,the type of data structure we use is often ties to the choice of algorithm. For example, if we don`t already have sorted data, we probably don't want to use binaey search becaus ew e wolud need to sort the data and then will negate any search improvement (sorting is worse than $ \\mathcal{O}(N) $)"
   ]
  },
  {
   "cell_type": "markdown",
   "id": "633959ed",
   "metadata": {},
   "source": [
    "This can be mitigated by choosing our original structure wisely, expecially when we get to build it from the raw data. For example when building a list, inserting data in a sorted manner can be done in $ \\mathcal{O}log(N) $ time (with almost the same as binary search)."
   ]
  },
  {
   "cell_type": "markdown",
   "id": "d3ffc791",
   "metadata": {},
   "source": [
    "Other data structures lend themselves to other algorithmic purposes. For example, a heap(implemented in python with the heapq library) implemnts a tree like structure which is useful for order statistics, such as keeping track of the largest of smallest N items in a collection. "
   ]
  },
  {
   "cell_type": "markdown",
   "id": "dc5881e6",
   "metadata": {},
   "source": [
    "### Exercise"
   ]
  },
  {
   "cell_type": "markdown",
   "id": "110f6c34",
   "metadata": {},
   "source": [
    "1. Explain why sorting and then using binary search is slower than just searching\n",
    "2. Implement insertion on a list using the same principle  binary search"
   ]
  },
  {
   "cell_type": "markdown",
   "id": "5bbe1292",
   "metadata": {},
   "source": [
    "number 2"
   ]
  },
  {
   "cell_type": "code",
   "execution_count": 9,
   "id": "75600320",
   "metadata": {},
   "outputs": [
    {
     "data": {
      "text/plain": [
       "[1, 6, 8, 10, 12]"
      ]
     },
     "execution_count": 9,
     "metadata": {},
     "output_type": "execute_result"
    }
   ],
   "source": [
    "lis = [1,8, 10, 6, 12]\n",
    "lis.sort()\n",
    "lis"
   ]
  },
  {
   "cell_type": "code",
   "execution_count": 9,
   "id": "8e73be0c",
   "metadata": {},
   "outputs": [],
   "source": [
    "def binary_search(list_, ele):\n",
    "    ans = []\n",
    "    mid_point = len(list_) // 2\n",
    "    if list_ == []:\n",
    "        ans.append(ele)\n",
    "        return ans\n",
    "    elif list_[mid_point] == ele:\n",
    "        list_.append(ele)\n",
    "        return sorted(list_)\n",
    "    else:\n",
    "        list_.append(ele)\n",
    "    return sorted(list_)"
   ]
  },
  {
   "cell_type": "code",
   "execution_count": 10,
   "id": "678b3624",
   "metadata": {},
   "outputs": [
    {
     "data": {
      "text/plain": [
       "[1, 4, 5, 10, 11, 20]"
      ]
     },
     "execution_count": 10,
     "metadata": {},
     "output_type": "execute_result"
    }
   ],
   "source": [
    "binary_search([1,4,5,10,11], 20)"
   ]
  },
  {
   "cell_type": "code",
   "execution_count": 19,
   "id": "298bc37d",
   "metadata": {},
   "outputs": [
    {
     "data": {
      "text/plain": [
       "[[1, 10, 22, 39, 40, 47]]"
      ]
     },
     "execution_count": 19,
     "metadata": {},
     "output_type": "execute_result"
    }
   ],
   "source": [
    "\n",
    "def binary_search(list_, ele):\n",
    "    mid_point = len(list_) // 2\n",
    "    if list_ == []:\n",
    "        return list_.append(ele)\n",
    "    elif ele == list_[mid_point]:\n",
    "        return list_.append(ele).sort()\n",
    "    else:\n",
    "        list_.append(ele)\n",
    "    return sorted(list_)\n",
    "    \n",
    "def compute_with_list(N, sort=True):\n",
    "    ans = []\n",
    "    list_r = random_list(N, sort)\n",
    "    ele_to_add = random.randint(0, 10*N)\n",
    "    ans.append(binary_search(list_r, ele_to_add))\n",
    "    return ans\n",
    "    \n",
    "\n",
    "compute_with_list(5)   "
   ]
  },
  {
   "cell_type": "code",
   "execution_count": 1,
   "id": "9ee588cf",
   "metadata": {},
   "outputs": [],
   "source": [
    "def find_ele_binary(l_, ele):\n",
    "    # check if the list is empty\n",
    "    if len(l_) < 1:\n",
    "        return False\n",
    "    mid_point = len(l_) // 2    # get the midpoint\n",
    "    if l_[mid_point] == ele:    # check if the midpoint element equals the element that is required\n",
    "        return True  \n",
    "    elif l_[mid_point] > ele:   # check if the midpoint element is greater than the element required\n",
    "        return find_ele_binary(l_[:mid_point], ele)  \n",
    "    else:\n",
    "        return find_ele_binary(l_[mid_point+1:], ele)"
   ]
  },
  {
   "cell_type": "code",
   "execution_count": 11,
   "id": "805107f0",
   "metadata": {},
   "outputs": [],
   "source": [
    "#Solutiom from geeksforgeeks\n",
    "def binary_search2(arr, val, start, end):\n",
    "    if start == end:\n",
    "        if arr[start] > val:\n",
    "            return start\n",
    "        else:\n",
    "            return start + 1\n",
    "        \n",
    "        mid = (start + end) // 2\n",
    "        if arr[mid] < val:\n",
    "            return binary_search2(arr, val, mid + 1, end)\n",
    "        elif arr[mid] > val:\n",
    "            return binary_search2(arr, val, start, mid - 1)\n",
    "        else:\n",
    "            mid\n",
    "\n",
    "def insertion_sort(arr):\n",
    "    for i in range(1, len(arr)):\n",
    "        val = arr[i]\n",
    "        j = binary_search2(arr, val, 0, i-1)\n",
    "        arr = arr[:j] + [val] + arr[j:i] + arr[i+1:]\n",
    "        \n",
    "    return arr"
   ]
  },
  {
   "cell_type": "code",
   "execution_count": 20,
   "id": "7c4ec3e8",
   "metadata": {},
   "outputs": [],
   "source": [
    "#insertion_sort([1,4,5,10,11])"
   ]
  },
  {
   "cell_type": "code",
   "execution_count": 4,
   "id": "fa39cf7c",
   "metadata": {},
   "outputs": [
    {
     "data": {
      "text/plain": [
       "[1, 11, 10, 5, 4]"
      ]
     },
     "execution_count": 4,
     "metadata": {},
     "output_type": "execute_result"
    }
   ],
   "source": [
    "insertion_sort([1,4,5,10,11])"
   ]
  },
  {
   "cell_type": "code",
   "execution_count": 24,
   "id": "d5c13f4c",
   "metadata": {},
   "outputs": [
    {
     "data": {
      "text/plain": [
       "{1: 2, 5: 2, 4: 3, 10: 1, 11: 1}"
      ]
     },
     "execution_count": 24,
     "metadata": {},
     "output_type": "execute_result"
    }
   ],
   "source": [
    "def count_dict(list_):\n",
    "    count = {}\n",
    "    for i in list_:\n",
    "        if i in count:\n",
    "            count[i] += 1\n",
    "        else:\n",
    "            count[i] = 1      \n",
    "            \n",
    "    return count\n",
    "        \n",
    "count_dict([1,5, 4, 5, 10,4, 11, 1, 4])"
   ]
  },
  {
   "cell_type": "code",
   "execution_count": 49,
   "id": "bc4effb6",
   "metadata": {},
   "outputs": [
    {
     "data": {
      "text/plain": [
       "[(1, 2), (5, 2), (4, 3), (10, 1), (11, 1)]"
      ]
     },
     "execution_count": 49,
     "metadata": {},
     "output_type": "execute_result"
    }
   ],
   "source": [
    "from collections import defaultdict\n",
    "\n",
    "def count_default(x):\n",
    "    count = defaultdict(int)\n",
    "    for i in x:\n",
    "        count[i] += 1\n",
    "    return count\n",
    "\n",
    "list(count_default([1, 5, 4, 5, 10, 4, 11, 1, 4]).items())"
   ]
  },
  {
   "cell_type": "markdown",
   "id": "1968a872",
   "metadata": {},
   "source": [
    "#### Checking for duplicate"
   ]
  },
  {
   "cell_type": "code",
   "execution_count": 46,
   "id": "e6081afb",
   "metadata": {},
   "outputs": [
    {
     "name": "stdout",
     "output_type": "stream",
     "text": [
      "5 has a duplicate\n",
      "4 has a duplicate\n",
      "10 has a duplicate\n"
     ]
    }
   ],
   "source": [
    "arr = [5, 4, 8, 9, 10, 3, 4, 5, 7, 10]\n",
    "\n",
    "for i in range(len(arr)):\n",
    "    for j in range(i+1, len(arr)):\n",
    "        if arr[i] == arr[j]:\n",
    "            print(str(arr[i]) + \" has a duplicate\")\n",
    "            break\n",
    "    #print(\"No duplicate found\")\n"
   ]
  },
  {
   "cell_type": "markdown",
   "id": "38e68854",
   "metadata": {},
   "source": [
    "#### Array Exercise from Code Basics"
   ]
  },
  {
   "cell_type": "markdown",
   "id": "b80a0ab6",
   "metadata": {},
   "source": [
    "1. Let us say your expense for every month are listed below,\n",
    "\t1. January -  2200\n",
    " \t2. February - 2350\n",
    "    3. March - 2600\n",
    "    4. April - 2130\n",
    "    5. May - 2190\n",
    "\n",
    "Create a list to store these monthly expenses and using that find out,\n",
    "\n",
    "    1. In Feb, how many dollars you spent extra compare to January?\n",
    "    2. Find out your total expense in first quarter (first three months) of the year.\n",
    "    3. Find out if you spent exactly 2000 dollars in any month\n",
    "    4. June month just finished and your expense is 1980 dollar. Add this item to our monthly expense list\n",
    "    5. You returned an item that you bought in a month of April and\n",
    "    got a refund of 200$. Make a correction to your monthly expense list\n",
    "    based on this\n"
   ]
  },
  {
   "cell_type": "code",
   "execution_count": 71,
   "id": "506b6ed5",
   "metadata": {},
   "outputs": [],
   "source": [
    "monthly_expenses = {\"January\": 2200, \"February\": 2350, \"March\": 2600, \"April\":2130, \"May\": 2190, \"August\": 2000}"
   ]
  },
  {
   "cell_type": "code",
   "execution_count": 89,
   "id": "0aec71c0",
   "metadata": {},
   "outputs": [],
   "source": [
    "list_monthly_expenses = list(monthly_expenses.items())"
   ]
  },
  {
   "cell_type": "code",
   "execution_count": 90,
   "id": "e4ebd2e1",
   "metadata": {},
   "outputs": [
    {
     "data": {
      "text/plain": [
       "150"
      ]
     },
     "execution_count": 90,
     "metadata": {},
     "output_type": "execute_result"
    }
   ],
   "source": [
    "list_monthly_expenses[1][1] - list_monthly_expenses[0][1]"
   ]
  },
  {
   "cell_type": "code",
   "execution_count": 74,
   "id": "b864ea2e",
   "metadata": {},
   "outputs": [
    {
     "data": {
      "text/plain": [
       "7150"
      ]
     },
     "execution_count": 74,
     "metadata": {},
     "output_type": "execute_result"
    }
   ],
   "source": [
    "first_quarter_sum = list_monthly_expenses[1][1] + list_monthly_expenses[0][1] + list_monthly_expenses[2][1]\n",
    "first_quarter_sum"
   ]
  },
  {
   "cell_type": "code",
   "execution_count": 81,
   "id": "c5c15231",
   "metadata": {},
   "outputs": [
    {
     "data": {
      "text/plain": [
       "[('January', 2200),\n",
       " ('February', 2350),\n",
       " ('March', 2600),\n",
       " ('April', 2130),\n",
       " ('May', 2190),\n",
       " ('August', 2000)]"
      ]
     },
     "execution_count": 81,
     "metadata": {},
     "output_type": "execute_result"
    }
   ],
   "source": [
    "list_monthly_expenses"
   ]
  },
  {
   "cell_type": "code",
   "execution_count": 85,
   "id": "12be5d5c",
   "metadata": {},
   "outputs": [
    {
     "name": "stdout",
     "output_type": "stream",
     "text": [
      "August\n"
     ]
    }
   ],
   "source": [
    "for i in list_monthly_expenses:\n",
    "    if i[1] != 2000:\n",
    "        continue\n",
    "    else:\n",
    "        print(i[0])"
   ]
  },
  {
   "cell_type": "code",
   "execution_count": 87,
   "id": "15de5fad",
   "metadata": {},
   "outputs": [],
   "source": [
    "monthly_expenses.update({'June': 1980})"
   ]
  },
  {
   "cell_type": "code",
   "execution_count": 88,
   "id": "2224ae08",
   "metadata": {},
   "outputs": [
    {
     "data": {
      "text/plain": [
       "{'January': 2200,\n",
       " 'February': 2350,\n",
       " 'March': 2600,\n",
       " 'April': 2130,\n",
       " 'May': 2190,\n",
       " 'August': 2000,\n",
       " 'June': 1980}"
      ]
     },
     "execution_count": 88,
     "metadata": {},
     "output_type": "execute_result"
    }
   ],
   "source": [
    "monthly_expenses"
   ]
  },
  {
   "cell_type": "code",
   "execution_count": 91,
   "id": "9c4d0f74",
   "metadata": {},
   "outputs": [],
   "source": [
    "monthly_expenses.update({'April': 1830})"
   ]
  },
  {
   "cell_type": "code",
   "execution_count": 92,
   "id": "f72dbd42",
   "metadata": {},
   "outputs": [
    {
     "data": {
      "text/plain": [
       "{'January': 2200,\n",
       " 'February': 2350,\n",
       " 'March': 2600,\n",
       " 'April': 1830,\n",
       " 'May': 2190,\n",
       " 'August': 2000,\n",
       " 'June': 1980}"
      ]
     },
     "execution_count": 92,
     "metadata": {},
     "output_type": "execute_result"
    }
   ],
   "source": [
    "monthly_expenses"
   ]
  },
  {
   "cell_type": "code",
   "execution_count": 95,
   "id": "2f1d2aa3",
   "metadata": {},
   "outputs": [
    {
     "data": {
      "text/plain": [
       "{'January': 2200,\n",
       " 'February': 2350,\n",
       " 'March': 2600,\n",
       " 'April': 1840,\n",
       " 'May': 2190,\n",
       " 'August': 2000,\n",
       " 'June': 1980}"
      ]
     },
     "execution_count": 95,
     "metadata": {},
     "output_type": "execute_result"
    }
   ],
   "source": [
    "monthly_expenses['April'] = 1840\n",
    "monthly_expenses"
   ]
  },
  {
   "cell_type": "code",
   "execution_count": null,
   "id": "5b6b4106",
   "metadata": {},
   "outputs": [],
   "source": []
  }
 ],
 "metadata": {
  "kernelspec": {
   "display_name": "Python 3 (ipykernel)",
   "language": "python",
   "name": "python3"
  },
  "language_info": {
   "codemirror_mode": {
    "name": "ipython",
    "version": 3
   },
   "file_extension": ".py",
   "mimetype": "text/x-python",
   "name": "python",
   "nbconvert_exporter": "python",
   "pygments_lexer": "ipython3",
   "version": "3.9.12"
  }
 },
 "nbformat": 4,
 "nbformat_minor": 5
}

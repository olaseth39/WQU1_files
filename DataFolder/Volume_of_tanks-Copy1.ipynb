{
 "cells": [
  {
   "cell_type": "code",
   "execution_count": 2,
   "id": "9fd0e132",
   "metadata": {},
   "outputs": [],
   "source": [
    "import numpy as np"
   ]
  },
  {
   "cell_type": "markdown",
   "id": "a57e9f07",
   "metadata": {},
   "source": [
    "### Volume for Steel Tank"
   ]
  },
  {
   "cell_type": "code",
   "execution_count": 225,
   "id": "afe7aa1b",
   "metadata": {},
   "outputs": [
    {
     "name": "stdout",
     "output_type": "stream",
     "text": [
      "Length is  4.88\n",
      "Breadth is  4.88\n",
      "Height is  2.44\n",
      "CPU times: total: 31.2 ms\n",
      "Wall time: 1.95 ms\n"
     ]
    },
    {
     "data": {
      "text/plain": [
       "'randomized volume is 58.11'"
      ]
     },
     "execution_count": 225,
     "metadata": {},
     "output_type": "execute_result"
    }
   ],
   "source": [
    "%%time\n",
    "\n",
    "def vol_of_steel_tank(vol, height):\n",
    "    \n",
    "    lgth = round(np.random.choice(np.arange(1.22, int(np.sqrt(vol)), 1.22)),2)\n",
    "    brth = round(np.random.choice(np.arange(1.22, int(np.sqrt(vol)), 1.22)),2)\n",
    "    hght = round(np.random.choice(np.arange(1.22, height + 1.22, 1.22)),2)\n",
    "    \n",
    "    \n",
    "    if brth > lgth:\n",
    "        brth = lgth\n",
    "        \n",
    "    randomized_vol = round(lgth * brth * hght, 2)\n",
    "    print(\"Length is \", lgth)\n",
    "    print(\"Breadth is \", brth)\n",
    "    print(\"Height is \", hght)\n",
    "    \n",
    "    return \"randomized volume is {}\".format(randomized_vol) \n",
    "\n",
    "vol_of_steel_tank(51, 3.66)"
   ]
  },
  {
   "cell_type": "code",
   "execution_count": null,
   "id": "e04b4820",
   "metadata": {},
   "outputs": [],
   "source": []
  },
  {
   "cell_type": "code",
   "execution_count": 92,
   "id": "c16a9f9b",
   "metadata": {},
   "outputs": [],
   "source": [
    "#dir(np.random)"
   ]
  },
  {
   "cell_type": "code",
   "execution_count": 68,
   "id": "4f0edc3c",
   "metadata": {},
   "outputs": [
    {
     "name": "stdout",
     "output_type": "stream",
     "text": [
      "Length is  7.32\n",
      "Breadth is  6.1\n",
      "Height is  2.44\n",
      "CPU times: total: 0 ns\n",
      "Wall time: 0 ns\n"
     ]
    },
    {
     "data": {
      "text/plain": [
       "'randomized volume is 108.95'"
      ]
     },
     "execution_count": 68,
     "metadata": {},
     "output_type": "execute_result"
    }
   ],
   "source": [
    "%%time\n",
    "\n",
    "def vol_of_steel_tank(vol):\n",
    "    \n",
    "    lgth = round(np.random.randint(1, np.sqrt(vol)) * 1.22, 2)\n",
    "    brth = round(np.random.randint(1, np.sqrt(vol)) * 1.22,2)\n",
    "    hght = round(np.random.randint(1, 3.66) * 1.22, 2)\n",
    "    \n",
    "    \n",
    "    if brth > lgth:\n",
    "        brth = lgth\n",
    "        \n",
    "    randomized_vol = round(lgth * brth * hght, 2)\n",
    "    print(\"Length is \", lgth)\n",
    "    print(\"Breadth is \", brth)\n",
    "    print(\"Height is \", hght)\n",
    "    \n",
    "    return \"randomized volume is {}\".format(randomized_vol) \n",
    "\n",
    "vol_of_steel_tank(100)"
   ]
  },
  {
   "cell_type": "code",
   "execution_count": 112,
   "id": "025e05de",
   "metadata": {},
   "outputs": [
    {
     "data": {
      "text/plain": [
       "[1.22, 2.44, 3.66, 4.88, 6.1, 7.32, 8.54, 9.76, 10.98]"
      ]
     },
     "execution_count": 112,
     "metadata": {},
     "output_type": "execute_result"
    }
   ],
   "source": [
    "# for 100\n",
    "values = np.round(np.arange(1.22, int(np.sqrt(100) + 1.22), 1.22), 2)\n",
    "result = sorted(np.random.choice(values, len(values), False))\n",
    "result"
   ]
  },
  {
   "cell_type": "code",
   "execution_count": 113,
   "id": "e11f48eb",
   "metadata": {},
   "outputs": [
    {
     "name": "stdout",
     "output_type": "stream",
     "text": [
      "1.22\n",
      "2.44\n",
      "3.66\n",
      "4.88\n",
      "6.1\n",
      "7.32\n",
      "8.54\n",
      "9.76\n",
      "10.98\n"
     ]
    }
   ],
   "source": [
    "for i in result:\n",
    "    print(i)"
   ]
  },
  {
   "cell_type": "code",
   "execution_count": 125,
   "id": "cbab38e4",
   "metadata": {},
   "outputs": [
    {
     "data": {
      "text/plain": [
       "[2.44, 3.66, 4.88, 6.1, 7.32, 8.54, 9.76, 10.98]"
      ]
     },
     "execution_count": 125,
     "metadata": {},
     "output_type": "execute_result"
    }
   ],
   "source": [
    "result[1:]"
   ]
  },
  {
   "cell_type": "code",
   "execution_count": 131,
   "id": "acdef798",
   "metadata": {},
   "outputs": [
    {
     "name": "stdout",
     "output_type": "stream",
     "text": [
      "2.44\n",
      "3.66\n",
      "4.88\n",
      "6.1\n",
      "7.32\n",
      "8.54\n",
      "9.76\n",
      "10.98\n"
     ]
    }
   ],
   "source": [
    "for i in enumerate(result[1:]):\n",
    "    print(i[1])"
   ]
  },
  {
   "cell_type": "code",
   "execution_count": 122,
   "id": "4b860d23",
   "metadata": {},
   "outputs": [],
   "source": [
    "products = []\n",
    "for i in result[1:]:\n",
    "    for count in range(len(result[1:])):\n",
    "        products.append('{} * {}'.format(i, result[1:][count]))"
   ]
  },
  {
   "cell_type": "code",
   "execution_count": 132,
   "id": "6206d8ba",
   "metadata": {},
   "outputs": [
    {
     "data": {
      "text/plain": [
       "64"
      ]
     },
     "execution_count": 132,
     "metadata": {},
     "output_type": "execute_result"
    }
   ],
   "source": [
    "len(products)"
   ]
  },
  {
   "cell_type": "markdown",
   "id": "eda23d9e",
   "metadata": {},
   "source": [
    "values for height"
   ]
  },
  {
   "cell_type": "code",
   "execution_count": 154,
   "id": "326050df",
   "metadata": {},
   "outputs": [
    {
     "data": {
      "text/plain": [
       "[1.22, 2.44, 3.66]"
      ]
     },
     "execution_count": 154,
     "metadata": {},
     "output_type": "execute_result"
    }
   ],
   "source": [
    "val = np.arange(1.22, 3.66 + 1.22, 1.22)\n",
    "heights = sorted(np.random.choice(val, len(val), False))\n",
    "heights"
   ]
  },
  {
   "cell_type": "code",
   "execution_count": 151,
   "id": "bf57a126",
   "metadata": {},
   "outputs": [],
   "source": [
    "product_2 = []\n",
    "for i in enumerate(result[1:]):\n",
    "    for count in enumerate(result[1:][i[0]:]):\n",
    "        #product_2.append('{} * {}'.format(i[1], count[1]))\n",
    "        product_2.append(np.round(i[1] * count[1], 2))\n",
    "\n",
    "#volume = [f'{f} * {n}' for n in heights for f in product_2]    "
   ]
  },
  {
   "cell_type": "code",
   "execution_count": 153,
   "id": "5a1eea97",
   "metadata": {},
   "outputs": [
    {
     "name": "stdout",
     "output_type": "stream",
     "text": [
      "[5.95, 8.93, 11.91, 14.88, 17.86, 20.84, 23.81, 26.79, 13.4, 17.86, 22.33, 26.79, 31.26, 35.72, 40.19, 23.81, 29.77, 35.72, 41.68, 47.63, 53.58, 37.21, 44.65, 52.09, 59.54, 66.98, 53.58, 62.51, 71.44, 80.37, 72.93, 83.35, 93.77, 95.26, 107.16, 120.56]\n"
     ]
    }
   ],
   "source": [
    "print(product_2)"
   ]
  },
  {
   "cell_type": "markdown",
   "id": "2ad18b39",
   "metadata": {},
   "source": [
    "Let's try to put the values in products_2 in tuple so that we can index them"
   ]
  },
  {
   "cell_type": "code",
   "execution_count": 233,
   "id": "f4e7ced1",
   "metadata": {},
   "outputs": [],
   "source": [
    "required_volume = 100\n",
    "\n",
    "product_3 = []\n",
    "for i in enumerate(result[1:]):\n",
    "    for count in enumerate(result[1:][i[0]:]):\n",
    "        product_3.append('{} * {} = {}'.format(i[1], count[1], (i[1] * count[1])))\n",
    "        #product_2.append(np.round(i[1] * count[1], 2))\n",
    "\n",
    "val = np.arange(1.22, 3.66 + 1.22, 1.22)\n",
    "heights = sorted(np.random.choice(val, len(val), False))\n",
    "\n",
    "vol = [f\"{prod.split('=')[0]} * {height} = {np.round(float(prod.split('=')[1]) * height,2)}\"\n",
    "                               for height in heights for prod in product_3 ]\n",
    "\n",
    "# now match with the volume you are looking for\n",
    "higher_vols = []\n",
    "lower_vols = []\n",
    "for v in vol:\n",
    "    if float(v.split('=')[1]) == float(required_volume):\n",
    "        print(\"Volume is {}\".format(v))\n",
    "    elif float(v.split('=')[1]) > float(required_volume):\n",
    "        higher_vols.append(v)\n",
    "        #print(\"The nearest volume from {} is {}\".format(required_volume, v[0])))\n",
    "    else:\n",
    "        lower_vols.append(v)\n",
    "        #print(\"We could not find a very close volume from {}\".format(required_volume))\n",
    "        #print(\"    \")\n",
    "        #print(\"So we have chosen a very close volume to {} for you which is {}\".format(required_volume, max(vol)))"
   ]
  },
  {
   "cell_type": "code",
   "execution_count": 235,
   "id": "005d95e3",
   "metadata": {},
   "outputs": [
    {
     "data": {
      "text/plain": [
       "['8.54 * 9.76  * 1.22 = 101.69',\n",
       " '8.54 * 10.98  * 1.22 = 114.4',\n",
       " '9.76 * 9.76  * 1.22 = 116.21',\n",
       " '9.76 * 10.98  * 1.22 = 130.74',\n",
       " '10.98 * 10.98  * 1.22 = 147.08',\n",
       " '4.88 * 8.54  * 2.44 = 101.69',\n",
       " '4.88 * 9.76  * 2.44 = 116.21',\n",
       " '4.88 * 10.98  * 2.44 = 130.74',\n",
       " '6.1 * 7.32  * 2.44 = 108.95',\n",
       " '6.1 * 8.54  * 2.44 = 127.11',\n",
       " '6.1 * 9.76  * 2.44 = 145.27',\n",
       " '6.1 * 10.98  * 2.44 = 163.43',\n",
       " '7.32 * 7.32  * 2.44 = 130.74',\n",
       " '7.32 * 8.54  * 2.44 = 152.53',\n",
       " '7.32 * 9.76  * 2.44 = 174.32',\n",
       " '7.32 * 10.98  * 2.44 = 196.11',\n",
       " '8.54 * 8.54  * 2.44 = 177.95',\n",
       " '8.54 * 9.76  * 2.44 = 203.37',\n",
       " '8.54 * 10.98  * 2.44 = 228.8',\n",
       " '9.76 * 9.76  * 2.44 = 232.43',\n",
       " '9.76 * 10.98  * 2.44 = 261.48',\n",
       " '10.98 * 10.98  * 2.44 = 294.17',\n",
       " '3.66 * 8.54  * 3.66 = 114.4',\n",
       " '3.66 * 9.76  * 3.66 = 130.74',\n",
       " '3.66 * 10.98  * 3.66 = 147.08',\n",
       " '4.88 * 6.1  * 3.66 = 108.95',\n",
       " '4.88 * 7.32  * 3.66 = 130.74',\n",
       " '4.88 * 8.54  * 3.66 = 152.53',\n",
       " '4.88 * 9.76  * 3.66 = 174.32',\n",
       " '4.88 * 10.98  * 3.66 = 196.11',\n",
       " '6.1 * 6.1  * 3.66 = 136.19',\n",
       " '6.1 * 7.32  * 3.66 = 163.43',\n",
       " '6.1 * 8.54  * 3.66 = 190.66',\n",
       " '6.1 * 9.76  * 3.66 = 217.9',\n",
       " '6.1 * 10.98  * 3.66 = 245.14',\n",
       " '7.32 * 7.32  * 3.66 = 196.11',\n",
       " '7.32 * 8.54  * 3.66 = 228.8',\n",
       " '7.32 * 9.76  * 3.66 = 261.48',\n",
       " '7.32 * 10.98  * 3.66 = 294.17',\n",
       " '8.54 * 8.54  * 3.66 = 266.93',\n",
       " '8.54 * 9.76  * 3.66 = 305.06',\n",
       " '8.54 * 10.98  * 3.66 = 343.2',\n",
       " '9.76 * 9.76  * 3.66 = 348.64',\n",
       " '9.76 * 10.98  * 3.66 = 392.22',\n",
       " '10.98 * 10.98  * 3.66 = 441.25']"
      ]
     },
     "execution_count": 235,
     "metadata": {},
     "output_type": "execute_result"
    }
   ],
   "source": [
    "higher_vols"
   ]
  },
  {
   "cell_type": "code",
   "execution_count": 188,
   "id": "301004fb",
   "metadata": {},
   "outputs": [],
   "source": [
    "#volume = sorted([f * n for n in heights for f in product_2])\n",
    "volume = [f'{f} * {n}' for n in heights for f in product_2]"
   ]
  },
  {
   "cell_type": "code",
   "execution_count": 189,
   "id": "94133879",
   "metadata": {},
   "outputs": [
    {
     "name": "stdout",
     "output_type": "stream",
     "text": [
      "['5.95 * 1.22', '8.93 * 1.22', '11.91 * 1.22', '14.88 * 1.22', '17.86 * 1.22', '20.84 * 1.22', '23.81 * 1.22', '26.79 * 1.22', '13.4 * 1.22', '17.86 * 1.22', '22.33 * 1.22', '26.79 * 1.22', '31.26 * 1.22', '35.72 * 1.22', '40.19 * 1.22', '23.81 * 1.22', '29.77 * 1.22', '35.72 * 1.22', '41.68 * 1.22', '47.63 * 1.22', '53.58 * 1.22', '37.21 * 1.22', '44.65 * 1.22', '52.09 * 1.22', '59.54 * 1.22', '66.98 * 1.22', '53.58 * 1.22', '62.51 * 1.22', '71.44 * 1.22', '80.37 * 1.22', '72.93 * 1.22', '83.35 * 1.22', '93.77 * 1.22', '95.26 * 1.22', '107.16 * 1.22', '120.56 * 1.22', '5.95 * 2.44', '8.93 * 2.44', '11.91 * 2.44', '14.88 * 2.44', '17.86 * 2.44', '20.84 * 2.44', '23.81 * 2.44', '26.79 * 2.44', '13.4 * 2.44', '17.86 * 2.44', '22.33 * 2.44', '26.79 * 2.44', '31.26 * 2.44', '35.72 * 2.44', '40.19 * 2.44', '23.81 * 2.44', '29.77 * 2.44', '35.72 * 2.44', '41.68 * 2.44', '47.63 * 2.44', '53.58 * 2.44', '37.21 * 2.44', '44.65 * 2.44', '52.09 * 2.44', '59.54 * 2.44', '66.98 * 2.44', '53.58 * 2.44', '62.51 * 2.44', '71.44 * 2.44', '80.37 * 2.44', '72.93 * 2.44', '83.35 * 2.44', '93.77 * 2.44', '95.26 * 2.44', '107.16 * 2.44', '120.56 * 2.44', '5.95 * 3.66', '8.93 * 3.66', '11.91 * 3.66', '14.88 * 3.66', '17.86 * 3.66', '20.84 * 3.66', '23.81 * 3.66', '26.79 * 3.66', '13.4 * 3.66', '17.86 * 3.66', '22.33 * 3.66', '26.79 * 3.66', '31.26 * 3.66', '35.72 * 3.66', '40.19 * 3.66', '23.81 * 3.66', '29.77 * 3.66', '35.72 * 3.66', '41.68 * 3.66', '47.63 * 3.66', '53.58 * 3.66', '37.21 * 3.66', '44.65 * 3.66', '52.09 * 3.66', '59.54 * 3.66', '66.98 * 3.66', '53.58 * 3.66', '62.51 * 3.66', '71.44 * 3.66', '80.37 * 3.66', '72.93 * 3.66', '83.35 * 3.66', '93.77 * 3.66', '95.26 * 3.66', '107.16 * 3.66', '120.56 * 3.66']\n"
     ]
    }
   ],
   "source": [
    "print(volume)"
   ]
  },
  {
   "cell_type": "markdown",
   "id": "e15b90a4",
   "metadata": {},
   "source": [
    "Let's try another method for calculating our volume"
   ]
  },
  {
   "cell_type": "code",
   "execution_count": 171,
   "id": "9b0aaa0d",
   "metadata": {},
   "outputs": [],
   "source": [
    "volume_2 = []\n",
    "for n in range(len(heights)):\n",
    "    volume_2.append([heights[n] * prod for prod in product_2])"
   ]
  },
  {
   "cell_type": "code",
   "execution_count": 183,
   "id": "bb2ff13d",
   "metadata": {
    "scrolled": true
   },
   "outputs": [
    {
     "name": "stdout",
     "output_type": "stream",
     "text": [
      "[[7.259, 10.894599999999999, 14.5302, 18.1536, 21.789199999999997, 25.424799999999998, 29.048199999999998, 32.6838, 16.348, 21.789199999999997, 27.242599999999996, 32.6838, 38.1372, 43.578399999999995, 49.0318, 29.048199999999998, 36.3194, 43.578399999999995, 50.849599999999995, 58.1086, 65.3676, 45.3962, 54.473, 63.549800000000005, 72.6388, 81.71560000000001, 65.3676, 76.26219999999999, 87.15679999999999, 98.0514, 88.97460000000001, 101.687, 114.39939999999999, 116.2172, 130.7352, 147.0832], [14.518, 21.789199999999997, 29.0604, 36.3072, 43.578399999999995, 50.849599999999995, 58.096399999999996, 65.3676, 32.696, 43.578399999999995, 54.48519999999999, 65.3676, 76.2744, 87.15679999999999, 98.0636, 58.096399999999996, 72.6388, 87.15679999999999, 101.69919999999999, 116.2172, 130.7352, 90.7924, 108.946, 127.09960000000001, 145.2776, 163.43120000000002, 130.7352, 152.52439999999999, 174.31359999999998, 196.1028, 177.94920000000002, 203.374, 228.79879999999997, 232.4344, 261.4704, 294.1664], [21.777, 32.6838, 43.5906, 54.460800000000006, 65.3676, 76.2744, 87.1446, 98.0514, 49.044000000000004, 65.3676, 81.7278, 98.0514, 114.4116, 130.7352, 147.09539999999998, 87.1446, 108.9582, 130.7352, 152.5488, 174.32580000000002, 196.1028, 136.1886, 163.419, 190.6494, 217.9164, 245.1468, 196.1028, 228.7866, 261.4704, 294.1542, 266.9238, 305.061, 343.1982, 348.65160000000003, 392.2056, 441.24960000000004]]\n"
     ]
    }
   ],
   "source": [
    "print(volume_2)"
   ]
  },
  {
   "cell_type": "code",
   "execution_count": 106,
   "id": "6fd1a46b",
   "metadata": {},
   "outputs": [],
   "source": [
    "\n",
    "size = len(result)//2\n",
    "for i in range(size):\n",
    "    l = result[size-1:][i]\n",
    "    b = result[:size+1][i]\n",
    "    answer = l * b\n",
    "    #print(f'l is {l}')\n",
    "    #print(f'b is {b}')\n",
    "    #print(f'answer is {answer}')"
   ]
  },
  {
   "cell_type": "code",
   "execution_count": 100,
   "id": "e24a485e",
   "metadata": {},
   "outputs": [
    {
     "name": "stdout",
     "output_type": "stream",
     "text": [
      "1 1\n",
      "1 2\n",
      "1 3\n",
      "2 1\n",
      "2 2\n",
      "2 3\n",
      "3 1\n",
      "3 2\n",
      "3 3\n"
     ]
    }
   ],
   "source": [
    "for n in range(1,4):\n",
    "    for v in range(1,4):\n",
    "        print(n, v)\n"
   ]
  },
  {
   "cell_type": "code",
   "execution_count": null,
   "id": "872cc031",
   "metadata": {},
   "outputs": [],
   "source": []
  },
  {
   "cell_type": "code",
   "execution_count": 4,
   "id": "936cb0f3",
   "metadata": {},
   "outputs": [
    {
     "data": {
      "text/plain": [
       "4.58257569495584"
      ]
     },
     "execution_count": 4,
     "metadata": {},
     "output_type": "execute_result"
    }
   ],
   "source": [
    "np.sqrt(21)"
   ]
  },
  {
   "cell_type": "markdown",
   "id": "0d6301c5",
   "metadata": {},
   "source": [
    "Let's get the factors of L"
   ]
  },
  {
   "cell_type": "code",
   "execution_count": 5,
   "id": "07dd1746",
   "metadata": {},
   "outputs": [
    {
     "data": {
      "text/plain": [
       "array([2.44, 3.66, 1.22, 4.88])"
      ]
     },
     "execution_count": 5,
     "metadata": {},
     "output_type": "execute_result"
    }
   ],
   "source": [
    "# for 21\n",
    "np.random.choice(np.arange(1.22, int(np.sqrt(21) + 1.22), 1.22), 4, False)"
   ]
  },
  {
   "cell_type": "code",
   "execution_count": 232,
   "id": "7bf6801b",
   "metadata": {},
   "outputs": [
    {
     "data": {
      "text/plain": [
       "[1.22, 2.44, 3.66, 4.88, 6.1, 7.32]"
      ]
     },
     "execution_count": 232,
     "metadata": {},
     "output_type": "execute_result"
    }
   ],
   "source": [
    "# for 51\n",
    "values = np.round(np.arange(1.22, int(np.sqrt(51) + 1.22), 1.22), 2)\n",
    "sorted(np.random.choice(values, len(values), False))"
   ]
  },
  {
   "cell_type": "code",
   "execution_count": 182,
   "id": "54c6b1c3",
   "metadata": {},
   "outputs": [
    {
     "data": {
      "text/plain": [
       "[1.22, 2.44, 3.66, 4.88, 6.1, 7.32, 8.54, 9.76, 10.98]"
      ]
     },
     "execution_count": 182,
     "metadata": {},
     "output_type": "execute_result"
    }
   ],
   "source": [
    "# for 100\n",
    "values = np.round(np.arange(1.22, int(np.sqrt(100) + 1.22), 1.22), 2)\n",
    "sorted(np.random.choice(values, len(values), False))"
   ]
  },
  {
   "cell_type": "code",
   "execution_count": 113,
   "id": "87a6dd71",
   "metadata": {},
   "outputs": [
    {
     "data": {
      "text/plain": [
       "[2.44, 2.44, 2.44, 3.66]"
      ]
     },
     "execution_count": 113,
     "metadata": {},
     "output_type": "execute_result"
    }
   ],
   "source": [
    "[np.random.randint(1, np.sqrt(21)) * 1.22 for _ in range(4)]"
   ]
  },
  {
   "cell_type": "markdown",
   "id": "f905c4cc",
   "metadata": {},
   "source": [
    "Let's get the factors of H"
   ]
  },
  {
   "cell_type": "code",
   "execution_count": 226,
   "id": "11833824",
   "metadata": {},
   "outputs": [
    {
     "data": {
      "text/plain": [
       "[1.22, 2.44, 3.66]"
      ]
     },
     "execution_count": 226,
     "metadata": {},
     "output_type": "execute_result"
    }
   ],
   "source": [
    "val = np.arange(1.22, 3.66 + 1.22, 1.22)\n",
    "sorted(np.random.choice(val, len(val), False))"
   ]
  },
  {
   "cell_type": "code",
   "execution_count": 117,
   "id": "5c95c22e",
   "metadata": {},
   "outputs": [
    {
     "data": {
      "text/plain": [
       "14.526784"
      ]
     },
     "execution_count": 117,
     "metadata": {},
     "output_type": "execute_result"
    }
   ],
   "source": [
    "2.44 * 2.44 * 2.44"
   ]
  },
  {
   "cell_type": "code",
   "execution_count": null,
   "id": "3acee226",
   "metadata": {},
   "outputs": [],
   "source": []
  },
  {
   "cell_type": "code",
   "execution_count": 91,
   "id": "d95a1637",
   "metadata": {},
   "outputs": [
    {
     "data": {
      "text/plain": [
       "array([0.71945115, 0.0284928 , 0.65881516, 0.38703569, 0.46273192])"
      ]
     },
     "execution_count": 91,
     "metadata": {},
     "output_type": "execute_result"
    }
   ],
   "source": [
    "np.random.random_sample(5)"
   ]
  },
  {
   "cell_type": "markdown",
   "id": "dde59287",
   "metadata": {},
   "source": [
    "### Volume for GRP Tank"
   ]
  },
  {
   "cell_type": "code",
   "execution_count": 75,
   "id": "90e5e785",
   "metadata": {},
   "outputs": [
    {
     "name": "stdout",
     "output_type": "stream",
     "text": [
      "Length is  10\n",
      "Breadth is  8\n",
      "Height is  3\n"
     ]
    },
    {
     "data": {
      "text/plain": [
       "'randomized volume is 240'"
      ]
     },
     "execution_count": 75,
     "metadata": {},
     "output_type": "execute_result"
    }
   ],
   "source": [
    "def vol_of_grp_tank(vol, height):\n",
    "    \n",
    "    lgth = np.random.choice(np.arange(1, int(np.sqrt(vol)), 1))\n",
    "    brth = np.random.choice(np.arange(1, int(np.sqrt(vol)), 1))\n",
    "    hght = np.random.choice(np.arange(1, height + 1, 1))\n",
    "    \n",
    "    \n",
    "    if brth > lgth:\n",
    "        brth = lgth\n",
    "        \n",
    "    randomized_vol = round(lgth * brth * hght, 2)\n",
    "    print(\"Length is \", lgth)\n",
    "    print(\"Breadth is \", brth)\n",
    "    print(\"Height is \", hght)\n",
    "    \n",
    "    return \"randomized volume is {}\".format(randomized_vol) \n",
    "\n",
    "vol_of_grp_tank(200, 3)"
   ]
  },
  {
   "cell_type": "code",
   "execution_count": null,
   "id": "4729ab6c",
   "metadata": {},
   "outputs": [],
   "source": []
  },
  {
   "cell_type": "code",
   "execution_count": null,
   "id": "96894fcc",
   "metadata": {},
   "outputs": [],
   "source": []
  },
  {
   "cell_type": "code",
   "execution_count": null,
   "id": "1478be20",
   "metadata": {},
   "outputs": [],
   "source": []
  },
  {
   "cell_type": "code",
   "execution_count": null,
   "id": "7b32eba3",
   "metadata": {},
   "outputs": [],
   "source": []
  },
  {
   "cell_type": "code",
   "execution_count": null,
   "id": "f6d0d355",
   "metadata": {},
   "outputs": [],
   "source": []
  },
  {
   "cell_type": "code",
   "execution_count": null,
   "id": "290e6ea5",
   "metadata": {},
   "outputs": [],
   "source": []
  }
 ],
 "metadata": {
  "kernelspec": {
   "display_name": "Python 3 (ipykernel)",
   "language": "python",
   "name": "python3"
  },
  "language_info": {
   "codemirror_mode": {
    "name": "ipython",
    "version": 3
   },
   "file_extension": ".py",
   "mimetype": "text/x-python",
   "name": "python",
   "nbconvert_exporter": "python",
   "pygments_lexer": "ipython3",
   "version": "3.9.12"
  }
 },
 "nbformat": 4,
 "nbformat_minor": 5
}

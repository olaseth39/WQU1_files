{
 "cells": [
  {
   "cell_type": "code",
   "execution_count": 5,
   "id": "9450aeaa",
   "metadata": {},
   "outputs": [],
   "source": [
    "%matplotlib inline\n",
    "import matplotlib\n",
    "import seaborn as sns\n",
    "matplotlib.rcParams['savefig.dpi'] = 144\n",
    "import pandas as pd"
   ]
  },
  {
   "cell_type": "markdown",
   "id": "63a37834",
   "metadata": {},
   "source": [
    "### Problem Statement"
   ]
  },
  {
   "cell_type": "markdown",
   "id": "091c4b1b",
   "metadata": {},
   "source": [
    "1. Which company type has the highest market share, with the hierarchy"
   ]
  },
  {
   "cell_type": "markdown",
   "id": "a57ecfcc",
   "metadata": {},
   "source": [
    "To do this:\n",
    "- Find the total sum of the revenue of all the company type\n",
    "- Find the sub total of each of the company type\n",
    "- Divide the sub total of each company type by the total sum of the revenue to get the market share"
   ]
  },
  {
   "cell_type": "markdown",
   "id": "13404718",
   "metadata": {},
   "source": [
    "Let's web-scrape the data from wikipedia using pd.read_html\n",
    "- note: the pd.read_html scrapes all the table from the page"
   ]
  },
  {
   "cell_type": "code",
   "execution_count": 6,
   "id": "d9c27286",
   "metadata": {},
   "outputs": [],
   "source": [
    "df_all = pd.read_html('https://en.wikipedia.org/wiki/List_of_largest_companies_by_revenue', header=0, skiprows=1)"
   ]
  },
  {
   "cell_type": "markdown",
   "id": "38a0a23d",
   "metadata": {},
   "source": [
    "Let's see the first five rows of the first table"
   ]
  },
  {
   "cell_type": "code",
   "execution_count": 7,
   "id": "7dce190b",
   "metadata": {},
   "outputs": [
    {
     "data": {
      "text/html": [
       "<div>\n",
       "<style scoped>\n",
       "    .dataframe tbody tr th:only-of-type {\n",
       "        vertical-align: middle;\n",
       "    }\n",
       "\n",
       "    .dataframe tbody tr th {\n",
       "        vertical-align: top;\n",
       "    }\n",
       "\n",
       "    .dataframe thead th {\n",
       "        text-align: right;\n",
       "    }\n",
       "</style>\n",
       "<table border=\"1\" class=\"dataframe\">\n",
       "  <thead>\n",
       "    <tr style=\"text-align: right;\">\n",
       "      <th></th>\n",
       "      <th>Rank.</th>\n",
       "      <th>Name.</th>\n",
       "      <th>Industry under which the companies are</th>\n",
       "      <th>USD millions</th>\n",
       "      <th>USD millions.1</th>\n",
       "      <th>Employed members of the Company are:</th>\n",
       "      <th>Headquarters[note 1]</th>\n",
       "      <th>State-owned</th>\n",
       "      <th>Ref.</th>\n",
       "    </tr>\n",
       "  </thead>\n",
       "  <tbody>\n",
       "    <tr>\n",
       "      <th>0</th>\n",
       "      <td>1</td>\n",
       "      <td>Walmart</td>\n",
       "      <td>Retail</td>\n",
       "      <td>$572,754</td>\n",
       "      <td>$13,673</td>\n",
       "      <td>2300000</td>\n",
       "      <td>United States</td>\n",
       "      <td>NaN</td>\n",
       "      <td>[1]</td>\n",
       "    </tr>\n",
       "    <tr>\n",
       "      <th>1</th>\n",
       "      <td>2</td>\n",
       "      <td>Amazon.com, Inc.</td>\n",
       "      <td>Retail</td>\n",
       "      <td>$469,822</td>\n",
       "      <td>$33,364</td>\n",
       "      <td>1608000</td>\n",
       "      <td>United States</td>\n",
       "      <td>NaN</td>\n",
       "      <td>[4]</td>\n",
       "    </tr>\n",
       "    <tr>\n",
       "      <th>2</th>\n",
       "      <td>3</td>\n",
       "      <td>State Grid Corporation of China</td>\n",
       "      <td>Electricity</td>\n",
       "      <td>$460,616.9</td>\n",
       "      <td>$7,137.8</td>\n",
       "      <td>871145</td>\n",
       "      <td>China</td>\n",
       "      <td>NaN</td>\n",
       "      <td>[5]</td>\n",
       "    </tr>\n",
       "    <tr>\n",
       "      <th>3</th>\n",
       "      <td>4</td>\n",
       "      <td>China National Petroleum Corporation</td>\n",
       "      <td>Oil and gas</td>\n",
       "      <td>$411,692.9</td>\n",
       "      <td>$9,637.5</td>\n",
       "      <td>1090345</td>\n",
       "      <td>China</td>\n",
       "      <td>NaN</td>\n",
       "      <td>[6]</td>\n",
       "    </tr>\n",
       "    <tr>\n",
       "      <th>4</th>\n",
       "      <td>5</td>\n",
       "      <td>China Petrochemical Corporation</td>\n",
       "      <td>Oil and gas</td>\n",
       "      <td>$401,313.5</td>\n",
       "      <td>$8,316.1</td>\n",
       "      <td>542286</td>\n",
       "      <td>China</td>\n",
       "      <td>NaN</td>\n",
       "      <td>[7]</td>\n",
       "    </tr>\n",
       "  </tbody>\n",
       "</table>\n",
       "</div>"
      ],
      "text/plain": [
       "   Rank.                                 Name.  \\\n",
       "0      1                               Walmart   \n",
       "1      2                      Amazon.com, Inc.   \n",
       "2      3       State Grid Corporation of China   \n",
       "3      4  China National Petroleum Corporation   \n",
       "4      5       China Petrochemical Corporation   \n",
       "\n",
       "  Industry under which the companies are USD millions USD millions.1  \\\n",
       "0                                 Retail     $572,754        $13,673   \n",
       "1                                 Retail     $469,822        $33,364   \n",
       "2                            Electricity   $460,616.9       $7,137.8   \n",
       "3                            Oil and gas   $411,692.9       $9,637.5   \n",
       "4                            Oil and gas   $401,313.5       $8,316.1   \n",
       "\n",
       "   Employed members of the Company are: Headquarters[note 1]  State-owned Ref.  \n",
       "0                               2300000        United States          NaN  [1]  \n",
       "1                               1608000        United States          NaN  [4]  \n",
       "2                                871145                China          NaN  [5]  \n",
       "3                               1090345                China          NaN  [6]  \n",
       "4                                542286                China          NaN  [7]  "
      ]
     },
     "execution_count": 7,
     "metadata": {},
     "output_type": "execute_result"
    }
   ],
   "source": [
    "df_all[0].head()"
   ]
  },
  {
   "cell_type": "code",
   "execution_count": 61,
   "id": "4200b2bd",
   "metadata": {},
   "outputs": [],
   "source": [
    "#rename the first table df\n",
    "df = df_all[0]"
   ]
  },
  {
   "cell_type": "markdown",
   "id": "70ce2b9e",
   "metadata": {},
   "source": [
    "First let's rename the field names"
   ]
  },
  {
   "cell_type": "code",
   "execution_count": 10,
   "id": "f925d9a1",
   "metadata": {},
   "outputs": [],
   "source": [
    "#df.columns"
   ]
  },
  {
   "cell_type": "code",
   "execution_count": 11,
   "id": "60826d36",
   "metadata": {},
   "outputs": [],
   "source": [
    "df.rename(columns = {'Name.' : 'Company', 'Industry under which the companies are': 'Company_type',\n",
    "                       'USD millions': 'Revenue','USD millions.1': 'Profit',\n",
    "                             'Employed members of the Company are:': 'Employees_number',\n",
    "                                   'Headquarters[note 1]': 'Headquaters'}, inplace=True)"
   ]
  },
  {
   "cell_type": "code",
   "execution_count": 12,
   "id": "f514514d",
   "metadata": {},
   "outputs": [
    {
     "data": {
      "text/html": [
       "<div>\n",
       "<style scoped>\n",
       "    .dataframe tbody tr th:only-of-type {\n",
       "        vertical-align: middle;\n",
       "    }\n",
       "\n",
       "    .dataframe tbody tr th {\n",
       "        vertical-align: top;\n",
       "    }\n",
       "\n",
       "    .dataframe thead th {\n",
       "        text-align: right;\n",
       "    }\n",
       "</style>\n",
       "<table border=\"1\" class=\"dataframe\">\n",
       "  <thead>\n",
       "    <tr style=\"text-align: right;\">\n",
       "      <th></th>\n",
       "      <th>Rank.</th>\n",
       "      <th>Company</th>\n",
       "      <th>Company_type</th>\n",
       "      <th>Revenue</th>\n",
       "      <th>Profit</th>\n",
       "      <th>Employees_number</th>\n",
       "      <th>Headquaters</th>\n",
       "      <th>State-owned</th>\n",
       "      <th>Ref.</th>\n",
       "    </tr>\n",
       "  </thead>\n",
       "  <tbody>\n",
       "    <tr>\n",
       "      <th>0</th>\n",
       "      <td>1</td>\n",
       "      <td>Walmart</td>\n",
       "      <td>Retail</td>\n",
       "      <td>$572,754</td>\n",
       "      <td>$13,673</td>\n",
       "      <td>2300000</td>\n",
       "      <td>United States</td>\n",
       "      <td>NaN</td>\n",
       "      <td>[1]</td>\n",
       "    </tr>\n",
       "    <tr>\n",
       "      <th>1</th>\n",
       "      <td>2</td>\n",
       "      <td>Amazon.com, Inc.</td>\n",
       "      <td>Retail</td>\n",
       "      <td>$469,822</td>\n",
       "      <td>$33,364</td>\n",
       "      <td>1608000</td>\n",
       "      <td>United States</td>\n",
       "      <td>NaN</td>\n",
       "      <td>[4]</td>\n",
       "    </tr>\n",
       "    <tr>\n",
       "      <th>2</th>\n",
       "      <td>3</td>\n",
       "      <td>State Grid Corporation of China</td>\n",
       "      <td>Electricity</td>\n",
       "      <td>$460,616.9</td>\n",
       "      <td>$7,137.8</td>\n",
       "      <td>871145</td>\n",
       "      <td>China</td>\n",
       "      <td>NaN</td>\n",
       "      <td>[5]</td>\n",
       "    </tr>\n",
       "    <tr>\n",
       "      <th>3</th>\n",
       "      <td>4</td>\n",
       "      <td>China National Petroleum Corporation</td>\n",
       "      <td>Oil and gas</td>\n",
       "      <td>$411,692.9</td>\n",
       "      <td>$9,637.5</td>\n",
       "      <td>1090345</td>\n",
       "      <td>China</td>\n",
       "      <td>NaN</td>\n",
       "      <td>[6]</td>\n",
       "    </tr>\n",
       "    <tr>\n",
       "      <th>4</th>\n",
       "      <td>5</td>\n",
       "      <td>China Petrochemical Corporation</td>\n",
       "      <td>Oil and gas</td>\n",
       "      <td>$401,313.5</td>\n",
       "      <td>$8,316.1</td>\n",
       "      <td>542286</td>\n",
       "      <td>China</td>\n",
       "      <td>NaN</td>\n",
       "      <td>[7]</td>\n",
       "    </tr>\n",
       "  </tbody>\n",
       "</table>\n",
       "</div>"
      ],
      "text/plain": [
       "   Rank.                               Company Company_type     Revenue  \\\n",
       "0      1                               Walmart       Retail    $572,754   \n",
       "1      2                      Amazon.com, Inc.       Retail    $469,822   \n",
       "2      3       State Grid Corporation of China  Electricity  $460,616.9   \n",
       "3      4  China National Petroleum Corporation  Oil and gas  $411,692.9   \n",
       "4      5       China Petrochemical Corporation  Oil and gas  $401,313.5   \n",
       "\n",
       "     Profit  Employees_number    Headquaters  State-owned Ref.  \n",
       "0   $13,673           2300000  United States          NaN  [1]  \n",
       "1   $33,364           1608000  United States          NaN  [4]  \n",
       "2  $7,137.8            871145          China          NaN  [5]  \n",
       "3  $9,637.5           1090345          China          NaN  [6]  \n",
       "4  $8,316.1            542286          China          NaN  [7]  "
      ]
     },
     "execution_count": 12,
     "metadata": {},
     "output_type": "execute_result"
    }
   ],
   "source": [
    "df.head()"
   ]
  },
  {
   "cell_type": "markdown",
   "id": "6c672beb",
   "metadata": {},
   "source": [
    "Let's drop the columns we don't really need"
   ]
  },
  {
   "cell_type": "code",
   "execution_count": 62,
   "id": "685c8340",
   "metadata": {},
   "outputs": [],
   "source": [
    "df = df.drop(['Rank.', 'State-owned', 'Ref.'], axis=1)"
   ]
  },
  {
   "cell_type": "markdown",
   "id": "05112a14",
   "metadata": {},
   "source": [
    "Now check out the new data"
   ]
  },
  {
   "cell_type": "code",
   "execution_count": 63,
   "id": "d7ad54ed",
   "metadata": {},
   "outputs": [
    {
     "data": {
      "text/html": [
       "<div>\n",
       "<style scoped>\n",
       "    .dataframe tbody tr th:only-of-type {\n",
       "        vertical-align: middle;\n",
       "    }\n",
       "\n",
       "    .dataframe tbody tr th {\n",
       "        vertical-align: top;\n",
       "    }\n",
       "\n",
       "    .dataframe thead th {\n",
       "        text-align: right;\n",
       "    }\n",
       "</style>\n",
       "<table border=\"1\" class=\"dataframe\">\n",
       "  <thead>\n",
       "    <tr style=\"text-align: right;\">\n",
       "      <th></th>\n",
       "      <th>Company</th>\n",
       "      <th>Company_type</th>\n",
       "      <th>Revenue</th>\n",
       "      <th>Profit</th>\n",
       "      <th>Employees_number</th>\n",
       "      <th>Headquaters</th>\n",
       "    </tr>\n",
       "  </thead>\n",
       "  <tbody>\n",
       "    <tr>\n",
       "      <th>0</th>\n",
       "      <td>Walmart</td>\n",
       "      <td>Retail</td>\n",
       "      <td>$572,754</td>\n",
       "      <td>$13,673</td>\n",
       "      <td>2300000</td>\n",
       "      <td>United States</td>\n",
       "    </tr>\n",
       "    <tr>\n",
       "      <th>1</th>\n",
       "      <td>Amazon.com, Inc.</td>\n",
       "      <td>Retail</td>\n",
       "      <td>$469,822</td>\n",
       "      <td>$33,364</td>\n",
       "      <td>1608000</td>\n",
       "      <td>United States</td>\n",
       "    </tr>\n",
       "    <tr>\n",
       "      <th>2</th>\n",
       "      <td>State Grid Corporation of China</td>\n",
       "      <td>Electricity</td>\n",
       "      <td>$460,616.9</td>\n",
       "      <td>$7,137.8</td>\n",
       "      <td>871145</td>\n",
       "      <td>China</td>\n",
       "    </tr>\n",
       "    <tr>\n",
       "      <th>3</th>\n",
       "      <td>China National Petroleum Corporation</td>\n",
       "      <td>Oil and gas</td>\n",
       "      <td>$411,692.9</td>\n",
       "      <td>$9,637.5</td>\n",
       "      <td>1090345</td>\n",
       "      <td>China</td>\n",
       "    </tr>\n",
       "    <tr>\n",
       "      <th>4</th>\n",
       "      <td>China Petrochemical Corporation</td>\n",
       "      <td>Oil and gas</td>\n",
       "      <td>$401,313.5</td>\n",
       "      <td>$8,316.1</td>\n",
       "      <td>542286</td>\n",
       "      <td>China</td>\n",
       "    </tr>\n",
       "  </tbody>\n",
       "</table>\n",
       "</div>"
      ],
      "text/plain": [
       "                                Company Company_type     Revenue    Profit  \\\n",
       "0                               Walmart       Retail    $572,754   $13,673   \n",
       "1                      Amazon.com, Inc.       Retail    $469,822   $33,364   \n",
       "2       State Grid Corporation of China  Electricity  $460,616.9  $7,137.8   \n",
       "3  China National Petroleum Corporation  Oil and gas  $411,692.9  $9,637.5   \n",
       "4       China Petrochemical Corporation  Oil and gas  $401,313.5  $8,316.1   \n",
       "\n",
       "   Employees_number    Headquaters  \n",
       "0           2300000  United States  \n",
       "1           1608000  United States  \n",
       "2            871145          China  \n",
       "3           1090345          China  \n",
       "4            542286          China  "
      ]
     },
     "execution_count": 63,
     "metadata": {},
     "output_type": "execute_result"
    }
   ],
   "source": [
    "df.head()"
   ]
  },
  {
   "cell_type": "markdown",
   "id": "98d928c9",
   "metadata": {},
   "source": [
    "This is quite better"
   ]
  },
  {
   "cell_type": "markdown",
   "id": "8c515a03",
   "metadata": {},
   "source": [
    "Let's turn this to a JSON format"
   ]
  },
  {
   "cell_type": "code",
   "execution_count": 64,
   "id": "d2cb66ad",
   "metadata": {},
   "outputs": [],
   "source": [
    "import json\n",
    "company_type = json.loads(df.to_json(orient='records'))"
   ]
  },
  {
   "cell_type": "markdown",
   "id": "f72075b5",
   "metadata": {},
   "source": [
    "Now let's check the first few data"
   ]
  },
  {
   "cell_type": "code",
   "execution_count": 65,
   "id": "d60548d5",
   "metadata": {},
   "outputs": [
    {
     "data": {
      "text/plain": [
       "[{'Company': 'Walmart',\n",
       "  'Company_type': 'Retail',\n",
       "  'Revenue': '$572,754',\n",
       "  'Profit': '$13,673',\n",
       "  'Employees_number': 2300000,\n",
       "  'Headquaters': 'United States'},\n",
       " {'Company': 'Amazon.com, Inc.',\n",
       "  'Company_type': 'Retail',\n",
       "  'Revenue': '$469,822',\n",
       "  'Profit': '$33,364',\n",
       "  'Employees_number': 1608000,\n",
       "  'Headquaters': 'United States'},\n",
       " {'Company': 'State Grid Corporation of China',\n",
       "  'Company_type': 'Electricity',\n",
       "  'Revenue': '$460,616.9',\n",
       "  'Profit': '$7,137.8',\n",
       "  'Employees_number': 871145,\n",
       "  'Headquaters': 'China'}]"
      ]
     },
     "execution_count": 65,
     "metadata": {},
     "output_type": "execute_result"
    }
   ],
   "source": [
    "company_type[:3]"
   ]
  },
  {
   "cell_type": "markdown",
   "id": "046fa2f1",
   "metadata": {},
   "source": [
    "Could we check all the company types we have?"
   ]
  },
  {
   "cell_type": "code",
   "execution_count": 66,
   "id": "7724e3c0",
   "metadata": {},
   "outputs": [
    {
     "name": "stdout",
     "output_type": "stream",
     "text": [
      "{'Information technology', 'Electronics', 'Construction', 'Commodities', 'Chemicals', 'Automotive', 'Insurance', 'Oil and gas', 'Steel', 'Retail', 'Conglomerate', 'Telecommunications', 'Healthcare', 'Financials', 'Electricity'}\n",
      "--------\n",
      "We have 15 company types\n"
     ]
    }
   ],
   "source": [
    "# get the number of companygroup\n",
    "Number_of_company_type = len(set([data['Company_type'] for data in company_type]))\n",
    "\n",
    "print(set([data['Company_type'] for data in company_type]))\n",
    "print(\"--------\")\n",
    "print(f\"We have {Number_of_company_type} company types\")"
   ]
  },
  {
   "cell_type": "markdown",
   "id": "af53ea35",
   "metadata": {},
   "source": [
    "Now, 1 - Let's find the total sum of all the revenues\n",
    "\n",
    "We need to get rid of the dollar sign and replace the ',' with '_' to be able to convert the value to a float for total summation. Note, the _ sign is a thousand divide in Python."
   ]
  },
  {
   "cell_type": "code",
   "execution_count": 67,
   "id": "0c4659ee",
   "metadata": {},
   "outputs": [
    {
     "data": {
      "text/plain": [
       "11627790.100000001"
      ]
     },
     "execution_count": 67,
     "metadata": {},
     "output_type": "execute_result"
    }
   ],
   "source": [
    "total_rev = sum([float(data['Revenue'].strip('$').replace(',','_')) for data in company_type])\n",
    "total_rev"
   ]
  },
  {
   "cell_type": "markdown",
   "id": "8faeb8f6",
   "metadata": {},
   "source": [
    "Now that we have found the total revenue for all the 15 company types, let's proceed to find the sub-total for each of the type"
   ]
  },
  {
   "cell_type": "code",
   "execution_count": 68,
   "id": "98340883",
   "metadata": {},
   "outputs": [
    {
     "data": {
      "text/plain": [
       "{'Automotive',\n",
       " 'Chemicals',\n",
       " 'Commodities',\n",
       " 'Conglomerate',\n",
       " 'Construction',\n",
       " 'Electricity',\n",
       " 'Electronics',\n",
       " 'Financials',\n",
       " 'Healthcare',\n",
       " 'Information technology',\n",
       " 'Insurance',\n",
       " 'Oil and gas',\n",
       " 'Retail',\n",
       " 'Steel',\n",
       " 'Telecommunications'}"
      ]
     },
     "execution_count": 68,
     "metadata": {},
     "output_type": "execute_result"
    }
   ],
   "source": [
    "# the types of companies we have again in alphabetical order\n",
    "groups = set([data['Company_type'] for data in company_type])\n",
    "groups"
   ]
  },
  {
   "cell_type": "code",
   "execution_count": 124,
   "id": "f43d264e",
   "metadata": {},
   "outputs": [],
   "source": [
    "def distinct_group(company_type, total_rev=total_rev):\n",
    "    \n",
    "    group_sum = {} # dict for company type and total by grooups\n",
    "    group_sum_mkt_share = {} # dict for company type and market share\n",
    "    \n",
    "    for value in company_type:\n",
    "        if value['Company_type'] not in group_sum:\n",
    "            group_sum[value['Company_type']] = float(value['Revenue'].strip('$').replace(',','_'))\n",
    "        else:\n",
    "            group_sum[value['Company_type']] += float(value['Revenue'].strip('$').replace(',','_'))\n",
    "    \n",
    "    for key, val in group_sum.items():\n",
    "        group_sum_mkt_share[key] = round(val / total_rev,2)\n",
    "        \n",
    "    return sorted(group_sum_mkt_share.items(), key = lambda x: x[1], reverse=True)"
   ]
  },
  {
   "cell_type": "code",
   "execution_count": 125,
   "id": "941de333",
   "metadata": {},
   "outputs": [
    {
     "data": {
      "text/plain": [
       "[('Oil and gas', 0.21),\n",
       " ('Retail', 0.14),\n",
       " ('Healthcare', 0.13),\n",
       " ('Financials', 0.13),\n",
       " ('Automotive', 0.08),\n",
       " ('Electronics', 0.07),\n",
       " ('Construction', 0.05),\n",
       " ('Electricity', 0.04),\n",
       " ('Information technology', 0.04),\n",
       " ('Commodities', 0.04),\n",
       " ('Chemicals', 0.01),\n",
       " ('Telecommunications', 0.01),\n",
       " ('Insurance', 0.01),\n",
       " ('Conglomerate', 0.01),\n",
       " ('Steel', 0.01)]"
      ]
     },
     "execution_count": 125,
     "metadata": {},
     "output_type": "execute_result"
    }
   ],
   "source": [
    "distinct_group(company_type)"
   ]
  },
  {
   "cell_type": "markdown",
   "id": "0f41fd92",
   "metadata": {},
   "source": [
    "From the result above, the Oil and Gas industry has the highest market share according to fortune Global 500 2022"
   ]
  }
 ],
 "metadata": {
  "kernelspec": {
   "display_name": "Python 3 (ipykernel)",
   "language": "python",
   "name": "python3"
  },
  "language_info": {
   "codemirror_mode": {
    "name": "ipython",
    "version": 3
   },
   "file_extension": ".py",
   "mimetype": "text/x-python",
   "name": "python",
   "nbconvert_exporter": "python",
   "pygments_lexer": "ipython3",
   "version": "3.9.12"
  }
 },
 "nbformat": 4,
 "nbformat_minor": 5
}

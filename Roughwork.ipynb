{
 "cells": [
  {
   "cell_type": "code",
   "execution_count": 3,
   "id": "c99464ec",
   "metadata": {},
   "outputs": [],
   "source": [
    "def find_ele(list_, ele):\n",
    "    for i in list_:\n",
    "        if i == ele:\n",
    "            return True\n",
    "    return False"
   ]
  },
  {
   "cell_type": "code",
   "execution_count": 4,
   "id": "aa4a30d8",
   "metadata": {},
   "outputs": [],
   "source": [
    "def random_list(N, sort=False):\n",
    "    list_ = [random.randint(0, 10*N) for _ in np.arange(N)]\n",
    "    return sorted(list_) if sort else list_"
   ]
  },
  {
   "cell_type": "code",
   "execution_count": 5,
   "id": "122494a9",
   "metadata": {},
   "outputs": [],
   "source": [
    "import time\n",
    "import numpy as np\n",
    "import random\n",
    "import matplotlib.pyplot as plt\n",
    "\n",
    "def time_func(func, *avgs):\n",
    "    ts = time.time()\n",
    "    func(*avgs)\n",
    "    return time.time() - ts\n",
    "\n",
    "def compute_with_list(n_avgs, N, sort, *funcs):\n",
    "    ans = []\n",
    "    for _ in range(n_avgs):\n",
    "        list_r = random_list(N, sort)\n",
    "        n_to_find = random.randint(0, 10*N)\n",
    "        ans.append([time_func(func, list_r, n_to_find) for func in funcs])\n",
    "        #now find avgs\n",
    "        return np.array(ans).mean(axis=0)*1000\n",
    "    \n",
    "n_avgs = 40\n",
    "N_range = range(10, 100000, 10000)\n",
    "time_list = np.array([compute_with_list(n_avgs, N, False, find_ele) for N in N_range])"
   ]
  },
  {
   "cell_type": "code",
   "execution_count": 9,
   "id": "3cb762d9",
   "metadata": {},
   "outputs": [
    {
     "data": {
      "text/plain": [
       "[<matplotlib.lines.Line2D at 0x188b1e092b0>]"
      ]
     },
     "execution_count": 9,
     "metadata": {},
     "output_type": "execute_result"
    },
    {
     "data": {
      "image/png": "[encoded data removed]",
      "text/plain": [
       "<Figure size 432x288 with 1 Axes>"
      ]
     },
     "metadata": {
      "needs_background": "light"
     },
     "output_type": "display_data"
    }
   ],
   "source": [
    "plt.plot(N_range, time_list, \"o-\")"
   ]
  },
  {
   "cell_type": "code",
   "execution_count": 10,
   "id": "73b54852",
   "metadata": {},
   "outputs": [],
   "source": [
    "def find_element_sorted(list_, ele):\n",
    "    for i in list_:\n",
    "        if i == ele:\n",
    "            return ele\n",
    "        elif i > ele:\n",
    "            return False\n",
    "    return False\n",
    "\n",
    "n_avgs = 40\n",
    "N_range = range(10, 100000, 10000)\n",
    "time_list = np.array([compute_with_list(n_avgs, N, True, find_ele, find_element_sorted) for N in N_range])"
   ]
  },
  {
   "cell_type": "code",
   "execution_count": 11,
   "id": "481dfd9f",
   "metadata": {},
   "outputs": [
    {
     "data": {
      "text/plain": [
       "<matplotlib.legend.Legend at 0x188b1c09d60>"
      ]
     },
     "execution_count": 11,
     "metadata": {},
     "output_type": "execute_result"
    },
    {
     "data": {
      "image/png": "[encoded data removed]",
      "text/plain": [
       "<Figure size 432x288 with 1 Axes>"
      ]
     },
     "metadata": {
      "needs_background": "light"
     },
     "output_type": "display_data"
    }
   ],
   "source": [
    "plt.plot(N_range, time_list[:,0], \"o-\", label=\"find_ele\")\n",
    "plt.plot(N_range, time_list[:,1], \"o-\", label=\"find_element_sorted\")\n",
    "plt.legend()"
   ]
  },
  {
   "cell_type": "code",
   "execution_count": 12,
   "id": "78b19042",
   "metadata": {},
   "outputs": [
    {
     "data": {
      "text/plain": [
       "1.0"
      ]
     },
     "execution_count": 12,
     "metadata": {},
     "output_type": "execute_result"
    }
   ],
   "source": [
    "test = [1,2]\n",
    "len(test)/2"
   ]
  },
  {
   "cell_type": "markdown",
   "id": "38b43a2d",
   "metadata": {},
   "source": [
    "enumerate (adapted from geeks for geeks)"
   ]
  },
  {
   "cell_type": "markdown",
   "id": "6bcc179e",
   "metadata": {},
   "source": [
    "Enumerate() method adds a counter to an iterable and returns it in a form of enumerating object. This enumerated object can then be used directly for loops or converted into a list of tuples using the list() method\n",
    "- syntax:\n",
    "- enumerate(iterable, start=0)\n",
    "-Iterable: any object that supports iteration\n",
    "-start: the index value from which the counter is to be started, by default it is o"
   ]
  },
  {
   "cell_type": "code",
   "execution_count": 16,
   "id": "74e12cd2",
   "metadata": {},
   "outputs": [
    {
     "data": {
      "text/plain": [
       "[(0, 'eat'), (1, 'sleep'), (2, 'repeat')]"
      ]
     },
     "execution_count": 16,
     "metadata": {},
     "output_type": "execute_result"
    }
   ],
   "source": [
    "li = [\"eat\", \"sleep\", \"repeat\"]\n",
    "list(enumerate(li))"
   ]
  },
  {
   "cell_type": "code",
   "execution_count": 22,
   "id": "551a28b0",
   "metadata": {},
   "outputs": [
    {
     "name": "stdout",
     "output_type": "stream",
     "text": [
      "0 eat\n",
      "1 sleep\n",
      "2 repeat\n"
     ]
    }
   ],
   "source": [
    "for key, value in enumerate(li):\n",
    "    print(key,value)"
   ]
  },
  {
   "cell_type": "code",
   "execution_count": 23,
   "id": "f6db13ea",
   "metadata": {},
   "outputs": [
    {
     "name": "stdout",
     "output_type": "stream",
     "text": [
      "0 find_ele_sort\n",
      "1 find_ele_binary\n"
     ]
    }
   ],
   "source": [
    "for i, func in enumerate(['find_ele_sort', 'find_ele_binary']):\n",
    "    print(i, func)\n",
    "    "
   ]
  },
  {
   "cell_type": "markdown",
   "id": "48087ae0",
   "metadata": {},
   "source": [
    "np.polyfit() adapted from documentation"
   ]
  },
  {
   "cell_type": "markdown",
   "id": "f5f5be2a",
   "metadata": {},
   "source": [
    "Example of polyfit from Educba"
   ]
  },
  {
   "cell_type": "code",
   "execution_count": 8,
   "id": "1861eea4",
   "metadata": {},
   "outputs": [
    {
     "data": {
      "text/plain": [
       "[<matplotlib.lines.Line2D at 0x1e7e4661850>]"
      ]
     },
     "execution_count": 8,
     "metadata": {},
     "output_type": "execute_result"
    },
    {
     "data": {
      "image/png": "[encoded data removed]",
      "text/plain": [
       "<Figure size 432x288 with 1 Axes>"
      ]
     },
     "metadata": {
      "needs_background": "light"
     },
     "output_type": "display_data"
    }
   ],
   "source": [
    "x = np.linspace(-10, 10, 5)\n",
    "y = x * 2 + 5\n",
    "plt.plot(x, y, 'o')"
   ]
  },
  {
   "cell_type": "markdown",
   "id": "53447c97",
   "metadata": {},
   "source": [
    "Let's add polyfit"
   ]
  },
  {
   "cell_type": "code",
   "execution_count": 10,
   "id": "ac55714e",
   "metadata": {},
   "outputs": [
    {
     "data": {
      "text/plain": [
       "[<matplotlib.lines.Line2D at 0x1e7e4eaf160>,\n",
       " <matplotlib.lines.Line2D at 0x1e7e4eaf1c0>]"
      ]
     },
     "execution_count": 10,
     "metadata": {},
     "output_type": "execute_result"
    },
    {
     "data": {
      "image/png": "[encoded data removed]",
      "text/plain": [
       "<Figure size 432x288 with 1 Axes>"
      ]
     },
     "metadata": {
      "needs_background": "light"
     },
     "output_type": "display_data"
    }
   ],
   "source": [
    "coeff = np.polyfit(x, y, 2)\n",
    "xn = np.linspace(-20, 20, 100)\n",
    "yn = np.poly1d(coeff)\n",
    "plt.plot(xn, yn(xn), x, y, 'o')"
   ]
  },
  {
   "cell_type": "code",
   "execution_count": 14,
   "id": "23230195",
   "metadata": {},
   "outputs": [
    {
     "data": {
      "text/plain": [
       "poly1d([1.82785611e-17, 2.00000000e+00, 5.00000000e+00])"
      ]
     },
     "execution_count": 14,
     "metadata": {},
     "output_type": "execute_result"
    }
   ],
   "source": [
    "yn"
   ]
  },
  {
   "cell_type": "code",
   "execution_count": 15,
   "id": "70391f46",
   "metadata": {},
   "outputs": [
    {
     "data": {
      "text/plain": [
       "array([-20.        , -19.5959596 , -19.19191919, -18.78787879,\n",
       "       -18.38383838, -17.97979798, -17.57575758, -17.17171717,\n",
       "       -16.76767677, -16.36363636, -15.95959596, -15.55555556,\n",
       "       -15.15151515, -14.74747475, -14.34343434, -13.93939394,\n",
       "       -13.53535354, -13.13131313, -12.72727273, -12.32323232,\n",
       "       -11.91919192, -11.51515152, -11.11111111, -10.70707071,\n",
       "       -10.3030303 ,  -9.8989899 ,  -9.49494949,  -9.09090909,\n",
       "        -8.68686869,  -8.28282828,  -7.87878788,  -7.47474747,\n",
       "        -7.07070707,  -6.66666667,  -6.26262626,  -5.85858586,\n",
       "        -5.45454545,  -5.05050505,  -4.64646465,  -4.24242424,\n",
       "        -3.83838384,  -3.43434343,  -3.03030303,  -2.62626263,\n",
       "        -2.22222222,  -1.81818182,  -1.41414141,  -1.01010101,\n",
       "        -0.60606061,  -0.2020202 ,   0.2020202 ,   0.60606061,\n",
       "         1.01010101,   1.41414141,   1.81818182,   2.22222222,\n",
       "         2.62626263,   3.03030303,   3.43434343,   3.83838384,\n",
       "         4.24242424,   4.64646465,   5.05050505,   5.45454545,\n",
       "         5.85858586,   6.26262626,   6.66666667,   7.07070707,\n",
       "         7.47474747,   7.87878788,   8.28282828,   8.68686869,\n",
       "         9.09090909,   9.49494949,   9.8989899 ,  10.3030303 ,\n",
       "        10.70707071,  11.11111111,  11.51515152,  11.91919192,\n",
       "        12.32323232,  12.72727273,  13.13131313,  13.53535354,\n",
       "        13.93939394,  14.34343434,  14.74747475,  15.15151515,\n",
       "        15.55555556,  15.95959596,  16.36363636,  16.76767677,\n",
       "        17.17171717,  17.57575758,  17.97979798,  18.38383838,\n",
       "        18.78787879,  19.19191919,  19.5959596 ,  20.        ])"
      ]
     },
     "execution_count": 15,
     "metadata": {},
     "output_type": "execute_result"
    }
   ],
   "source": [
    "xn"
   ]
  },
  {
   "cell_type": "code",
   "execution_count": 12,
   "id": "44fd999e",
   "metadata": {},
   "outputs": [
    {
     "data": {
      "text/plain": [
       "array([-35.        , -34.19191919, -33.38383838, -32.57575758,\n",
       "       -31.76767677, -30.95959596, -30.15151515, -29.34343434,\n",
       "       -28.53535354, -27.72727273, -26.91919192, -26.11111111,\n",
       "       -25.3030303 , -24.49494949, -23.68686869, -22.87878788,\n",
       "       -22.07070707, -21.26262626, -20.45454545, -19.64646465,\n",
       "       -18.83838384, -18.03030303, -17.22222222, -16.41414141,\n",
       "       -15.60606061, -14.7979798 , -13.98989899, -13.18181818,\n",
       "       -12.37373737, -11.56565657, -10.75757576,  -9.94949495,\n",
       "        -9.14141414,  -8.33333333,  -7.52525253,  -6.71717172,\n",
       "        -5.90909091,  -5.1010101 ,  -4.29292929,  -3.48484848,\n",
       "        -2.67676768,  -1.86868687,  -1.06060606,  -0.25252525,\n",
       "         0.55555556,   1.36363636,   2.17171717,   2.97979798,\n",
       "         3.78787879,   4.5959596 ,   5.4040404 ,   6.21212121,\n",
       "         7.02020202,   7.82828283,   8.63636364,   9.44444444,\n",
       "        10.25252525,  11.06060606,  11.86868687,  12.67676768,\n",
       "        13.48484848,  14.29292929,  15.1010101 ,  15.90909091,\n",
       "        16.71717172,  17.52525253,  18.33333333,  19.14141414,\n",
       "        19.94949495,  20.75757576,  21.56565657,  22.37373737,\n",
       "        23.18181818,  23.98989899,  24.7979798 ,  25.60606061,\n",
       "        26.41414141,  27.22222222,  28.03030303,  28.83838384,\n",
       "        29.64646465,  30.45454545,  31.26262626,  32.07070707,\n",
       "        32.87878788,  33.68686869,  34.49494949,  35.3030303 ,\n",
       "        36.11111111,  36.91919192,  37.72727273,  38.53535354,\n",
       "        39.34343434,  40.15151515,  40.95959596,  41.76767677,\n",
       "        42.57575758,  43.38383838,  44.19191919,  45.        ])"
      ]
     },
     "execution_count": 12,
     "metadata": {},
     "output_type": "execute_result"
    }
   ],
   "source": [
    "yn(xn)"
   ]
  },
  {
   "cell_type": "code",
   "execution_count": 5,
   "id": "80d18111",
   "metadata": {},
   "outputs": [],
   "source": [
    "def fibonacci_recursive(n, d):\n",
    "    if n == 0:\n",
    "        return 0, d \n",
    "    elif n == 1:\n",
    "        return 1, d\n",
    "    else:\n",
    "        return fibonacci_recursive(n - 1, d) + fibonacci_recursive(n - 2, d)"
   ]
  },
  {
   "cell_type": "code",
   "execution_count": 6,
   "id": "2a0c3de6",
   "metadata": {},
   "outputs": [
    {
     "data": {
      "text/plain": [
       "(1, 3, 0, 3, 1, 3)"
      ]
     },
     "execution_count": 6,
     "metadata": {},
     "output_type": "execute_result"
    }
   ],
   "source": [
    "fibonacci_recursive(3, 3)"
   ]
  },
  {
   "cell_type": "code",
   "execution_count": 16,
   "id": "f3f66b26",
   "metadata": {},
   "outputs": [],
   "source": [
    "x = ['edet', 'aina', 'ayi', 'nafi', 'dami']\n",
    "while x[2] == 'aina':\n",
    "    print(\"This is the value of x\", x)"
   ]
  },
  {
   "cell_type": "code",
   "execution_count": 10,
   "id": "eb5330ce",
   "metadata": {},
   "outputs": [
    {
     "data": {
      "text/plain": [
       "'This is the value of x'"
      ]
     },
     "execution_count": 10,
     "metadata": {},
     "output_type": "execute_result"
    }
   ],
   "source": [
    "checkx(8)"
   ]
  },
  {
   "cell_type": "code",
   "execution_count": 81,
   "id": "ffb6d48e",
   "metadata": {},
   "outputs": [],
   "source": [
    "class Node:\n",
    "    def __init__(self, data=None, next=None):\n",
    "        self.data = data\n",
    "        self.next = next\n",
    "\n",
    "\n",
    "class LinkedList:\n",
    "    def __init__(self):\n",
    "        self.head = None\n",
    "\n",
    "    def insert_at_the_beginning(self, data):\n",
    "        node = Node(data, self.head)\n",
    "        self.head = node\n",
    "        return self\n",
    "\n",
    "    def result(self):\n",
    "        if self.head is None:\n",
    "            print(\"Linked list is empty\")\n",
    "\n",
    "        ttr = self.head\n",
    "        ll = \"\"\n",
    "        while ttr:\n",
    "            ll += str(ttr.data) + '=>'\n",
    "            ttr = ttr.next\n",
    "\n",
    "\n",
    "        print(ll)\n",
    "        \n",
    "\n",
    "    def insert_at_the_end(self, data):\n",
    "        if self.head is None:\n",
    "            self.head = Node(data, None)\n",
    "            return self\n",
    "\n",
    "        itr = self.head\n",
    "        \n",
    "        if itr.next != None:\n",
    "            #stt += str(itr.next)\n",
    "            #print(st + str(itr.next))\n",
    "            #print(stt)\n",
    "            itr = itr.next        # shift to the next value\n",
    "    \n",
    "        itr.next = Node(data, None)\n",
    "\n",
    "   "
   ]
  },
  {
   "cell_type": "code",
   "execution_count": 83,
   "id": "d568a710",
   "metadata": {},
   "outputs": [
    {
     "name": "stdout",
     "output_type": "stream",
     "text": [
      "55=>4=>5=>\n"
     ]
    }
   ],
   "source": [
    "ll_ = LinkedList()\n",
    "ll_.insert_at_the_beginning(4)\n",
    "ll_.insert_at_the_beginning(55)\n",
    "ll_.insert_at_the_end(67)\n",
    "\n",
    "ll_.insert_at_the_end(17)\n",
    "ll_.insert_at_the_end(5)\n",
    "ll_.result()"
   ]
  },
  {
   "cell_type": "code",
   "execution_count": 56,
   "id": "53ad27c1",
   "metadata": {},
   "outputs": [
    {
     "ename": "AttributeError",
     "evalue": "'list' object has no attribute 'num'",
     "output_type": "error",
     "traceback": [
      "\u001b[1;31m---------------------------------------------------------------------------\u001b[0m",
      "\u001b[1;31mAttributeError\u001b[0m                            Traceback (most recent call last)",
      "Input \u001b[1;32mIn [56]\u001b[0m, in \u001b[0;36m<cell line: 3>\u001b[1;34m()\u001b[0m\n\u001b[0;32m      1\u001b[0m num \u001b[38;5;241m=\u001b[39m [\u001b[38;5;241m67\u001b[39m, [\u001b[38;5;241m55\u001b[39m, \u001b[38;5;241m7\u001b[39m], \u001b[38;5;241m56\u001b[39m, \u001b[38;5;241m34\u001b[39m]\n\u001b[0;32m      2\u001b[0m big \u001b[38;5;241m=\u001b[39m [num, \u001b[38;5;241m73\u001b[39m, \u001b[38;5;241m11\u001b[39m]\n\u001b[1;32m----> 3\u001b[0m \u001b[43mbig\u001b[49m\u001b[38;5;241;43m.\u001b[39;49m\u001b[43mnum\u001b[49m[\u001b[38;5;241m1\u001b[39m]\n",
      "\u001b[1;31mAttributeError\u001b[0m: 'list' object has no attribute 'num'"
     ]
    }
   ],
   "source": [
    "num = [67, [55, 7], 56, 34]\n",
    "big = [num, 73, 11]\n",
    "big.num[1]"
   ]
  },
  {
   "cell_type": "code",
   "execution_count": null,
   "id": "5a2a302e",
   "metadata": {},
   "outputs": [],
   "source": []
  }
 ],
 "metadata": {
  "kernelspec": {
   "display_name": "Python 3 (ipykernel)",
   "language": "python",
   "name": "python3"
  },
  "language_info": {
   "codemirror_mode": {
    "name": "ipython",
    "version": 3
   },
   "file_extension": ".py",
   "mimetype": "text/x-python",
   "name": "python",
   "nbconvert_exporter": "python",
   "pygments_lexer": "ipython3",
   "version": "3.9.12"
  }
 },
 "nbformat": 4,
 "nbformat_minor": 5
}

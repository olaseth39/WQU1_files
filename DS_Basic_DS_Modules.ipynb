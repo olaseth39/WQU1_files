{
 "cells": [
  {
   "cell_type": "code",
   "execution_count": 3,
   "id": "2854deff",
   "metadata": {},
   "outputs": [
    {
     "name": "stderr",
     "output_type": "stream",
     "text": [
      "UsageError: Line magic function `%matplotlib.inline` not found.\n"
     ]
    }
   ],
   "source": [
    "%matplotlib.inline\n",
    "import matplotlib\n",
    "import seaborn as sns\n",
    "matplotlib.rcParams['savefig.dpi'] = 144"
   ]
  },
  {
   "cell_type": "markdown",
   "id": "1fd16cc1",
   "metadata": {},
   "source": [
    "### Basic data tools: NumPy, Matplotlib, Pandas"
   ]
  },
  {
   "cell_type": "markdown",
   "id": "eb8a757e",
   "metadata": {},
   "source": [
    "Python is a powerful and flexible pl, but it doesn't have built-in tools for mathematical analysis or data visualization. For most data analysis we will rely on some helpful libraries. We'll explore three libraries that arevery common for data analysis and visualization."
   ]
  },
  {
   "cell_type": "markdown",
   "id": "0bf96b5e",
   "metadata": {},
   "source": [
    "### Numpy"
   ]
  },
  {
   "cell_type": "markdown",
   "id": "74793419",
   "metadata": {},
   "source": [
    "First among these is NumPy. The main NumPy features are three-fold: its mathematical functions (e.g sin, log, floor), its random submodule(useful for random sampling), and the NumPy ndarray object."
   ]
  },
  {
   "cell_type": "markdown",
   "id": "334828fd",
   "metadata": {},
   "source": [
    "A Numpy array is similar to a mathematical n-dimensional matrix"
   ]
  },
  {
   "cell_type": "markdown",
   "id": "0667533a",
   "metadata": {},
   "source": [
    "A NumPy array could be 1-dimensional e.g [1, 5, 20, 34,...], 2-dimentional, or many dimensions. It's important to note that all the rows and columns of the 2-dimensional array are the same length. That will be true for all dimension of arrays."
   ]
  },
  {
   "cell_type": "markdown",
   "id": "f99c35ad",
   "metadata": {},
   "source": [
    "Let's contrast this with lists."
   ]
  },
  {
   "cell_type": "code",
   "execution_count": 10,
   "id": "72f063d5",
   "metadata": {},
   "outputs": [
    {
     "data": {
      "text/plain": [
       "range(1, 5)"
      ]
     },
     "execution_count": 10,
     "metadata": {},
     "output_type": "execute_result"
    }
   ],
   "source": [
    "built = range(1, 5)\n",
    "built"
   ]
  },
  {
   "cell_type": "code",
   "execution_count": 2,
   "id": "be584e61",
   "metadata": {},
   "outputs": [
    {
     "data": {
      "text/plain": [
       "array([1, 2, 3, 4])"
      ]
     },
     "execution_count": 2,
     "metadata": {},
     "output_type": "execute_result"
    }
   ],
   "source": [
    "import numpy as np\n",
    "np_pack = np.arange(1, 5)\n",
    "np_pack"
   ]
  },
  {
   "cell_type": "code",
   "execution_count": 20,
   "id": "49ab1526",
   "metadata": {},
   "outputs": [
    {
     "data": {
      "text/plain": [
       "[[1, 2, 3], [4, 5, 6], [7, 8, 9]]"
      ]
     },
     "execution_count": 20,
     "metadata": {},
     "output_type": "execute_result"
    }
   ],
   "source": [
    "list_of_lists = [[1, 2, 3], [4, 5, 6], [7, 8, 9]]\n",
    "list_of_lists"
   ]
  },
  {
   "cell_type": "code",
   "execution_count": 21,
   "id": "1cf5fa40",
   "metadata": {},
   "outputs": [
    {
     "name": "stdout",
     "output_type": "stream",
     "text": [
      "[[1 2 3]\n",
      " [4 5 6]\n",
      " [7 8 9]]\n"
     ]
    }
   ],
   "source": [
    "an_array = np.array(list_of_lists)\n",
    "print(an_array)"
   ]
  },
  {
   "cell_type": "code",
   "execution_count": 15,
   "id": "74c964e5",
   "metadata": {},
   "outputs": [
    {
     "data": {
      "text/plain": [
       "numpy.ndarray"
      ]
     },
     "execution_count": 15,
     "metadata": {},
     "output_type": "execute_result"
    }
   ],
   "source": [
    "type(an_array)"
   ]
  },
  {
   "cell_type": "code",
   "execution_count": 16,
   "id": "42acd07b",
   "metadata": {},
   "outputs": [
    {
     "data": {
      "text/plain": [
       "[[1, 2], [3, 4, 5], [6, 7, 8, 9]]"
      ]
     },
     "execution_count": 16,
     "metadata": {},
     "output_type": "execute_result"
    }
   ],
   "source": [
    "non_rectangular = [[1, 2], [3, 4, 5], [6, 7, 8, 9]]\n",
    "non_rectangular"
   ]
  },
  {
   "cell_type": "code",
   "execution_count": 19,
   "id": "96b96bde",
   "metadata": {},
   "outputs": [
    {
     "data": {
      "text/plain": [
       "array([list([1, 2]), list([3, 4, 5]), list([6, 7, 8, 9])], dtype=object)"
      ]
     },
     "execution_count": 19,
     "metadata": {},
     "output_type": "execute_result"
    }
   ],
   "source": [
    "non_rectangular_array = np.array(non_rectangular, dtype=object)\n",
    "non_rectangular_array"
   ]
  },
  {
   "cell_type": "markdown",
   "id": "8ad0992b",
   "metadata": {},
   "source": [
    "note : numpy array must be rectangular"
   ]
  },
  {
   "cell_type": "markdown",
   "id": "86bfc1f7",
   "metadata": {},
   "source": [
    "why did these print differently? Let's investigate their shape and data type(dtype)"
   ]
  },
  {
   "cell_type": "code",
   "execution_count": 20,
   "id": "eb19259f",
   "metadata": {},
   "outputs": [
    {
     "name": "stdout",
     "output_type": "stream",
     "text": [
      "(3, 3) int32\n",
      "(3,) object\n"
     ]
    }
   ],
   "source": [
    "print(an_array.shape, an_array.dtype)\n",
    "print(non_rectangular_array.shape, non_rectangular_array.dtype)"
   ]
  },
  {
   "cell_type": "code",
   "execution_count": null,
   "id": "375bc1d4",
   "metadata": {},
   "outputs": [],
   "source": [
    "The first case, an_array, is a 2-dimensional 3x3 array(of integers). In contrast,"
   ]
  },
  {
   "cell_type": "code",
   "execution_count": 21,
   "id": "0e5e601f",
   "metadata": {},
   "outputs": [
    {
     "data": {
      "text/plain": [
       "dtype('<U32')"
      ]
     },
     "execution_count": 21,
     "metadata": {},
     "output_type": "execute_result"
    }
   ],
   "source": [
    "np.array(['a', 0, False, 2.59]).dtype"
   ]
  },
  {
   "cell_type": "markdown",
   "id": "0353f062",
   "metadata": {},
   "source": [
    "We can also createa variety ofarrays withNumPy convenient functions"
   ]
  },
  {
   "cell_type": "code",
   "execution_count": 2,
   "id": "b14b3c3f",
   "metadata": {},
   "outputs": [
    {
     "data": {
      "text/plain": [
       "array([ 0. ,  2.5,  5. ,  7.5, 10. ])"
      ]
     },
     "execution_count": 2,
     "metadata": {},
     "output_type": "execute_result"
    }
   ],
   "source": [
    "np.linspace(0, 10, 5)"
   ]
  },
  {
   "cell_type": "code",
   "execution_count": 3,
   "id": "bccfed37",
   "metadata": {},
   "outputs": [
    {
     "data": {
      "text/plain": [
       "array([1, 3, 5, 7, 9])"
      ]
     },
     "execution_count": 3,
     "metadata": {},
     "output_type": "execute_result"
    }
   ],
   "source": [
    "np.arange(1, 10, 2)"
   ]
  },
  {
   "cell_type": "code",
   "execution_count": 4,
   "id": "1790532f",
   "metadata": {},
   "outputs": [
    {
     "data": {
      "text/plain": [
       "array([1, 2, 3, 4, 5, 6, 7, 8, 9])"
      ]
     },
     "execution_count": 4,
     "metadata": {},
     "output_type": "execute_result"
    }
   ],
   "source": [
    "np.array(range(1, 10))"
   ]
  },
  {
   "cell_type": "code",
   "execution_count": 5,
   "id": "8e3fee5f",
   "metadata": {},
   "outputs": [
    {
     "data": {
      "text/plain": [
       "array([1.00000000e+01, 3.16227766e+05, 1.00000000e+10])"
      ]
     },
     "execution_count": 5,
     "metadata": {},
     "output_type": "execute_result"
    }
   ],
   "source": [
    "np.logspace(1,10,3)"
   ]
  },
  {
   "cell_type": "code",
   "execution_count": 8,
   "id": "f250a63b",
   "metadata": {},
   "outputs": [
    {
     "data": {
      "text/plain": [
       "array([[0., 0., 0., 0., 0., 0., 0., 0., 0., 0.],\n",
       "       [0., 0., 0., 0., 0., 0., 0., 0., 0., 0.],\n",
       "       [0., 0., 0., 0., 0., 0., 0., 0., 0., 0.],\n",
       "       [0., 0., 0., 0., 0., 0., 0., 0., 0., 0.],\n",
       "       [0., 0., 0., 0., 0., 0., 0., 0., 0., 0.]])"
      ]
     },
     "execution_count": 8,
     "metadata": {},
     "output_type": "execute_result"
    }
   ],
   "source": [
    "np.zeros((5, 10))"
   ]
  },
  {
   "cell_type": "code",
   "execution_count": 9,
   "id": "09caf6bb",
   "metadata": {},
   "outputs": [
    {
     "data": {
      "text/plain": [
       "array([[1, 0, 0, 0],\n",
       "       [0, 1, 0, 0],\n",
       "       [0, 0, 3, 0],\n",
       "       [0, 0, 0, 5]])"
      ]
     },
     "execution_count": 9,
     "metadata": {},
     "output_type": "execute_result"
    }
   ],
   "source": [
    "np.diag((1, 1, 3, 5))"
   ]
  },
  {
   "cell_type": "code",
   "execution_count": 11,
   "id": "44604a1a",
   "metadata": {},
   "outputs": [
    {
     "data": {
      "text/plain": [
       "array([[1., 0., 0., 0.],\n",
       "       [0., 1., 0., 0.],\n",
       "       [0., 0., 1., 0.],\n",
       "       [0., 0., 0., 1.]])"
      ]
     },
     "execution_count": 11,
     "metadata": {},
     "output_type": "execute_result"
    }
   ],
   "source": [
    "np.eye(4)"
   ]
  },
  {
   "cell_type": "code",
   "execution_count": null,
   "id": "19f0c2e1",
   "metadata": {},
   "outputs": [],
   "source": []
  },
  {
   "cell_type": "markdown",
   "id": "2188f2ee",
   "metadata": {},
   "source": [
    "We can also convert the dtype of an an array after creation"
   ]
  },
  {
   "cell_type": "code",
   "execution_count": 4,
   "id": "6f16da35",
   "metadata": {},
   "outputs": [
    {
     "name": "stdout",
     "output_type": "stream",
     "text": [
      "[1.e+01 1.e+02 1.e+03 1.e+04 1.e+05 1.e+06 1.e+07 1.e+08 1.e+09 1.e+10]\n",
      "----------------------\n",
      "[         10         100        1000       10000      100000     1000000\n",
      "    10000000   100000000  1000000000 -2147483648]\n"
     ]
    }
   ],
   "source": [
    "print(np.logspace(1, 10, 10))\n",
    "print('----------------------')\n",
    "print(np.logspace(1, 10, 10).astype(int))"
   ]
  },
  {
   "cell_type": "code",
   "execution_count": 5,
   "id": "ffb67780",
   "metadata": {},
   "outputs": [
    {
     "data": {
      "text/plain": [
       "array([0., 1.])"
      ]
     },
     "execution_count": 5,
     "metadata": {},
     "output_type": "execute_result"
    }
   ],
   "source": [
    "np.array([False, True]).astype(float)"
   ]
  },
  {
   "cell_type": "markdown",
   "id": "584037cc",
   "metadata": {},
   "source": [
    "Why does this matter?\n",
    "\n",
    "Arrays are often more efficient in terms of code as well as computational resources for certain calcilations. Computatinally this efficienciency comes from the fact that we pre-allocate a contiguous block of memory for the results of our computation.\n",
    "\n",
    "To explore the advantages in code, let's try to do some math on these numbers\n",
    "\n",
    "First let's simply calculate the sum of all numbers and look at the differences in the necessarycode for list_of_lists, an_array, and non_rectangular_array"
   ]
  },
  {
   "cell_type": "code",
   "execution_count": 22,
   "id": "4044e9a5",
   "metadata": {},
   "outputs": [
    {
     "name": "stdout",
     "output_type": "stream",
     "text": [
      "45\n",
      "45\n"
     ]
    }
   ],
   "source": [
    "print(sum([sum(inner_list) for inner_list in list_of_lists]))\n",
    "print(an_array.sum())"
   ]
  },
  {
   "cell_type": "markdown",
   "id": "bdf88fc3",
   "metadata": {},
   "source": [
    "for column sum"
   ]
  },
  {
   "cell_type": "code",
   "execution_count": 23,
   "id": "73f21314",
   "metadata": {},
   "outputs": [
    {
     "data": {
      "text/plain": [
       "[6, 15, 24]"
      ]
     },
     "execution_count": 23,
     "metadata": {},
     "output_type": "execute_result"
    }
   ],
   "source": [
    "[sum(inner_list) for inner_list in list_of_lists]"
   ]
  },
  {
   "cell_type": "code",
   "execution_count": 24,
   "id": "94787a8a",
   "metadata": {},
   "outputs": [
    {
     "data": {
      "text/plain": [
       "array([ 6, 15, 24])"
      ]
     },
     "execution_count": 24,
     "metadata": {},
     "output_type": "execute_result"
    }
   ],
   "source": [
    "an_array.sum(1)"
   ]
  },
  {
   "cell_type": "markdown",
   "id": "146a055a",
   "metadata": {},
   "source": [
    "for row sum"
   ]
  },
  {
   "cell_type": "code",
   "execution_count": 25,
   "id": "9e756b34",
   "metadata": {},
   "outputs": [
    {
     "data": {
      "text/plain": [
       "array([12, 15, 18])"
      ]
     },
     "execution_count": 25,
     "metadata": {},
     "output_type": "execute_result"
    }
   ],
   "source": [
    "an_array.sum(axis=0)"
   ]
  },
  {
   "cell_type": "code",
   "execution_count": 26,
   "id": "657f907b",
   "metadata": {},
   "outputs": [
    {
     "data": {
      "text/plain": [
       "[12, 15, 18]"
      ]
     },
     "execution_count": 26,
     "metadata": {},
     "output_type": "execute_result"
    }
   ],
   "source": [
    "[sum(row[index] for row in list_of_lists) for index in range(len(list_of_lists[0]))]"
   ]
  },
  {
   "cell_type": "markdown",
   "id": "1d41acc2",
   "metadata": {},
   "source": [
    "Summing the numbers in an array is much easier than for a list of lists. We don't have to dig into hierarchy of lists, we just use the sum method of the ndarray. Does this still work for non_rectangular_array?"
   ]
  },
  {
   "cell_type": "markdown",
   "id": "ade39aad",
   "metadata": {},
   "source": [
    "These restrictions around shape and dtype allow the ndarray obects to be much more performant compared to a general Python list. Thereare few reasons for this, but the main two result from the typed nature of the ndarray, as this allows contiguous memory storage and consistent function lookup. When a Python list is summed, Python needs to figure out at runtime the correct way in which to add each element of the list together. When an ndarray is summed, Numpy already knows the type of the each element (and they are consistent), thus it can sum them without checking the correct add function for each element.\n",
    "\n",
    "Lets see this in action by doing some basic profiling. First we will create a list of 100000 random elements and then time the sum function"
   ]
  },
  {
   "cell_type": "code",
   "execution_count": 6,
   "id": "ba1ff6e8",
   "metadata": {},
   "outputs": [],
   "source": [
    "time_list = [np.random.random() for _ in range(100000)]\n",
    "time_arr = np.array(time_list)"
   ]
  },
  {
   "cell_type": "code",
   "execution_count": 16,
   "id": "cd871a9d",
   "metadata": {},
   "outputs": [
    {
     "name": "stdout",
     "output_type": "stream",
     "text": [
      "908 µs ± 26.3 µs per loop (mean ± std. dev. of 7 runs, 1,000 loops each)\n"
     ]
    }
   ],
   "source": [
    "%%timeit\n",
    "sum(time_list)"
   ]
  },
  {
   "cell_type": "code",
   "execution_count": 19,
   "id": "e033d7ba",
   "metadata": {},
   "outputs": [
    {
     "name": "stdout",
     "output_type": "stream",
     "text": [
      "17.3 ms ± 1.1 ms per loop (mean ± std. dev. of 7 runs, 10 loops each)\n"
     ]
    }
   ],
   "source": [
    "%%timeit\n",
    "sum(time_arr)"
   ]
  },
  {
   "cell_type": "markdown",
   "id": "79a4409e",
   "metadata": {},
   "source": [
    "### Changing Shape"
   ]
  },
  {
   "cell_type": "markdown",
   "id": "b5e12599",
   "metadata": {},
   "source": [
    "Often we will want to take arrays that are one shape and transform them to a different shape more amenable to a specific operation"
   ]
  },
  {
   "cell_type": "code",
   "execution_count": 29,
   "id": "5adb15fa",
   "metadata": {},
   "outputs": [
    {
     "name": "stdout",
     "output_type": "stream",
     "text": [
      "[[1 2 3]\n",
      " [4 5 6]\n",
      " [7 8 9]]\n",
      "[[ 1  2  3]\n",
      " [ 4 10  6]\n",
      " [ 7  8  9]]\n"
     ]
    }
   ],
   "source": [
    "print(an_array)\n",
    "an_array[1,1] = 10\n",
    "print(an_array)"
   ]
  },
  {
   "cell_type": "code",
   "execution_count": 30,
   "id": "c133f9fd",
   "metadata": {},
   "outputs": [
    {
     "data": {
      "text/plain": [
       "(3, 3)"
      ]
     },
     "execution_count": 30,
     "metadata": {},
     "output_type": "execute_result"
    }
   ],
   "source": [
    "an_array.shape"
   ]
  },
  {
   "cell_type": "code",
   "execution_count": 32,
   "id": "16d39335",
   "metadata": {},
   "outputs": [
    {
     "data": {
      "text/plain": [
       "array([[ 1,  2,  3,  4, 10,  6,  7,  8,  9]])"
      ]
     },
     "execution_count": 32,
     "metadata": {},
     "output_type": "execute_result"
    }
   ],
   "source": [
    "an_array.reshape(1, -1)"
   ]
  },
  {
   "cell_type": "code",
   "execution_count": 39,
   "id": "66fcd352",
   "metadata": {},
   "outputs": [],
   "source": [
    "mat = np.random.rand(10,5)"
   ]
  },
  {
   "cell_type": "code",
   "execution_count": 40,
   "id": "9854abd7",
   "metadata": {},
   "outputs": [
    {
     "data": {
      "text/plain": [
       "array([[0.88679371, 0.92670428, 0.40148968, 0.27351752, 0.37689472,\n",
       "        0.33267827, 0.34873051, 0.30195613, 0.28672756, 0.03482674],\n",
       "       [0.25143191, 0.92146676, 0.06173012, 0.13581623, 0.03005625,\n",
       "        0.87949649, 0.18252262, 0.98259507, 0.08438482, 0.996131  ],\n",
       "       [0.70147942, 0.47879832, 0.61748174, 0.7304118 , 0.14567637,\n",
       "        0.96404905, 0.49134321, 0.45826843, 0.6216211 , 0.57108513],\n",
       "       [0.33121433, 0.16917143, 0.22553174, 0.83492356, 0.34122645,\n",
       "        0.25295881, 0.22929338, 0.02205698, 0.63607601, 0.17432542],\n",
       "       [0.4449392 , 0.82378381, 0.35837755, 0.05888651, 0.79913351,\n",
       "        0.51037593, 0.15526775, 0.66099902, 0.93244969, 0.56434989]])"
      ]
     },
     "execution_count": 40,
     "metadata": {},
     "output_type": "execute_result"
    }
   ],
   "source": [
    "mat.reshape(5,10)"
   ]
  },
  {
   "cell_type": "code",
   "execution_count": 42,
   "id": "e5e84782",
   "metadata": {},
   "outputs": [
    {
     "data": {
      "text/plain": [
       "array([0.88679371, 0.92670428, 0.40148968, 0.27351752, 0.37689472,\n",
       "       0.33267827, 0.34873051, 0.30195613, 0.28672756, 0.03482674,\n",
       "       0.25143191, 0.92146676, 0.06173012, 0.13581623, 0.03005625,\n",
       "       0.87949649, 0.18252262, 0.98259507, 0.08438482, 0.996131  ,\n",
       "       0.70147942, 0.47879832, 0.61748174, 0.7304118 , 0.14567637,\n",
       "       0.96404905, 0.49134321, 0.45826843, 0.6216211 , 0.57108513,\n",
       "       0.33121433, 0.16917143, 0.22553174, 0.83492356, 0.34122645,\n",
       "       0.25295881, 0.22929338, 0.02205698, 0.63607601, 0.17432542,\n",
       "       0.4449392 , 0.82378381, 0.35837755, 0.05888651, 0.79913351,\n",
       "       0.51037593, 0.15526775, 0.66099902, 0.93244969, 0.56434989])"
      ]
     },
     "execution_count": 42,
     "metadata": {},
     "output_type": "execute_result"
    }
   ],
   "source": [
    "# ravel() unravels the array into one dimension\n",
    "mat.ravel()"
   ]
  },
  {
   "cell_type": "code",
   "execution_count": 46,
   "id": "38760565",
   "metadata": {},
   "outputs": [
    {
     "data": {
      "text/plain": [
       "array([2, 3, 4, 5, 6, 1, 2, 3, 4, 5])"
      ]
     },
     "execution_count": 46,
     "metadata": {},
     "output_type": "execute_result"
    }
   ],
   "source": [
    "a  = [1, 2, 3, 4, 5]\n",
    "b = [2, 3, 4, 5, 6]\n",
    "\n",
    "np.hstack((b, a))"
   ]
  },
  {
   "cell_type": "code",
   "execution_count": 49,
   "id": "0126e30e",
   "metadata": {},
   "outputs": [
    {
     "data": {
      "text/plain": [
       "array([[1, 2, 3, 4, 5],\n",
       "       [2, 3, 4, 5, 6]])"
      ]
     },
     "execution_count": 49,
     "metadata": {},
     "output_type": "execute_result"
    }
   ],
   "source": [
    "np.vstack((a, b))"
   ]
  },
  {
   "cell_type": "markdown",
   "id": "f1ae87c4",
   "metadata": {},
   "source": [
    "### Matplotlib"
   ]
  },
  {
   "cell_type": "markdown",
   "id": "cc3f1386",
   "metadata": {},
   "source": [
    "Matplotlib is the most popular Python plotting library. It allows us to visualize data quickly by providing a variety of types of graphs (e.g bar, scatter, line, etc). It also provides useful tools for arranging multiple images or image components within a figure, enabling us to build up more complex visualizations as we need to.\n",
    "\n",
    "Let's visualize some data! In the next cells, we'll generate some data."
   ]
  },
  {
   "cell_type": "code",
   "execution_count": 80,
   "id": "83af07df",
   "metadata": {},
   "outputs": [
    {
     "data": {
      "text/plain": [
       "'win'"
      ]
     },
     "execution_count": 80,
     "metadata": {},
     "output_type": "execute_result"
    }
   ],
   "source": [
    "np.random.choice(['win', 'lose', 'draw'])"
   ]
  },
  {
   "cell_type": "code",
   "execution_count": 77,
   "id": "c94f1db7",
   "metadata": {},
   "outputs": [
    {
     "ename": "TypeError",
     "evalue": "choice() takes at least 1 positional argument (0 given)",
     "output_type": "error",
     "traceback": [
      "\u001b[1;31m---------------------------------------------------------------------------\u001b[0m",
      "\u001b[1;31mTypeError\u001b[0m                                 Traceback (most recent call last)",
      "Input \u001b[1;32mIn [77]\u001b[0m, in \u001b[0;36m<cell line: 3>\u001b[1;34m()\u001b[0m\n\u001b[0;32m      1\u001b[0m \u001b[38;5;66;03m# Generate a uniform random sample from np.arange(5) of size 3:\u001b[39;00m\n\u001b[1;32m----> 3\u001b[0m \u001b[43mnp\u001b[49m\u001b[38;5;241;43m.\u001b[39;49m\u001b[43mrandom\u001b[49m\u001b[38;5;241;43m.\u001b[39;49m\u001b[43mchoice\u001b[49m\u001b[43m(\u001b[49m\u001b[43m)\u001b[49m\n",
      "File \u001b[1;32mmtrand.pyx:807\u001b[0m, in \u001b[0;36mnumpy.random.mtrand.RandomState.choice\u001b[1;34m()\u001b[0m\n",
      "\u001b[1;31mTypeError\u001b[0m: choice() takes at least 1 positional argument (0 given)"
     ]
    }
   ],
   "source": [
    "# Generate a uniform random sample from np.arange(5) of size 3:\n",
    "\n",
    "np.random.choice()\n"
   ]
  },
  {
   "cell_type": "code",
   "execution_count": 76,
   "id": "0b6c5874",
   "metadata": {},
   "outputs": [],
   "source": [
    "np.random.choice?"
   ]
  },
  {
   "cell_type": "code",
   "execution_count": 72,
   "id": "766dedda",
   "metadata": {},
   "outputs": [
    {
     "data": {
      "text/plain": [
       "0.3304574089625303"
      ]
     },
     "execution_count": 72,
     "metadata": {},
     "output_type": "execute_result"
    }
   ],
   "source": [
    "np.random.random()"
   ]
  },
  {
   "cell_type": "code",
   "execution_count": 53,
   "id": "cbbc0dc7",
   "metadata": {},
   "outputs": [
    {
     "data": {
      "text/plain": [
       "(array([0.5493742 , 0.32040812, 0.61304779]), 0.29025684624169346)"
      ]
     },
     "execution_count": 53,
     "metadata": {},
     "output_type": "execute_result"
    }
   ],
   "source": [
    "# an exanple\n",
    "np.random.rand(3), np.random.rand()"
   ]
  },
  {
   "cell_type": "code",
   "execution_count": 82,
   "id": "6e921b9d",
   "metadata": {},
   "outputs": [
    {
     "data": {
      "text/plain": [
       "array([0, 2, 4, 6, 8])"
      ]
     },
     "execution_count": 82,
     "metadata": {},
     "output_type": "execute_result"
    }
   ],
   "source": [
    "np.arange(5) * 2"
   ]
  },
  {
   "cell_type": "code",
   "execution_count": 89,
   "id": "35f1ed46",
   "metadata": {},
   "outputs": [
    {
     "data": {
      "text/plain": [
       "0.8689573427548362"
      ]
     },
     "execution_count": 89,
     "metadata": {},
     "output_type": "execute_result"
    }
   ],
   "source": [
    "np.random.rand()"
   ]
  },
  {
   "cell_type": "code",
   "execution_count": 103,
   "id": "91129a6a",
   "metadata": {},
   "outputs": [],
   "source": [
    "import matplotlib.pyplot as plt\n"
   ]
  },
  {
   "cell_type": "code",
   "execution_count": 122,
   "id": "771f2226",
   "metadata": {},
   "outputs": [
    {
     "data": {
      "image/png": "[encoded data removed]",
      "text/plain": [
       "<Figure size 576x432 with 1 Axes>"
      ]
     },
     "metadata": {
      "needs_background": "light"
     },
     "output_type": "display_data"
    }
   ],
   "source": [
    "def gen_stock_price(days, initial_price):\n",
    "    \n",
    "    # stock price grows or shrinks linearly\n",
    "    # not exceeding 10% (heuristic)\n",
    "    trend = initial_price * (np.arange(days) * .1 / 365 * np.random.rand() * np.random.choice([-1, 1]) + 1)\n",
    "    \n",
    "    # noise wil be about 2%\n",
    "    noise = .02 * np.random.rand(len(trend)) * trend\n",
    "    \n",
    "    return noise + trend\n",
    "\n",
    "\n",
    "days = 365\n",
    "initial_prices = [80, 70, 65]\n",
    "for price in initial_prices:\n",
    "    plt.plot(np.arange(-days,0), gen_stock_price(days, price))\n",
    "plt.title(\"Stock Price for last %d days\".format(days))\n",
    "plt.xlabel(\"Time (days)\")\n",
    "plt.ylabel(\"Price (USD)\")\n",
    "plt.legend(['Company A', 'Company B', 'Company C'])\n",
    "plt.rcParams[\"figure.figsize\"] = [8, 6]\n",
    "             \n",
    "    "
   ]
  },
  {
   "cell_type": "code",
   "execution_count": null,
   "id": "96aa1813",
   "metadata": {},
   "outputs": [],
   "source": []
  },
  {
   "cell_type": "code",
   "execution_count": 10,
   "id": "0a002611",
   "metadata": {},
   "outputs": [],
   "source": [
    "import numpy as np\n",
    "\n",
    "def gen_football_team(n_players, mean_shoe, mean_jersey):\n",
    "    shoe_sizes = np.random.normal(size=n_players, loc=mean_shoe, scale=.15 * mean_shoe)\n",
    "    jeysey_sizes = mean_jersey / mean_shoe * shoe_sizes + np.random.normal(size=n_players, scale=.05 * mean_jersey)\n",
    "    \n",
    "    return shoe_sizes, jeysey_sizes\n",
    "\n",
    "shoes, jerseys = gen_football_team(16, 11, 100)\n",
    "    "
   ]
  },
  {
   "cell_type": "markdown",
   "id": "7dc406cd",
   "metadata": {},
   "source": [
    "## Pandas"
   ]
  },
  {
   "cell_type": "markdown",
   "id": "3658c293",
   "metadata": {},
   "source": [
    "The Pandas package introduces a very powerful tool for working with data in Python: the DataFrame. A DataFrame is a table. Each column represents a different type of data (sometimes called a field). The columns are named, so I could have a column called 'shoe_size' and a column called 'jersey_size'. I don't have to remember which column is which, because I can refer to them by name. Each row represents a different record or entity (e.g player). I can also name the rows, so instead of remembering which row in my array corresponds with Ronaldinho, I can name the row 'Ronaldinhpo' and look up his shoe size and jersey size name."
   ]
  },
  {
   "cell_type": "code",
   "execution_count": 15,
   "id": "bfb4ca65",
   "metadata": {},
   "outputs": [
    {
     "data": {
      "text/html": [
       "<div>\n",
       "<style scoped>\n",
       "    .dataframe tbody tr th:only-of-type {\n",
       "        vertical-align: middle;\n",
       "    }\n",
       "\n",
       "    .dataframe tbody tr th {\n",
       "        vertical-align: top;\n",
       "    }\n",
       "\n",
       "    .dataframe thead th {\n",
       "        text-align: right;\n",
       "    }\n",
       "</style>\n",
       "<table border=\"1\" class=\"dataframe\">\n",
       "  <thead>\n",
       "    <tr style=\"text-align: right;\">\n",
       "      <th></th>\n",
       "      <th>shoe_size</th>\n",
       "      <th>jersey_size</th>\n",
       "    </tr>\n",
       "  </thead>\n",
       "  <tbody>\n",
       "    <tr>\n",
       "      <th>Ronaldinho</th>\n",
       "      <td>9.498985</td>\n",
       "      <td>95.988057</td>\n",
       "    </tr>\n",
       "    <tr>\n",
       "      <th>Pele</th>\n",
       "      <td>11.073338</td>\n",
       "      <td>110.731366</td>\n",
       "    </tr>\n",
       "    <tr>\n",
       "      <th>Lionel Messi</th>\n",
       "      <td>8.298956</td>\n",
       "      <td>81.789052</td>\n",
       "    </tr>\n",
       "    <tr>\n",
       "      <th>Zinedine Zidane</th>\n",
       "      <td>12.687865</td>\n",
       "      <td>123.271282</td>\n",
       "    </tr>\n",
       "    <tr>\n",
       "      <th>Didier Drogba</th>\n",
       "      <td>10.377181</td>\n",
       "      <td>99.251921</td>\n",
       "    </tr>\n",
       "    <tr>\n",
       "      <th>Ronaldo</th>\n",
       "      <td>9.027864</td>\n",
       "      <td>85.410174</td>\n",
       "    </tr>\n",
       "    <tr>\n",
       "      <th>Yaya Toure</th>\n",
       "      <td>9.271647</td>\n",
       "      <td>97.088360</td>\n",
       "    </tr>\n",
       "    <tr>\n",
       "      <th>Frank Rijkaard</th>\n",
       "      <td>9.398316</td>\n",
       "      <td>83.643160</td>\n",
       "    </tr>\n",
       "    <tr>\n",
       "      <th>Diego Maradona</th>\n",
       "      <td>9.339760</td>\n",
       "      <td>95.158178</td>\n",
       "    </tr>\n",
       "    <tr>\n",
       "      <th>Mohamed Aboutrika</th>\n",
       "      <td>13.047011</td>\n",
       "      <td>135.838572</td>\n",
       "    </tr>\n",
       "    <tr>\n",
       "      <th>Samuel Eto o</th>\n",
       "      <td>9.234434</td>\n",
       "      <td>86.664832</td>\n",
       "    </tr>\n",
       "    <tr>\n",
       "      <th>George Best</th>\n",
       "      <td>9.119433</td>\n",
       "      <td>96.148681</td>\n",
       "    </tr>\n",
       "    <tr>\n",
       "      <th>Roberto Donadoni</th>\n",
       "      <td>11.800664</td>\n",
       "      <td>116.317005</td>\n",
       "    </tr>\n",
       "  </tbody>\n",
       "</table>\n",
       "</div>"
      ],
      "text/plain": [
       "                   shoe_size  jersey_size\n",
       "Ronaldinho          9.498985    95.988057\n",
       "Pele               11.073338   110.731366\n",
       "Lionel Messi        8.298956    81.789052\n",
       "Zinedine Zidane    12.687865   123.271282\n",
       "Didier Drogba      10.377181    99.251921\n",
       "Ronaldo             9.027864    85.410174\n",
       "Yaya Toure          9.271647    97.088360\n",
       "Frank Rijkaard      9.398316    83.643160\n",
       "Diego Maradona      9.339760    95.158178\n",
       "Mohamed Aboutrika  13.047011   135.838572\n",
       "Samuel Eto o        9.234434    86.664832\n",
       "George Best         9.119433    96.148681\n",
       "Roberto Donadoni   11.800664   116.317005"
      ]
     },
     "execution_count": 15,
     "metadata": {},
     "output_type": "execute_result"
    }
   ],
   "source": [
    "import pandas as pd\n",
    "\n",
    "players = ['Ronaldinho', 'Pele', 'Lionel Messi', 'Zinedine Zidane', 'Didier Drogba', 'Ronaldo', 'Yaya Toure', \n",
    "           'Frank Rijkaard', 'Diego Maradona', 'Mohamed Aboutrika', 'Samuel Eto o', 'George Best', 'Roberto Donadoni']\n",
    "shoes, jeyseys = gen_football_team(len(players), 10, 100)\n",
    "\n",
    "df = pd.DataFrame({'shoe_size' : shoes, 'jersey_size' : jeyseys}, index=players)\n",
    "\n",
    "df"
   ]
  },
  {
   "cell_type": "code",
   "execution_count": 17,
   "id": "9ef5ee28",
   "metadata": {},
   "outputs": [
    {
     "data": {
      "text/plain": [
       "(13, 16, 13)"
      ]
     },
     "execution_count": 17,
     "metadata": {},
     "output_type": "execute_result"
    }
   ],
   "source": [
    "len(shoes), len(jerseys), len(players)"
   ]
  },
  {
   "cell_type": "code",
   "execution_count": 18,
   "id": "ed94b300",
   "metadata": {},
   "outputs": [
    {
     "data": {
      "text/html": [
       "<div>\n",
       "<style scoped>\n",
       "    .dataframe tbody tr th:only-of-type {\n",
       "        vertical-align: middle;\n",
       "    }\n",
       "\n",
       "    .dataframe tbody tr th {\n",
       "        vertical-align: top;\n",
       "    }\n",
       "\n",
       "    .dataframe thead th {\n",
       "        text-align: right;\n",
       "    }\n",
       "</style>\n",
       "<table border=\"1\" class=\"dataframe\">\n",
       "  <thead>\n",
       "    <tr style=\"text-align: right;\">\n",
       "      <th></th>\n",
       "      <th>shoe_size</th>\n",
       "      <th>jersey_size</th>\n",
       "    </tr>\n",
       "  </thead>\n",
       "  <tbody>\n",
       "    <tr>\n",
       "      <th>Ronaldinho</th>\n",
       "      <td>9.498985</td>\n",
       "      <td>91.444810</td>\n",
       "    </tr>\n",
       "    <tr>\n",
       "      <th>Pele</th>\n",
       "      <td>11.073338</td>\n",
       "      <td>67.811026</td>\n",
       "    </tr>\n",
       "    <tr>\n",
       "      <th>Lionel Messi</th>\n",
       "      <td>8.298956</td>\n",
       "      <td>121.447830</td>\n",
       "    </tr>\n",
       "    <tr>\n",
       "      <th>Zinedine Zidane</th>\n",
       "      <td>12.687865</td>\n",
       "      <td>101.913089</td>\n",
       "    </tr>\n",
       "    <tr>\n",
       "      <th>Didier Drogba</th>\n",
       "      <td>10.377181</td>\n",
       "      <td>94.044103</td>\n",
       "    </tr>\n",
       "    <tr>\n",
       "      <th>Ronaldo</th>\n",
       "      <td>9.027864</td>\n",
       "      <td>108.959574</td>\n",
       "    </tr>\n",
       "    <tr>\n",
       "      <th>Yaya Toure</th>\n",
       "      <td>9.271647</td>\n",
       "      <td>97.144083</td>\n",
       "    </tr>\n",
       "    <tr>\n",
       "      <th>Frank Rijkaard</th>\n",
       "      <td>9.398316</td>\n",
       "      <td>87.321159</td>\n",
       "    </tr>\n",
       "    <tr>\n",
       "      <th>Diego Maradona</th>\n",
       "      <td>9.339760</td>\n",
       "      <td>92.873448</td>\n",
       "    </tr>\n",
       "    <tr>\n",
       "      <th>Mohamed Aboutrika</th>\n",
       "      <td>13.047011</td>\n",
       "      <td>108.965523</td>\n",
       "    </tr>\n",
       "    <tr>\n",
       "      <th>Samuel Eto o</th>\n",
       "      <td>9.234434</td>\n",
       "      <td>97.968215</td>\n",
       "    </tr>\n",
       "    <tr>\n",
       "      <th>George Best</th>\n",
       "      <td>9.119433</td>\n",
       "      <td>84.151626</td>\n",
       "    </tr>\n",
       "    <tr>\n",
       "      <th>Roberto Donadoni</th>\n",
       "      <td>11.800664</td>\n",
       "      <td>128.711948</td>\n",
       "    </tr>\n",
       "  </tbody>\n",
       "</table>\n",
       "</div>"
      ],
      "text/plain": [
       "                   shoe_size  jersey_size\n",
       "Ronaldinho          9.498985    91.444810\n",
       "Pele               11.073338    67.811026\n",
       "Lionel Messi        8.298956   121.447830\n",
       "Zinedine Zidane    12.687865   101.913089\n",
       "Didier Drogba      10.377181    94.044103\n",
       "Ronaldo             9.027864   108.959574\n",
       "Yaya Toure          9.271647    97.144083\n",
       "Frank Rijkaard      9.398316    87.321159\n",
       "Diego Maradona      9.339760    92.873448\n",
       "Mohamed Aboutrika  13.047011   108.965523\n",
       "Samuel Eto o        9.234434    97.968215\n",
       "George Best         9.119433    84.151626\n",
       "Roberto Donadoni   11.800664   128.711948"
      ]
     },
     "execution_count": 18,
     "metadata": {},
     "output_type": "execute_result"
    }
   ],
   "source": [
    "# We can also make dataframe using zip\n",
    "\n",
    "df = pd.DataFrame(list(zip(shoes, jerseys)), columns = ['shoe_size', 'jersey_size'], index=players)\n",
    "\n",
    "df"
   ]
  },
  {
   "cell_type": "markdown",
   "id": "770f5fd5",
   "metadata": {},
   "source": [
    "The DataFrame has similarities to both dict and a Numpy ndarray. For exaample, we can retrieve a column from the DataFrame by using its name, just like we would retrieve an item from a dict using its key."
   ]
  },
  {
   "cell_type": "code",
   "execution_count": 20,
   "id": "382451b5",
   "metadata": {},
   "outputs": [
    {
     "name": "stdout",
     "output_type": "stream",
     "text": [
      "Ronaldinho            9.498985\n",
      "Pele                 11.073338\n",
      "Lionel Messi          8.298956\n",
      "Zinedine Zidane      12.687865\n",
      "Didier Drogba        10.377181\n",
      "Ronaldo               9.027864\n",
      "Yaya Toure            9.271647\n",
      "Frank Rijkaard        9.398316\n",
      "Diego Maradona        9.339760\n",
      "Mohamed Aboutrika    13.047011\n",
      "Samuel Eto o          9.234434\n",
      "George Best           9.119433\n",
      "Roberto Donadoni     11.800664\n",
      "Name: shoe_size, dtype: float64\n"
     ]
    }
   ],
   "source": [
    "print(df['shoe_size'])"
   ]
  },
  {
   "cell_type": "code",
   "execution_count": 23,
   "id": "3f4fc82b",
   "metadata": {},
   "outputs": [
    {
     "data": {
      "text/plain": [
       "pandas.core.series.Series"
      ]
     },
     "execution_count": 23,
     "metadata": {},
     "output_type": "execute_result"
    }
   ],
   "source": [
    "type(df['shoe_size'])"
   ]
  },
  {
   "cell_type": "markdown",
   "id": "970754f1",
   "metadata": {},
   "source": [
    "And we can easily apply functions to the DataFrame just like we would with a NumPy array"
   ]
  },
  {
   "cell_type": "code",
   "execution_count": 21,
   "id": "5e46efd8",
   "metadata": {},
   "outputs": [
    {
     "data": {
      "text/html": [
       "<div>\n",
       "<style scoped>\n",
       "    .dataframe tbody tr th:only-of-type {\n",
       "        vertical-align: middle;\n",
       "    }\n",
       "\n",
       "    .dataframe tbody tr th {\n",
       "        vertical-align: top;\n",
       "    }\n",
       "\n",
       "    .dataframe thead th {\n",
       "        text-align: right;\n",
       "    }\n",
       "</style>\n",
       "<table border=\"1\" class=\"dataframe\">\n",
       "  <thead>\n",
       "    <tr style=\"text-align: right;\">\n",
       "      <th></th>\n",
       "      <th>shoe_size</th>\n",
       "      <th>jersey_size</th>\n",
       "    </tr>\n",
       "  </thead>\n",
       "  <tbody>\n",
       "    <tr>\n",
       "      <th>Ronaldinho</th>\n",
       "      <td>2.251185</td>\n",
       "      <td>4.515736</td>\n",
       "    </tr>\n",
       "    <tr>\n",
       "      <th>Pele</th>\n",
       "      <td>2.404540</td>\n",
       "      <td>4.216725</td>\n",
       "    </tr>\n",
       "    <tr>\n",
       "      <th>Lionel Messi</th>\n",
       "      <td>2.116130</td>\n",
       "      <td>4.799485</td>\n",
       "    </tr>\n",
       "    <tr>\n",
       "      <th>Zinedine Zidane</th>\n",
       "      <td>2.540646</td>\n",
       "      <td>4.624120</td>\n",
       "    </tr>\n",
       "    <tr>\n",
       "      <th>Didier Drogba</th>\n",
       "      <td>2.339609</td>\n",
       "      <td>4.543764</td>\n",
       "    </tr>\n",
       "    <tr>\n",
       "      <th>Ronaldo</th>\n",
       "      <td>2.200316</td>\n",
       "      <td>4.690977</td>\n",
       "    </tr>\n",
       "    <tr>\n",
       "      <th>Yaya Toure</th>\n",
       "      <td>2.226961</td>\n",
       "      <td>4.576195</td>\n",
       "    </tr>\n",
       "    <tr>\n",
       "      <th>Frank Rijkaard</th>\n",
       "      <td>2.240531</td>\n",
       "      <td>4.469593</td>\n",
       "    </tr>\n",
       "    <tr>\n",
       "      <th>Diego Maradona</th>\n",
       "      <td>2.234281</td>\n",
       "      <td>4.531238</td>\n",
       "    </tr>\n",
       "    <tr>\n",
       "      <th>Mohamed Aboutrika</th>\n",
       "      <td>2.568559</td>\n",
       "      <td>4.691032</td>\n",
       "    </tr>\n",
       "    <tr>\n",
       "      <th>Samuel Eto o</th>\n",
       "      <td>2.222939</td>\n",
       "      <td>4.584643</td>\n",
       "    </tr>\n",
       "    <tr>\n",
       "      <th>George Best</th>\n",
       "      <td>2.210408</td>\n",
       "      <td>4.432620</td>\n",
       "    </tr>\n",
       "    <tr>\n",
       "      <th>Roberto Donadoni</th>\n",
       "      <td>2.468156</td>\n",
       "      <td>4.857577</td>\n",
       "    </tr>\n",
       "  </tbody>\n",
       "</table>\n",
       "</div>"
      ],
      "text/plain": [
       "                   shoe_size  jersey_size\n",
       "Ronaldinho          2.251185     4.515736\n",
       "Pele                2.404540     4.216725\n",
       "Lionel Messi        2.116130     4.799485\n",
       "Zinedine Zidane     2.540646     4.624120\n",
       "Didier Drogba       2.339609     4.543764\n",
       "Ronaldo             2.200316     4.690977\n",
       "Yaya Toure          2.226961     4.576195\n",
       "Frank Rijkaard      2.240531     4.469593\n",
       "Diego Maradona      2.234281     4.531238\n",
       "Mohamed Aboutrika   2.568559     4.691032\n",
       "Samuel Eto o        2.222939     4.584643\n",
       "George Best         2.210408     4.432620\n",
       "Roberto Donadoni    2.468156     4.857577"
      ]
     },
     "execution_count": 21,
     "metadata": {},
     "output_type": "execute_result"
    }
   ],
   "source": [
    "np.log(df)"
   ]
  },
  {
   "cell_type": "code",
   "execution_count": 22,
   "id": "f86d0d80",
   "metadata": {},
   "outputs": [
    {
     "data": {
      "text/plain": [
       "shoe_size      10.167343\n",
       "jersey_size    98.673572\n",
       "dtype: float64"
      ]
     },
     "execution_count": 22,
     "metadata": {},
     "output_type": "execute_result"
    }
   ],
   "source": [
    "df.mean()"
   ]
  },
  {
   "cell_type": "markdown",
   "id": "c71ccb4b",
   "metadata": {},
   "source": [
    "We'll explore applying functions and analysing data in a DataFrame in more depth later on. First we need to know how to retrieve, add, and remove data from a DataFrame.\n",
    "\n",
    "We've already seen how to retriee a column, what about retrieving a row? The most flexible syntax to use iis the DataFrame's loc method"
   ]
  },
  {
   "cell_type": "code",
   "execution_count": 32,
   "id": "c310d2fb",
   "metadata": {},
   "outputs": [
    {
     "data": {
      "text/plain": [
       "Ronaldo    9.027864\n",
       "Name: shoe_size, dtype: float64"
      ]
     },
     "execution_count": 32,
     "metadata": {},
     "output_type": "execute_result"
    }
   ],
   "source": [
    "df.loc[['Ronaldo'], 'shoe_size']"
   ]
  },
  {
   "cell_type": "code",
   "execution_count": 37,
   "id": "a89f1fec",
   "metadata": {},
   "outputs": [
    {
     "data": {
      "text/plain": [
       "Ronaldo               9.027864\n",
       "Yaya Toure            9.271647\n",
       "Frank Rijkaard        9.398316\n",
       "Diego Maradona        9.339760\n",
       "Mohamed Aboutrika    13.047011\n",
       "Samuel Eto o          9.234434\n",
       "George Best           9.119433\n",
       "Name: shoe_size, dtype: float64"
      ]
     },
     "execution_count": 37,
     "metadata": {},
     "output_type": "execute_result"
    }
   ],
   "source": [
    "# can also select position-based slices of data\n",
    "df.loc['Ronaldo':'George Best', 'shoe_size']"
   ]
  },
  {
   "cell_type": "code",
   "execution_count": 38,
   "id": "dff9541b",
   "metadata": {},
   "outputs": [
    {
     "name": "stdout",
     "output_type": "stream",
     "text": [
      "                 shoe_size  jersey_size\n",
      "Ronaldinho        9.498985    91.444810\n",
      "Pele             11.073338    67.811026\n",
      "Lionel Messi      8.298956   121.447830\n",
      "Zinedine Zidane  12.687865   101.913089\n",
      "Didier Drogba    10.377181    94.044103\n"
     ]
    }
   ],
   "source": [
    "# for position-based indexing, we will typically use iloc\n",
    "print(df.iloc[:5])"
   ]
  },
  {
   "cell_type": "markdown",
   "id": "40a318df",
   "metadata": {},
   "source": [
    "Just as with a dict, we can add to our DataFrame by simply using the same syntax as we would use to retrieve data, but matching it with an assignment"
   ]
  },
  {
   "cell_type": "code",
   "execution_count": 41,
   "id": "3febb517",
   "metadata": {},
   "outputs": [
    {
     "data": {
      "text/html": [
       "<div>\n",
       "<style scoped>\n",
       "    .dataframe tbody tr th:only-of-type {\n",
       "        vertical-align: middle;\n",
       "    }\n",
       "\n",
       "    .dataframe tbody tr th {\n",
       "        vertical-align: top;\n",
       "    }\n",
       "\n",
       "    .dataframe thead th {\n",
       "        text-align: right;\n",
       "    }\n",
       "</style>\n",
       "<table border=\"1\" class=\"dataframe\">\n",
       "  <thead>\n",
       "    <tr style=\"text-align: right;\">\n",
       "      <th></th>\n",
       "      <th>shoe_size</th>\n",
       "      <th>jersey_size</th>\n",
       "      <th>position</th>\n",
       "    </tr>\n",
       "  </thead>\n",
       "  <tbody>\n",
       "    <tr>\n",
       "      <th>Ronaldinho</th>\n",
       "      <td>9.498985</td>\n",
       "      <td>91.444810</td>\n",
       "      <td>defense</td>\n",
       "    </tr>\n",
       "    <tr>\n",
       "      <th>Pele</th>\n",
       "      <td>11.073338</td>\n",
       "      <td>67.811026</td>\n",
       "      <td>defense</td>\n",
       "    </tr>\n",
       "    <tr>\n",
       "      <th>Lionel Messi</th>\n",
       "      <td>8.298956</td>\n",
       "      <td>121.447830</td>\n",
       "      <td>midfield</td>\n",
       "    </tr>\n",
       "    <tr>\n",
       "      <th>Zinedine Zidane</th>\n",
       "      <td>12.687865</td>\n",
       "      <td>101.913089</td>\n",
       "      <td>defense</td>\n",
       "    </tr>\n",
       "    <tr>\n",
       "      <th>Didier Drogba</th>\n",
       "      <td>10.377181</td>\n",
       "      <td>94.044103</td>\n",
       "      <td>goalkeeper</td>\n",
       "    </tr>\n",
       "  </tbody>\n",
       "</table>\n",
       "</div>"
      ],
      "text/plain": [
       "                 shoe_size  jersey_size    position\n",
       "Ronaldinho        9.498985    91.444810     defense\n",
       "Pele             11.073338    67.811026     defense\n",
       "Lionel Messi      8.298956   121.447830    midfield\n",
       "Zinedine Zidane  12.687865   101.913089     defense\n",
       "Didier Drogba    10.377181    94.044103  goalkeeper"
      ]
     },
     "execution_count": 41,
     "metadata": {},
     "output_type": "execute_result"
    }
   ],
   "source": [
    "# adding a new column\n",
    "df['position'] = np.random.choice(['goalkeeper', 'defense', 'midfield', 'attack'], size=len(df))\n",
    "df.head()"
   ]
  },
  {
   "cell_type": "code",
   "execution_count": 42,
   "id": "37d51313",
   "metadata": {},
   "outputs": [
    {
     "data": {
      "text/plain": [
       "shoe_size             9.0\n",
       "jersey_size          91.0\n",
       "position       midfielder\n",
       "Name: dylan, dtype: object"
      ]
     },
     "execution_count": 42,
     "metadata": {},
     "output_type": "execute_result"
    }
   ],
   "source": [
    "# adding a row\n",
    "df.loc['dylan'] = {'jersey_size': 91, 'shoe_size':9, 'position': 'midfielder'}\n",
    "df.loc['dylan']"
   ]
  },
  {
   "cell_type": "markdown",
   "id": "ccafb7fb",
   "metadata": {},
   "source": [
    "To delete data, we can use the DataFrame's drop method"
   ]
  },
  {
   "cell_type": "code",
   "execution_count": 43,
   "id": "adc46c5c",
   "metadata": {},
   "outputs": [
    {
     "data": {
      "text/plain": [
       "Index(['Ronaldinho', 'Pele', 'Lionel Messi', 'Zinedine Zidane',\n",
       "       'Didier Drogba', 'Ronaldo', 'Yaya Toure', 'Frank Rijkaard',\n",
       "       'Diego Maradona', 'Mohamed Aboutrika', 'Samuel Eto o', 'George Best',\n",
       "       'Roberto Donadoni'],\n",
       "      dtype='object')"
      ]
     },
     "execution_count": 43,
     "metadata": {},
     "output_type": "execute_result"
    }
   ],
   "source": [
    "df = df.drop('dylan')\n",
    "df.index"
   ]
  },
  {
   "cell_type": "markdown",
   "id": "59a8ecc9",
   "metadata": {},
   "source": [
    "In order to make the change permanent,we either need to reassign df to the copy returned df.drop() or we have to use the keyword INPLACE"
   ]
  },
  {
   "cell_type": "code",
   "execution_count": null,
   "id": "e791ed3b",
   "metadata": {},
   "outputs": [],
   "source": []
  }
 ],
 "metadata": {
  "kernelspec": {
   "display_name": "Python 3 (ipykernel)",
   "language": "python",
   "name": "python3"
  },
  "language_info": {
   "codemirror_mode": {
    "name": "ipython",
    "version": 3
   },
   "file_extension": ".py",
   "mimetype": "text/x-python",
   "name": "python",
   "nbconvert_exporter": "python",
   "pygments_lexer": "ipython3",
   "version": "3.9.12"
  }
 },
 "nbformat": 4,
 "nbformat_minor": 5
}

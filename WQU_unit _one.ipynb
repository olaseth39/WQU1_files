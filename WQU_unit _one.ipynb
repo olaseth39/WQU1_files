{
 "cells": [
  {
   "cell_type": "markdown",
   "id": "c1459fbb",
   "metadata": {},
   "source": [
    "\n",
    "# List"
   ]
  },
  {
   "cell_type": "markdown",
   "id": "d481a7b2",
   "metadata": {},
   "source": [
    "Properties of List"
   ]
  },
  {
   "cell_type": "markdown",
   "id": "2074075c",
   "metadata": {},
   "source": [
    "1. It is heterogenous: it can acceptdifferent data types\n",
    "2. It is ordered: It retain it's order\n",
    "3. It is mutable: It's content can be changed bdue to addition or reduction"
   ]
  },
  {
   "cell_type": "markdown",
   "id": "91d5fa19",
   "metadata": {},
   "source": [
    "Examples of method that can be used with list are: .pop(), .append(), .extend(), .sort()"
   ]
  },
  {
   "cell_type": "markdown",
   "id": "44163718",
   "metadata": {},
   "source": [
    "### Names and Variables"
   ]
  },
  {
   "cell_type": "code",
   "execution_count": 1,
   "id": "4393b0a9",
   "metadata": {},
   "outputs": [
    {
     "data": {
      "text/plain": [
       "9"
      ]
     },
     "execution_count": 1,
     "metadata": {},
     "output_type": "execute_result"
    }
   ],
   "source": [
    "arr = [2, 4, 5, 7, 9]\n",
    "arr.pop()"
   ]
  },
  {
   "cell_type": "code",
   "execution_count": 2,
   "id": "f9e79533",
   "metadata": {},
   "outputs": [
    {
     "data": {
      "text/plain": [
       "[2, 4, 5, 7]"
      ]
     },
     "execution_count": 2,
     "metadata": {},
     "output_type": "execute_result"
    }
   ],
   "source": [
    "arr"
   ]
  },
  {
   "cell_type": "code",
   "execution_count": 1,
   "id": "abd9c0af",
   "metadata": {},
   "outputs": [
    {
     "name": "stdout",
     "output_type": "stream",
     "text": [
      "4 4\n",
      "5 4\n"
     ]
    }
   ],
   "source": [
    "a = 4\n",
    "b = a\n",
    "print(a, b)\n",
    "a = 5\n",
    "print(a, b)"
   ]
  },
  {
   "cell_type": "code",
   "execution_count": 2,
   "id": "b0cea7ac",
   "metadata": {},
   "outputs": [
    {
     "name": "stdout",
     "output_type": "stream",
     "text": [
      "[1, 3, 5] [1, 3, 5]\n",
      "[1, 7, 5] [1, 7, 5]\n"
     ]
    }
   ],
   "source": [
    "a = [1, 3, 5]\n",
    "b = a\n",
    "print(a, b)\n",
    "a[1] = 7\n",
    "print(a, b)"
   ]
  },
  {
   "cell_type": "markdown",
   "id": "4e532f3b",
   "metadata": {},
   "source": [
    "# Tuples"
   ]
  },
  {
   "cell_type": "markdown",
   "id": "0db5768b",
   "metadata": {},
   "source": [
    "A tuple is similar to a list but with one difference - it is immutable. It is represented with a parenthesis ()."
   ]
  },
  {
   "cell_type": "code",
   "execution_count": 9,
   "id": "826240d1",
   "metadata": {},
   "outputs": [
    {
     "data": {
      "text/plain": [
       "('Dylan', 20, 16.4, True)"
      ]
     },
     "execution_count": 9,
     "metadata": {},
     "output_type": "execute_result"
    }
   ],
   "source": [
    "example_tuple = ('Dylan', 20, 16.4, True)\n",
    "example_tuple"
   ]
  },
  {
   "cell_type": "code",
   "execution_count": 4,
   "id": "cad37518",
   "metadata": {},
   "outputs": [
    {
     "data": {
      "text/plain": [
       "True"
      ]
     },
     "execution_count": 4,
     "metadata": {},
     "output_type": "execute_result"
    }
   ],
   "source": [
    "example_tuple[3]"
   ]
  },
  {
   "cell_type": "code",
   "execution_count": 5,
   "id": "69356c9e",
   "metadata": {},
   "outputs": [
    {
     "ename": "TypeError",
     "evalue": "'tuple' object does not support item assignment",
     "output_type": "error",
     "traceback": [
      "\u001b[1;31m---------------------------------------------------------------------------\u001b[0m",
      "\u001b[1;31mTypeError\u001b[0m                                 Traceback (most recent call last)",
      "Input \u001b[1;32mIn [5]\u001b[0m, in \u001b[0;36m<cell line: 1>\u001b[1;34m()\u001b[0m\n\u001b[1;32m----> 1\u001b[0m example_tuple[\u001b[38;5;241m2\u001b[39m] \u001b[38;5;241m=\u001b[39m \u001b[38;5;241m16.2\u001b[39m\n",
      "\u001b[1;31mTypeError\u001b[0m: 'tuple' object does not support item assignment"
     ]
    }
   ],
   "source": [
    "example_tuple[2] = 16.2"
   ]
  },
  {
   "cell_type": "code",
   "execution_count": 6,
   "id": "4dfef335",
   "metadata": {},
   "outputs": [
    {
     "ename": "TypeError",
     "evalue": "'tuple' object doesn't support item deletion",
     "output_type": "error",
     "traceback": [
      "\u001b[1;31m---------------------------------------------------------------------------\u001b[0m",
      "\u001b[1;31mTypeError\u001b[0m                                 Traceback (most recent call last)",
      "Input \u001b[1;32mIn [6]\u001b[0m, in \u001b[0;36m<cell line: 3>\u001b[1;34m()\u001b[0m\n\u001b[0;32m      1\u001b[0m \u001b[38;5;66;03m# tuple does not support deletion\u001b[39;00m\n\u001b[1;32m----> 3\u001b[0m \u001b[38;5;28;01mdel\u001b[39;00m example_tuple[\u001b[38;5;241m-\u001b[39m\u001b[38;5;241m1\u001b[39m]\n",
      "\u001b[1;31mTypeError\u001b[0m: 'tuple' object doesn't support item deletion"
     ]
    }
   ],
   "source": [
    "# tuple does not support deletion\n",
    "\n",
    "del example_tuple[-1]"
   ]
  },
  {
   "cell_type": "markdown",
   "id": "893cf0e1",
   "metadata": {},
   "source": [
    "# Set"
   ]
  },
  {
   "cell_type": "markdown",
   "id": "87e950dd",
   "metadata": {},
   "source": [
    "Set is similar to a list only that it is not ordered."
   ]
  },
  {
   "cell_type": "markdown",
   "id": "32147d9a",
   "metadata": {},
   "source": [
    "The add method similarly works like the append method in list. The update method works like extend method in list."
   ]
  },
  {
   "cell_type": "code",
   "execution_count": 1,
   "id": "6f6eb3e1",
   "metadata": {},
   "outputs": [
    {
     "data": {
      "text/plain": [
       "{14.4, 26, 'Dylan', True}"
      ]
     },
     "execution_count": 1,
     "metadata": {},
     "output_type": "execute_result"
    }
   ],
   "source": [
    "example_set = {'Dylan', 26, 14.4, True}\n",
    "example_set"
   ]
  },
  {
   "cell_type": "code",
   "execution_count": 2,
   "id": "b89487e5",
   "metadata": {},
   "outputs": [
    {
     "ename": "TypeError",
     "evalue": "'set' object is not subscriptable",
     "output_type": "error",
     "traceback": [
      "\u001b[1;31m---------------------------------------------------------------------------\u001b[0m",
      "\u001b[1;31mTypeError\u001b[0m                                 Traceback (most recent call last)",
      "Input \u001b[1;32mIn [2]\u001b[0m, in \u001b[0;36m<cell line: 2>\u001b[1;34m()\u001b[0m\n\u001b[0;32m      1\u001b[0m \u001b[38;5;66;03m# set is not subscriptable\u001b[39;00m\n\u001b[1;32m----> 2\u001b[0m \u001b[43mexample_set\u001b[49m\u001b[43m[\u001b[49m\u001b[38;5;241;43m0\u001b[39;49m\u001b[43m]\u001b[49m\n",
      "\u001b[1;31mTypeError\u001b[0m: 'set' object is not subscriptable"
     ]
    }
   ],
   "source": [
    "# set is not subscriptable\n",
    "example_set[0]"
   ]
  },
  {
   "cell_type": "code",
   "execution_count": 3,
   "id": "fb3995a7",
   "metadata": {},
   "outputs": [
    {
     "ename": "TypeError",
     "evalue": "'set' object does not support item assignment",
     "output_type": "error",
     "traceback": [
      "\u001b[1;31m---------------------------------------------------------------------------\u001b[0m",
      "\u001b[1;31mTypeError\u001b[0m                                 Traceback (most recent call last)",
      "Input \u001b[1;32mIn [3]\u001b[0m, in \u001b[0;36m<cell line: 2>\u001b[1;34m()\u001b[0m\n\u001b[0;32m      1\u001b[0m \u001b[38;5;66;03m# set is not mutable\u001b[39;00m\n\u001b[1;32m----> 2\u001b[0m example_set[\u001b[38;5;241m3\u001b[39m] \u001b[38;5;241m=\u001b[39m \u001b[38;5;241m45\u001b[39m\n",
      "\u001b[1;31mTypeError\u001b[0m: 'set' object does not support item assignment"
     ]
    }
   ],
   "source": [
    "# set is not mutable\n",
    "example_set[3] = 45"
   ]
  },
  {
   "cell_type": "code",
   "execution_count": 4,
   "id": "2382d33e",
   "metadata": {},
   "outputs": [
    {
     "name": "stdout",
     "output_type": "stream",
     "text": [
      "{'Dylan', 26, 14.4, True}\n"
     ]
    },
    {
     "data": {
      "text/plain": [
       "'Dylan'"
      ]
     },
     "execution_count": 4,
     "metadata": {},
     "output_type": "execute_result"
    }
   ],
   "source": [
    "print(example_set)\n",
    "example_set.pop()"
   ]
  },
  {
   "cell_type": "code",
   "execution_count": 5,
   "id": "5357b3de",
   "metadata": {},
   "outputs": [
    {
     "data": {
      "text/plain": [
       "{True, 14.4, 26}"
      ]
     },
     "execution_count": 5,
     "metadata": {},
     "output_type": "execute_result"
    }
   ],
   "source": [
    "example_set"
   ]
  },
  {
   "cell_type": "code",
   "execution_count": 6,
   "id": "dc4923e3",
   "metadata": {},
   "outputs": [
    {
     "data": {
      "text/plain": [
       "{True, 14.4, 26}"
      ]
     },
     "execution_count": 6,
     "metadata": {},
     "output_type": "execute_result"
    }
   ],
   "source": [
    "example_set.add(26)\n",
    "example_set"
   ]
  },
  {
   "cell_type": "code",
   "execution_count": 7,
   "id": "2ea387b7",
   "metadata": {},
   "outputs": [
    {
     "data": {
      "text/plain": [
       "{True, 14.4, 26, 34}"
      ]
     },
     "execution_count": 7,
     "metadata": {},
     "output_type": "execute_result"
    }
   ],
   "source": [
    "example_set.update([True, 34])\n",
    "example_set"
   ]
  },
  {
   "cell_type": "code",
   "execution_count": 22,
   "id": "3a077644",
   "metadata": {},
   "outputs": [
    {
     "data": {
      "text/plain": [
       "1"
      ]
     },
     "execution_count": 22,
     "metadata": {},
     "output_type": "execute_result"
    }
   ],
   "source": [
    "5 % 2"
   ]
  },
  {
   "cell_type": "markdown",
   "id": "e457aff8",
   "metadata": {},
   "source": [
    "set gives us flexibility about how the data is stored in the memory, and that flexibility can make retrieval faster"
   ]
  },
  {
   "cell_type": "markdown",
   "id": "298b7d8a",
   "metadata": {},
   "source": [
    "Imagine we have ten piles of money with 31 boxes. Instead of putting each pile of money into the boxes in order, instead put a pile into the box based on the amount of money in the pile. First we multiply the amount of money by 100, and take modulus division by 31. This gives the number of box we should put the pile of money in."
   ]
  },
  {
   "cell_type": "code",
   "execution_count": 23,
   "id": "e2fc1b10",
   "metadata": {},
   "outputs": [],
   "source": [
    "piles = [2.83, 8.23, 9.38, 10.23, 25.58, 0.42, 5.37, 28.10, 32.14, 7.31]"
   ]
  },
  {
   "cell_type": "code",
   "execution_count": 24,
   "id": "dfd55473",
   "metadata": {},
   "outputs": [],
   "source": [
    "def hash_function(x):\n",
    "    return int(100 * x % 31)"
   ]
  },
  {
   "cell_type": "code",
   "execution_count": 25,
   "id": "1ab8bb1e",
   "metadata": {},
   "outputs": [
    {
     "data": {
      "text/plain": [
       "[4, 17, 8, 0, 16, 11, 10, 20, 21, 18]"
      ]
     },
     "execution_count": 25,
     "metadata": {},
     "output_type": "execute_result"
    }
   ],
   "source": [
    "[hash_function(pile) for pile in piles]"
   ]
  },
  {
   "cell_type": "code",
   "execution_count": 26,
   "id": "c1fb8a56",
   "metadata": {},
   "outputs": [
    {
     "data": {
      "text/plain": [
       "10"
      ]
     },
     "execution_count": 26,
     "metadata": {},
     "output_type": "execute_result"
    }
   ],
   "source": [
    "hash_function(5.37)"
   ]
  },
  {
   "cell_type": "markdown",
   "id": "f30a57ee",
   "metadata": {},
   "source": [
    "Because searching for data is very simple in set, they are used for making comparison between collection of data."
   ]
  },
  {
   "cell_type": "code",
   "execution_count": 27,
   "id": "ae5dae57",
   "metadata": {},
   "outputs": [
    {
     "name": "stdout",
     "output_type": "stream",
     "text": [
      "{'biology', 'english'}\n",
      "{'mathematics', 'theater', 'biology', 'english', 'history', 'computer science'}\n",
      "{'history', 'theater'}\n"
     ]
    }
   ],
   "source": [
    "student_a_course = {\"history\", \"english\", \"biology\", \"theater\"}\n",
    "student_b_course = {\"biology\", \"english\", \"mathematics\", \"computer science\"}\n",
    "\n",
    "print(student_a_course.intersection(student_b_course))\n",
    "print(student_a_course.union(student_b_course))\n",
    "print(student_a_course.difference(student_b_course))\n"
   ]
  },
  {
   "cell_type": "markdown",
   "id": "ec00fadc",
   "metadata": {},
   "source": [
    "# Dict"
   ]
  },
  {
   "cell_type": "code",
   "execution_count": 28,
   "id": "f0dc39e2",
   "metadata": {},
   "outputs": [],
   "source": [
    "me = ['Dylan', 30, 135, 60, 'Brown', 'Black', 'True']"
   ]
  },
  {
   "cell_type": "markdown",
   "id": "4cbe9dc0",
   "metadata": {},
   "source": [
    "Using Zip to form Dict"
   ]
  },
  {
   "cell_type": "code",
   "execution_count": 29,
   "id": "39b97758",
   "metadata": {},
   "outputs": [],
   "source": [
    "dict_keys = ['Name', 'Age', 'Height', 'Weight', 'Complexion', 'Hair color', 'Has a dog?']\n",
    "dict_values = me"
   ]
  },
  {
   "cell_type": "code",
   "execution_count": 30,
   "id": "b68cdc05",
   "metadata": {},
   "outputs": [
    {
     "data": {
      "text/plain": [
       "[('Name', 'Dylan'),\n",
       " ('Age', 30),\n",
       " ('Height', 135),\n",
       " ('Weight', 60),\n",
       " ('Complexion', 'Brown'),\n",
       " ('Hair color', 'Black'),\n",
       " ('Has a dog?', 'True')]"
      ]
     },
     "execution_count": 30,
     "metadata": {},
     "output_type": "execute_result"
    }
   ],
   "source": [
    "my_dict = list(zip(dict_keys, dict_values))\n",
    "my_dict"
   ]
  },
  {
   "cell_type": "code",
   "execution_count": 31,
   "id": "19a47f82",
   "metadata": {},
   "outputs": [
    {
     "data": {
      "text/plain": [
       "{'Name': 'Dylan',\n",
       " 'Age': 30,\n",
       " 'Height': 135,\n",
       " 'Weight': 60,\n",
       " 'Complexion': 'Brown',\n",
       " 'Hair color': 'Black',\n",
       " 'Has a dog?': 'True'}"
      ]
     },
     "execution_count": 31,
     "metadata": {},
     "output_type": "execute_result"
    }
   ],
   "source": [
    "my_dict = dict(my_dict)\n",
    "my_dict"
   ]
  },
  {
   "cell_type": "markdown",
   "id": "660d100d",
   "metadata": {},
   "source": [
    "dict is mutable"
   ]
  },
  {
   "cell_type": "code",
   "execution_count": 32,
   "id": "1418c619",
   "metadata": {},
   "outputs": [
    {
     "data": {
      "text/plain": [
       "{'Name': 'Dylan',\n",
       " 'Age': 30,\n",
       " 'Height': 135,\n",
       " 'Weight': 60,\n",
       " 'Complexion': 'Brown',\n",
       " 'Hair color': 'Black',\n",
       " 'Has a dog?': 'True',\n",
       " 'favorite food': 'Bread and Beans'}"
      ]
     },
     "execution_count": 32,
     "metadata": {},
     "output_type": "execute_result"
    }
   ],
   "source": [
    "my_dict['favorite food'] = 'Bread and Beans'\n",
    "my_dict"
   ]
  },
  {
   "cell_type": "markdown",
   "id": "a01e7187",
   "metadata": {},
   "source": [
    "we can also use update like we use in set only that it has to be in key-value pairs"
   ]
  },
  {
   "cell_type": "code",
   "execution_count": 33,
   "id": "69143025",
   "metadata": {},
   "outputs": [
    {
     "name": "stdout",
     "output_type": "stream",
     "text": [
      "{'Name': 'Dylan', 'Age': 30, 'Height': 135, 'Weight': 60, 'Complexion': 'Brown', 'Hair color': 'Black', 'Has a dog?': 'True', 'favorite food': 'Bread and Beans', 'career': 'Data Science', 'Hobby': 'Studying'}\n"
     ]
    }
   ],
   "source": [
    "my_dict.update({'career': 'Data Science', 'Hobby': 'Studying'})\n",
    "print(my_dict)"
   ]
  },
  {
   "cell_type": "markdown",
   "id": "ad0a0f39",
   "metadata": {},
   "source": [
    "we can replace or delete key-value pairs in dict"
   ]
  },
  {
   "cell_type": "code",
   "execution_count": 34,
   "id": "b6dc0d46",
   "metadata": {},
   "outputs": [
    {
     "name": "stdout",
     "output_type": "stream",
     "text": [
      "{'Name': 'Dylan', 'Age': 30, 'Height': 135, 'Weight': 60, 'Complexion': 'Brown', 'Hair color': 'Black', 'Has a dog?': 'True', 'favorite food': 'Jollof rice and plantain', 'career': 'Data Science', 'Hobby': 'Studying'}\n"
     ]
    }
   ],
   "source": [
    "my_dict['favorite food'] = 'Jollof rice and plantain'\n",
    "print(my_dict)"
   ]
  },
  {
   "cell_type": "code",
   "execution_count": 35,
   "id": "390be0d0",
   "metadata": {},
   "outputs": [
    {
     "name": "stdout",
     "output_type": "stream",
     "text": [
      "{'Name': 'Dylan', 'Age': 30, 'Height': 135, 'Weight': 60, 'Complexion': 'Brown', 'Hair color': 'Black', 'favorite food': 'Jollof rice and plantain', 'career': 'Data Science', 'Hobby': 'Studying'}\n"
     ]
    }
   ],
   "source": [
    "del my_dict['Has a dog?']\n",
    "print(my_dict)"
   ]
  },
  {
   "cell_type": "code",
   "execution_count": 36,
   "id": "5d9ed79c",
   "metadata": {},
   "outputs": [
    {
     "name": "stdout",
     "output_type": "stream",
     "text": [
      "{'Name': 'Dylan', 'Age': 30, 'Height': 135, 'Weight': 60, 'Hair color': 'Black', 'favorite food': 'Jollof rice and plantain', 'career': 'Data Science', 'Hobby': 'Studying'}\n"
     ]
    }
   ],
   "source": [
    "my_dict.pop('Complexion')\n",
    "print(my_dict)"
   ]
  },
  {
   "cell_type": "markdown",
   "id": "dda34fae",
   "metadata": {},
   "source": [
    "Keys are hashed to assign key-values to memory, in view of this, keys are immutable and unique similar to the elements of set"
   ]
  },
  {
   "cell_type": "code",
   "execution_count": 37,
   "id": "c60c204c",
   "metadata": {},
   "outputs": [
    {
     "ename": "TypeError",
     "evalue": "unhashable type: 'list'",
     "output_type": "error",
     "traceback": [
      "\u001b[1;31m---------------------------------------------------------------------------\u001b[0m",
      "\u001b[1;31mTypeError\u001b[0m                                 Traceback (most recent call last)",
      "Input \u001b[1;32mIn [37]\u001b[0m, in \u001b[0;36m<cell line: 3>\u001b[1;34m()\u001b[0m\n\u001b[0;32m      1\u001b[0m \u001b[38;5;66;03m# a list can not be used as a key\u001b[39;00m\n\u001b[1;32m----> 3\u001b[0m invalid_dict \u001b[38;5;241m=\u001b[39m {[\u001b[38;5;241m1\u001b[39m, \u001b[38;5;241m5\u001b[39m] : \u001b[38;5;124m'\u001b[39m\u001b[38;5;124mvalues\u001b[39m\u001b[38;5;124m'\u001b[39m, \u001b[38;5;124m'\u001b[39m\u001b[38;5;124mage\u001b[39m\u001b[38;5;124m'\u001b[39m : \u001b[38;5;241m7\u001b[39m}\n\u001b[0;32m      4\u001b[0m invalid_dict\n",
      "\u001b[1;31mTypeError\u001b[0m: unhashable type: 'list'"
     ]
    }
   ],
   "source": [
    "# a list can not be used as a key\n",
    "\n",
    "invalid_dict = {[1, 5] : 'values', 'age' : 7}\n",
    "invalid_dict"
   ]
  },
  {
   "cell_type": "code",
   "execution_count": 38,
   "id": "d9b1d18b",
   "metadata": {},
   "outputs": [
    {
     "data": {
      "text/plain": [
       "{(1, 5): 'values', 'age': 7}"
      ]
     },
     "execution_count": 38,
     "metadata": {},
     "output_type": "execute_result"
    }
   ],
   "source": [
    "# a tuple can be used as a key since it's elements are immutable\n",
    "valid_dict = {(1, 5) : 'values', 'age' : 7}\n",
    "valid_dict"
   ]
  },
  {
   "cell_type": "code",
   "execution_count": 42,
   "id": "8ea894a5",
   "metadata": {},
   "outputs": [
    {
     "data": {
      "text/plain": [
       "{'key': [1, 5], 'age': 7}"
      ]
     },
     "execution_count": 42,
     "metadata": {},
     "output_type": "execute_result"
    }
   ],
   "source": [
    "valid_dict3 = {'key' : [1,5] , 'age' : 7}\n",
    "valid_dict3"
   ]
  },
  {
   "cell_type": "code",
   "execution_count": 43,
   "id": "677d91f0",
   "metadata": {},
   "outputs": [
    {
     "name": "stdout",
     "output_type": "stream",
     "text": [
      "['Age', 'Hair color', 'Height', 'Hobby', 'Name', 'Weight', 'career', 'favorite food']\n",
      "[('Age', 30), ('Hair color', 'Black'), ('Height', 135), ('Hobby', 'Studying'), ('Name', 'Dylan'), ('Weight', 60), ('career', 'Data Science'), ('favorite food', 'Jollof rice and plantain')]\n"
     ]
    }
   ],
   "source": [
    "print(sorted(my_dict))\n",
    "print(sorted(my_dict.items()))"
   ]
  },
  {
   "cell_type": "code",
   "execution_count": 44,
   "id": "d5e20338",
   "metadata": {},
   "outputs": [],
   "source": [
    "example_set2 = {'Dylan', 'Zack', 'Paul', 'Mata'}"
   ]
  },
  {
   "cell_type": "code",
   "execution_count": 45,
   "id": "858205fd",
   "metadata": {},
   "outputs": [
    {
     "name": "stdout",
     "output_type": "stream",
     "text": [
      "['Dylan', 'Mata', 'Paul', 'Zack']\n"
     ]
    }
   ],
   "source": [
    "print(sorted(example_set2))"
   ]
  },
  {
   "cell_type": "code",
   "execution_count": 46,
   "id": "e7b98213",
   "metadata": {},
   "outputs": [
    {
     "name": "stdout",
     "output_type": "stream",
     "text": [
      "['14.4', '26', '34', 'Dylan', 'True']\n"
     ]
    }
   ],
   "source": [
    "print(sorted(map(str, example_set)))"
   ]
  },
  {
   "cell_type": "code",
   "execution_count": 10,
   "id": "c6f3fad5",
   "metadata": {},
   "outputs": [
    {
     "data": {
      "text/plain": [
       "('Dylan', 20, 16.4, True)"
      ]
     },
     "execution_count": 10,
     "metadata": {},
     "output_type": "execute_result"
    }
   ],
   "source": [
    "example_tuple"
   ]
  },
  {
   "cell_type": "code",
   "execution_count": 12,
   "id": "f0d25165",
   "metadata": {},
   "outputs": [
    {
     "ename": "TypeError",
     "evalue": "'<' not supported between instances of 'int' and 'str'",
     "output_type": "error",
     "traceback": [
      "\u001b[1;31m---------------------------------------------------------------------------\u001b[0m",
      "\u001b[1;31mTypeError\u001b[0m                                 Traceback (most recent call last)",
      "Input \u001b[1;32mIn [12]\u001b[0m, in \u001b[0;36m<cell line: 1>\u001b[1;34m()\u001b[0m\n\u001b[1;32m----> 1\u001b[0m \u001b[38;5;28mprint\u001b[39m(\u001b[38;5;28;43msorted\u001b[39;49m\u001b[43m(\u001b[49m\u001b[43mexample_tuple\u001b[49m\u001b[43m)\u001b[49m)\n",
      "\u001b[1;31mTypeError\u001b[0m: '<' not supported between instances of 'int' and 'str'"
     ]
    }
   ],
   "source": [
    "print(sorted(example_tuple))"
   ]
  },
  {
   "cell_type": "code",
   "execution_count": 11,
   "id": "2b76de74",
   "metadata": {},
   "outputs": [
    {
     "name": "stdout",
     "output_type": "stream",
     "text": [
      "['16.4', '20', 'Dylan', 'True']\n"
     ]
    }
   ],
   "source": [
    "print(sorted(map(str, example_tuple)))"
   ]
  },
  {
   "cell_type": "markdown",
   "id": "50be64df",
   "metadata": {},
   "source": [
    "# Collections"
   ]
  },
  {
   "cell_type": "markdown",
   "id": "de37ec0e",
   "metadata": {},
   "source": [
    "namedtuple:\n",
    "It is a class factory. It needs a few things to generate the class.\n",
    "1. The class name we want to use\n",
    "2. A sequence of field names we want to assign. Field names can be any valid variable names except that they cannot start with an \"underscore\"\n",
    "3. The return value of the call \"namedtuple\" will be a class. We need to assign that value to variable name in our code so that we can use it to construct instances. In general we use the same name as the name of the class that was generated.\n",
    "Coords = namedtuple('Coords', ['x', 'y']). \n",
    "#### from https://stackoverflow.com/questions/2970608/what-are-named-tuples-in-python#:~:text=Field%20names%20can%20be%20any,use%20it%20to%20construct%20instances."
   ]
  },
  {
   "cell_type": "code",
   "execution_count": 49,
   "id": "3f9d8571",
   "metadata": {},
   "outputs": [],
   "source": [
    "# now we can create insatances\n",
    "\n",
    "from collections import namedtuple\n",
    "\n",
    "Coords = namedtuple('Coords', ['x', 'y'])\n",
    "pt = Coords(5,10)"
   ]
  },
  {
   "cell_type": "markdown",
   "id": "5db47c08",
   "metadata": {},
   "source": [
    "There are many ways we can provide the list of field names to the namedtuple function.\n",
    "\n",
    "1. a list of strings\n",
    "\n",
    "   namedtuple('Coords',['x','y'])\n",
    "2. a tuple of strings\n",
    "\n",
    "   namedtuple('Coords',('x','y'))\n",
    "3. a single string with the field names separated by whitespace or commas\n",
    "\n",
    "   namedtuple('Coords','x, y')"
   ]
  },
  {
   "cell_type": "code",
   "execution_count": 50,
   "id": "c0254f04",
   "metadata": {},
   "outputs": [
    {
     "data": {
      "text/plain": [
       "5"
      ]
     },
     "execution_count": 50,
     "metadata": {},
     "output_type": "execute_result"
    }
   ],
   "source": [
    "pt.x"
   ]
  },
  {
   "cell_type": "code",
   "execution_count": 51,
   "id": "63517cd5",
   "metadata": {},
   "outputs": [
    {
     "data": {
      "text/plain": [
       "True"
      ]
     },
     "execution_count": 51,
     "metadata": {},
     "output_type": "execute_result"
    }
   ],
   "source": [
    "isinstance(pt, tuple)"
   ]
  },
  {
   "cell_type": "markdown",
   "id": "a231ec93",
   "metadata": {},
   "source": [
    "#### \"rename\" keyword arg for namedtuple\n",
    "Field names cannot start with an underscore\n",
    "\n",
    "- Coords = namedtuple('Coords', ['x', '_y']) # does not work\n",
    "namedtuple has a keyword-only argument, rename (defaults to False) that will automatically rename any invalid field name.\n",
    "\n",
    "- Coords = namedtuple('Coords', ['x', '_y'], rename=True)\n",
    "field name \"x\" wont change, but \"_y\" will change to _1. 1 is the index of the field name."
   ]
  },
  {
   "cell_type": "markdown",
   "id": "662dedba",
   "metadata": {},
   "source": [
    "#### Introspection\n",
    "We can easily find out if the field names in a named tuple generated class.\n",
    "\n",
    "     - Coords = namedtuple('Coords', ['x', '_y'])\n",
    "     - Coords._fields -> (\"x\",\"_1\")  # returns tuple\n",
    "We can actually see what the code for that class is, using the class property _source if you are using python less than 3-3.7. Since there might have been some concerns about the memory usage of implementing that property, it was removed since v3.7"
   ]
  },
  {
   "cell_type": "markdown",
   "id": "1feef24b",
   "metadata": {},
   "source": [
    "Extradicting namedtuple as dict"
   ]
  },
  {
   "cell_type": "code",
   "execution_count": 52,
   "id": "f6851541",
   "metadata": {},
   "outputs": [
    {
     "data": {
      "text/plain": [
       "{'x': 5, 'y': 10}"
      ]
     },
     "execution_count": 52,
     "metadata": {},
     "output_type": "execute_result"
    }
   ],
   "source": [
    "pt._asdict()"
   ]
  },
  {
   "cell_type": "code",
   "execution_count": 53,
   "id": "a1279355",
   "metadata": {},
   "outputs": [],
   "source": [
    "point = namedtuple('vector',['x', 'y', 'z'] )"
   ]
  },
  {
   "cell_type": "code",
   "execution_count": 54,
   "id": "cfd1fefd",
   "metadata": {},
   "outputs": [],
   "source": [
    "val = point(2, 4, 9)"
   ]
  },
  {
   "cell_type": "code",
   "execution_count": 55,
   "id": "a03d49fc",
   "metadata": {},
   "outputs": [
    {
     "data": {
      "text/plain": [
       "11"
      ]
     },
     "execution_count": 55,
     "metadata": {},
     "output_type": "execute_result"
    }
   ],
   "source": [
    "val.x + val.z"
   ]
  },
  {
   "cell_type": "code",
   "execution_count": 56,
   "id": "cc31868d",
   "metadata": {},
   "outputs": [],
   "source": [
    "def tfunc(a,b,c):\n",
    "    print(a,b,c)"
   ]
  },
  {
   "cell_type": "code",
   "execution_count": 57,
   "id": "097aac76",
   "metadata": {},
   "outputs": [
    {
     "name": "stdout",
     "output_type": "stream",
     "text": [
      "2 4 9\n"
     ]
    }
   ],
   "source": [
    "tfunc(*val)"
   ]
  },
  {
   "cell_type": "code",
   "execution_count": 33,
   "id": "9c40b699",
   "metadata": {},
   "outputs": [
    {
     "data": {
      "text/plain": [
       "{'first': 1, 'second': 4, 'third': 3, 'one': 1, 'two': 4, 'three': 6}"
      ]
     },
     "execution_count": 33,
     "metadata": {},
     "output_type": "execute_result"
    }
   ],
   "source": [
    "x = {\"first\" : 1, \"second\": 4, \"third\": 3}\n",
    "y = {\"one\" : 1, \"two\" : 4, \"three\": 6}\n",
    "z = {**x, **y}\n",
    "z"
   ]
  },
  {
   "cell_type": "markdown",
   "id": "aa6dc754",
   "metadata": {},
   "source": [
    "# deque"
   ]
  },
  {
   "cell_type": "markdown",
   "id": "9c7a7ef3",
   "metadata": {},
   "source": [
    "A deque is like a queue or a stack except that it work in both ways. we can think of a deque as a list where we generally want to work with both ends. The deque is optimized for $O(1)$  for both adding and removing of elements from the ends of the structure, whereas a general list will be $O(N)$ for operations at the front of the list."
   ]
  },
  {
   "cell_type": "code",
   "execution_count": 58,
   "id": "db9a5385",
   "metadata": {},
   "outputs": [
    {
     "name": "stdout",
     "output_type": "stream",
     "text": [
      "deque([10, 14, 25, 23])\n",
      "deque([10, 14, 25, 23, 20])\n",
      "deque([30, 10, 14, 25, 23, 20])\n"
     ]
    }
   ],
   "source": [
    "from collections import deque\n",
    "\n",
    "d = deque([10, 14, 25, 23])\n",
    "print(d)\n",
    "d.append(20)\n",
    "print(d)\n",
    "d.appendleft(30)\n",
    "print(d)"
   ]
  },
  {
   "cell_type": "markdown",
   "id": "f7093580",
   "metadata": {},
   "source": [
    "let's time how long it take to perform the same operation adding elements to the left of a deque and a list"
   ]
  },
  {
   "cell_type": "markdown",
   "id": "7bb168c5",
   "metadata": {},
   "source": [
    "#### from w3 schools\n",
    "\n",
    "The insert() method inserts the specified value at the specified position\n",
    "\n",
    ".list.insert(pos, elmnt)"
   ]
  },
  {
   "cell_type": "code",
   "execution_count": 59,
   "id": "ac9938e4",
   "metadata": {},
   "outputs": [
    {
     "name": "stdout",
     "output_type": "stream",
     "text": [
      "5.88 ms ± 55.5 µs per loop (mean ± std. dev. of 7 runs, 100 loops each)\n"
     ]
    }
   ],
   "source": [
    "%%timeit\n",
    "\n",
    "l_ = list()\n",
    "for i in range(4000):\n",
    "    l_.insert(0, i)\n"
   ]
  },
  {
   "cell_type": "code",
   "execution_count": 60,
   "id": "f4d83150",
   "metadata": {},
   "outputs": [
    {
     "name": "stdout",
     "output_type": "stream",
     "text": [
      "612 µs ± 144 µs per loop (mean ± std. dev. of 7 runs, 1,000 loops each)\n"
     ]
    }
   ],
   "source": [
    "%%timeit\n",
    "\n",
    "d = deque()\n",
    "for i in range(4000):\n",
    "    d.appendleft(i)"
   ]
  },
  {
   "cell_type": "code",
   "execution_count": null,
   "id": "3d9ffd9f",
   "metadata": {},
   "outputs": [],
   "source": [
    "l_.insert?"
   ]
  },
  {
   "cell_type": "code",
   "execution_count": 61,
   "id": "5c9d85f3",
   "metadata": {},
   "outputs": [
    {
     "data": {
      "text/plain": [
       "True"
      ]
     },
     "execution_count": 61,
     "metadata": {},
     "output_type": "execute_result"
    }
   ],
   "source": [
    "# check if the values are the same\n",
    "\n",
    "l_ = list()\n",
    "d = deque()\n",
    "for i in range(4000):\n",
    "    l_.insert(0, i)\n",
    "    d.appendleft(i)\n",
    "    \n",
    "l_ == list(d)"
   ]
  },
  {
   "cell_type": "markdown",
   "id": "43a046a5",
   "metadata": {},
   "source": [
    "The deque is order of magnitude faster than the list."
   ]
  },
  {
   "cell_type": "markdown",
   "id": "f6463ce1",
   "metadata": {},
   "source": [
    "More examples from geeksforgeeks"
   ]
  },
  {
   "cell_type": "code",
   "execution_count": 62,
   "id": "e885fe35",
   "metadata": {},
   "outputs": [],
   "source": [
    "de = deque([1, 2, 4, 3, 4, 2, 4])"
   ]
  },
  {
   "cell_type": "code",
   "execution_count": 63,
   "id": "d1ccc554",
   "metadata": {},
   "outputs": [
    {
     "data": {
      "text/plain": [
       "deque([1, 2, 4, 3, 4, 2, 4])"
      ]
     },
     "execution_count": 63,
     "metadata": {},
     "output_type": "execute_result"
    }
   ],
   "source": [
    "de"
   ]
  },
  {
   "cell_type": "code",
   "execution_count": 64,
   "id": "6e8d844a",
   "metadata": {},
   "outputs": [
    {
     "name": "stdout",
     "output_type": "stream",
     "text": [
      "2\n"
     ]
    }
   ],
   "source": [
    "print(de.index(4))"
   ]
  },
  {
   "cell_type": "code",
   "execution_count": 65,
   "id": "3f6c7394",
   "metadata": {},
   "outputs": [
    {
     "data": {
      "text/plain": [
       "1"
      ]
     },
     "execution_count": 65,
     "metadata": {},
     "output_type": "execute_result"
    }
   ],
   "source": [
    "de.count(3)"
   ]
  },
  {
   "cell_type": "code",
   "execution_count": 67,
   "id": "9d3bad85",
   "metadata": {},
   "outputs": [],
   "source": [
    "de.remove(4)"
   ]
  },
  {
   "cell_type": "code",
   "execution_count": 68,
   "id": "b89746b5",
   "metadata": {},
   "outputs": [
    {
     "data": {
      "text/plain": [
       "deque([1, 2, 3, 2, 4])"
      ]
     },
     "execution_count": 68,
     "metadata": {},
     "output_type": "execute_result"
    }
   ],
   "source": [
    "de"
   ]
  },
  {
   "cell_type": "code",
   "execution_count": 69,
   "id": "7b845d3e",
   "metadata": {},
   "outputs": [],
   "source": [
    "de.reverse()"
   ]
  },
  {
   "cell_type": "code",
   "execution_count": 70,
   "id": "b0757474",
   "metadata": {},
   "outputs": [
    {
     "data": {
      "text/plain": [
       "deque([4, 2, 3, 2, 1])"
      ]
     },
     "execution_count": 70,
     "metadata": {},
     "output_type": "execute_result"
    }
   ],
   "source": [
    "de"
   ]
  },
  {
   "cell_type": "code",
   "execution_count": null,
   "id": "2678bfad",
   "metadata": {},
   "outputs": [],
   "source": [
    "#dir(de)"
   ]
  },
  {
   "cell_type": "markdown",
   "id": "8e4c3fee",
   "metadata": {},
   "source": [
    "### Counter"
   ]
  },
  {
   "cell_type": "markdown",
   "id": "fd09ba98",
   "metadata": {},
   "source": [
    "The counter is an extremely useful object. It counts elements in some iterables and return a dictionary-like structure containing the count of each of the element. Let's see an example."
   ]
  },
  {
   "cell_type": "code",
   "execution_count": 13,
   "id": "87d6edc4",
   "metadata": {},
   "outputs": [
    {
     "name": "stdout",
     "output_type": "stream",
     "text": [
      "Counter({'b': 3, 'a': 2, 'c': 1, 'd': 1})\n"
     ]
    }
   ],
   "source": [
    "from collections import Counter\n",
    "\n",
    "ele = ['a', 'b', 'a', 'c', 'b', 'b', 'd']\n",
    "c = Counter(ele)\n",
    "print(c)"
   ]
  },
  {
   "cell_type": "code",
   "execution_count": 14,
   "id": "c1c7d4c0",
   "metadata": {},
   "outputs": [
    {
     "data": {
      "text/plain": [
       "2"
      ]
     },
     "execution_count": 14,
     "metadata": {},
     "output_type": "execute_result"
    }
   ],
   "source": [
    "c.get('a', 'Not available')"
   ]
  },
  {
   "cell_type": "code",
   "execution_count": 16,
   "id": "394cacca",
   "metadata": {},
   "outputs": [
    {
     "data": {
      "text/plain": [
       "'Not available'"
      ]
     },
     "execution_count": 16,
     "metadata": {},
     "output_type": "execute_result"
    }
   ],
   "source": [
    "c.get('z', 'Not available')"
   ]
  },
  {
   "cell_type": "code",
   "execution_count": 73,
   "id": "2d08969e",
   "metadata": {},
   "outputs": [
    {
     "data": {
      "text/plain": [
       "0"
      ]
     },
     "execution_count": 73,
     "metadata": {},
     "output_type": "execute_result"
    }
   ],
   "source": [
    "c['z']"
   ]
  },
  {
   "cell_type": "markdown",
   "id": "b54b89dd",
   "metadata": {},
   "source": [
    "### defaultdict"
   ]
  },
  {
   "cell_type": "markdown",
   "id": "47d56bed",
   "metadata": {},
   "source": [
    "One common paradigm of a dictionary is to handle the case of a missing key. Lets say we take the counter example from above and try to implement our own. We want to do something like creat a dictionary and every time we encounter a key we one to add one to the existing value at that key and if we hadn't seen that key, we want to create it and initialize it to zero before adding it. One way to do this is"
   ]
  },
  {
   "cell_type": "code",
   "execution_count": 77,
   "id": "b8acb3f5",
   "metadata": {},
   "outputs": [
    {
     "name": "stdout",
     "output_type": "stream",
     "text": [
      "This is x  ['a', 'b', 'a', 'c', 'b', 'b', 'd']\n"
     ]
    },
    {
     "data": {
      "text/plain": [
       "{'a': 2, 'b': 3, 'c': 1, 'd': 1}"
      ]
     },
     "execution_count": 77,
     "metadata": {},
     "output_type": "execute_result"
    }
   ],
   "source": [
    "def count(x):\n",
    "    count_dict = {}\n",
    "    print(\"This is x\", x)\n",
    "    for i in x:\n",
    "        if i in count_dict.keys():\n",
    "            count_dict[i] += 1\n",
    "        else:\n",
    "            count_dict[i] = 1\n",
    "    return count_dict\n",
    "\n",
    "count(ele)"
   ]
  },
  {
   "cell_type": "markdown",
   "id": "16ad931c",
   "metadata": {},
   "source": [
    "This is such a common case that we have the defaultdict to deal with. The defaultdict takes a default factory takes a default factory function which can be as simple as returning 0 which produces a value when the key has not been seen before. We can implement in the same algorithm as above in a bit of a simpler way."
   ]
  },
  {
   "cell_type": "markdown",
   "id": "5f229cf9",
   "metadata": {},
   "source": [
    "When the int class is passed as the default_factory argument, then a defaultdict is created with default value as zero."
   ]
  },
  {
   "cell_type": "code",
   "execution_count": 19,
   "id": "99874cb9",
   "metadata": {},
   "outputs": [
    {
     "data": {
      "text/plain": [
       "[('a', 2), ('b', 3), ('c', 1), ('d', 1)]"
      ]
     },
     "execution_count": 19,
     "metadata": {},
     "output_type": "execute_result"
    }
   ],
   "source": [
    "from collections import defaultdict\n",
    "import numpy as np\n",
    "\n",
    "def count_default(x):\n",
    "    count_dict = defaultdict(int)\n",
    "    for ele in x:\n",
    "        count_dict[ele] += 1\n",
    "    return count_dict\n",
    "\n",
    "list(count_default(ele).items())"
   ]
  },
  {
   "cell_type": "code",
   "execution_count": 18,
   "id": "d8b8d4bd",
   "metadata": {},
   "outputs": [],
   "source": [
    "d = defaultdict()\n",
    "#dir(d)"
   ]
  },
  {
   "cell_type": "markdown",
   "id": "07836c35",
   "metadata": {},
   "source": [
    "### Map"
   ]
  },
  {
   "cell_type": "markdown",
   "id": "221cd388",
   "metadata": {},
   "source": [
    "from : https://www.simplilearn.com/tutorials/python-tutorial/map-in-python#:~:text=Map%20in%20Python%20is%20a,to%20the%20map%20in%20Python."
   ]
  },
  {
   "cell_type": "markdown",
   "id": "86803234",
   "metadata": {},
   "source": [
    "    Map is a function that works as an iterator to return every item of an iterable(tuple, list, etc). It is used when you want to use a single transformation function to all the iterable elements. The iterable and the map are passed as argument to the map function.\n",
    "    \n",
    " -Syntax of Map function\n",
    " #### map(function, iterable)\n",
    "    \n",
    "- function: It is the transformation function through which all the items of the iterable will be passed.\n",
    "- iterables: It is the iterable (sequence, collection like list or tuple) that you want to map."
   ]
  },
  {
   "cell_type": "markdown",
   "id": "8ced3e19",
   "metadata": {},
   "source": [
    "The map in Python takes a function and an iterable/iterables. It loops over each item of an iterable and applies the transformation function to it. Then, it returns a map object that stores the value of the transformed item. The input function can be any callable function, including built-in functions, lambda functions, user-defined functions, classes, and methods. Now, calculate the same multiplication as you did in the previous example, but this time with both the for loop and the map functions separately, to understand how the map() function works.\n",
    "\n",
    "Example: Using For Loop"
   ]
  },
  {
   "cell_type": "code",
   "execution_count": 18,
   "id": "461577c0",
   "metadata": {},
   "outputs": [
    {
     "data": {
      "text/plain": [
       "[9, 25, 49, 121, 169]"
      ]
     },
     "execution_count": 18,
     "metadata": {},
     "output_type": "execute_result"
    }
   ],
   "source": [
    "def mul(i):\n",
    "\n",
    "    return i * i\n",
    "\n",
    "num = (3, 5, 7, 11, 13)\n",
    "\n",
    "resu = map(mul, num)\n",
    "\n",
    "list(resu)"
   ]
  },
  {
   "cell_type": "markdown",
   "id": "d783723c",
   "metadata": {},
   "source": [
    "#### Queue"
   ]
  },
  {
   "cell_type": "markdown",
   "id": "2012efd6",
   "metadata": {},
   "source": [
    "It is a linear data structure that stores items in FIFO (First In First Out) manner. With queue the least recently added element is removed first. an example of queue is customers being attended to on a first come first serve basis."
   ]
  },
  {
   "cell_type": "markdown",
   "id": "7fc39054",
   "metadata": {},
   "source": [
    "Operations with queues are:\n",
    "- Enqueue : Adds an item to the queue. if the queue is full, then it is said to be an overflow condition. Time complexity : $O$(1)\n",
    "- Dequeue : Removes an item from the queue. The items are poped out in the same order which theyare pushed. If the queue is empty, then it is said to be an underflow condition. Time complexity is $O$(1)\n",
    "- Front : Get the front item from he queue. Time complexity is $O$(1)\n",
    "- Rear : Get the last item from the queue. Time complexity is $O$(1)"
   ]
  },
  {
   "cell_type": "markdown",
   "id": "4a433dbf",
   "metadata": {},
   "source": [
    "Implementation"
   ]
  },
  {
   "cell_type": "markdown",
   "id": "1ac0a67c",
   "metadata": {},
   "source": [
    "Queue in Python can be implemented in the following ways\n",
    "- list\n",
    "- Collections.deque\n",
    "- queue.Queue"
   ]
  },
  {
   "cell_type": "markdown",
   "id": "48aaf1d6",
   "metadata": {},
   "source": [
    "#### list\n",
    "list in Python can be used as a queue. Instead of using enqueue() and dequeue(), append() and pop() functions is used. However, using list like this is slow because inserting or deleting elements require the others to be shifted by one, requiring $O$(n) time"
   ]
  },
  {
   "cell_type": "code",
   "execution_count": 36,
   "id": "67ea7808",
   "metadata": {},
   "outputs": [
    {
     "name": "stdout",
     "output_type": "stream",
     "text": [
      "Initial queue\n",
      "['a', 'b', 'c']\n"
     ]
    }
   ],
   "source": [
    "# python program to demonstrate queue implementation\n",
    "# Python program to\n",
    "# demonstrate queue implementation\n",
    "# using list\n",
    "\n",
    "# Initializing a queue\n",
    "queue = []\n",
    "\n",
    "# Adding elements to the queue\n",
    "queue.append('a')\n",
    "queue.append('b')\n",
    "queue.append('c')\n",
    "\n",
    "print(\"Initial queue\")\n",
    "print(queue)\n"
   ]
  },
  {
   "cell_type": "code",
   "execution_count": 37,
   "id": "804df723",
   "metadata": {},
   "outputs": [
    {
     "name": "stdout",
     "output_type": "stream",
     "text": [
      "\n",
      "Elements dequeued from queue\n",
      "a\n",
      "b\n",
      "c\n",
      "\n",
      "Queue after removing elements\n",
      "[]\n"
     ]
    }
   ],
   "source": [
    "# Removing elements from the queue\n",
    "print(\"\\nElements dequeued from queue\")\n",
    "print(queue.pop(0))\n",
    "print(queue.pop(0))\n",
    "print(queue.pop(0))\n",
    "\n",
    "print(\"\\nQueue after removing elements\")\n",
    "print(queue)\n",
    "\n",
    "# Uncommenting print(queue.pop(0))\n",
    "# will raise and IndexError\n",
    "# as the queue is now empty"
   ]
  },
  {
   "cell_type": "markdown",
   "id": "f8b64688",
   "metadata": {},
   "source": [
    "Implementation of queue using collections.queue"
   ]
  },
  {
   "cell_type": "markdown",
   "id": "a59bf6fa",
   "metadata": {},
   "source": [
    "deque is preferred over list in the case we need quicker append() and pop() operation at both ends of the container as dequee provides $O$(1) time complexity for both operations. Instead of enqueue() and dequeue() operations, append() and popleft() are used."
   ]
  },
  {
   "cell_type": "code",
   "execution_count": 38,
   "id": "af45127c",
   "metadata": {},
   "outputs": [
    {
     "name": "stdout",
     "output_type": "stream",
     "text": [
      "Initial queue\n",
      "deque(['a', 'b', 'c'])\n"
     ]
    }
   ],
   "source": [
    "# Python program to\n",
    "# demonstrate queue implementation\n",
    "# using collections.dequeue\n",
    "  \n",
    "  \n",
    "from collections import deque\n",
    "  \n",
    "# Initializing a queue\n",
    "q = deque()\n",
    "  \n",
    "# Adding elements to a queue\n",
    "q.append('a')\n",
    "q.append('b')\n",
    "q.append('c')\n",
    "  \n",
    "print(\"Initial queue\")\n",
    "print(q)"
   ]
  },
  {
   "cell_type": "code",
   "execution_count": 40,
   "id": "6ae6122e",
   "metadata": {},
   "outputs": [
    {
     "data": {
      "text/plain": [
       "deque(['boy', 'a', 'b', 'c'])"
      ]
     },
     "execution_count": 40,
     "metadata": {},
     "output_type": "execute_result"
    }
   ],
   "source": [
    "q.appendleft('boy')\n",
    "q"
   ]
  },
  {
   "cell_type": "code",
   "execution_count": 41,
   "id": "4248da75",
   "metadata": {},
   "outputs": [
    {
     "name": "stdout",
     "output_type": "stream",
     "text": [
      "\n",
      "Elements dequeued from the queue\n",
      "boy\n",
      "deque(['a', 'b', 'c'])\n"
     ]
    }
   ],
   "source": [
    "# Removing elements from a queue\n",
    "print(\"\\nElements dequeued from the queue\")\n",
    "print(q.popleft())\n",
    "#print(q.popleft())\n",
    "#print(q.popleft())\n",
    "  \n",
    "#print(\"\\nQueue after removing elements\")\n",
    "print(q)"
   ]
  },
  {
   "cell_type": "markdown",
   "id": "714dc77d",
   "metadata": {},
   "source": [
    "Implementation using queue.queue"
   ]
  },
  {
   "cell_type": "markdown",
   "id": "7975f8cf",
   "metadata": {},
   "source": [
    "Queue is a built-in module of Python which is usedt to implement a queue. queue.Queue(maxsize) initializes a variable to maximum size of maxsize. A maxsize of zero '0' means an infinite queue."
   ]
  },
  {
   "cell_type": "code",
   "execution_count": null,
   "id": "b1b254f6",
   "metadata": {},
   "outputs": [],
   "source": [
    "from queue import Queue\n",
    "\n",
    "q_ = Queue(maxsize=3)\n",
    "#dir(q_)\n",
    "q_.put(5)\n",
    "q_.put('a')\n",
    "q_.put('b')\n"
   ]
  },
  {
   "cell_type": "code",
   "execution_count": 1,
   "id": "7a8dcf6c",
   "metadata": {},
   "outputs": [
    {
     "data": {
      "text/plain": [
       "4"
      ]
     },
     "execution_count": 1,
     "metadata": {},
     "output_type": "execute_result"
    }
   ],
   "source": [
    "2 + 2"
   ]
  },
  {
   "cell_type": "code",
   "execution_count": 3,
   "id": "d18c3994",
   "metadata": {},
   "outputs": [
    {
     "name": "stdout",
     "output_type": "stream",
     "text": [
      "<queue.Queue object at 0x000001969FEE1B80>\n"
     ]
    },
    {
     "ename": "AttributeError",
     "evalue": "'Queue' object has no attribute 'enqueue'",
     "output_type": "error",
     "traceback": [
      "\u001b[1;31m---------------------------------------------------------------------------\u001b[0m",
      "\u001b[1;31mAttributeError\u001b[0m                            Traceback (most recent call last)",
      "Input \u001b[1;32mIn [3]\u001b[0m, in \u001b[0;36m<cell line: 5>\u001b[1;34m()\u001b[0m\n\u001b[0;32m      2\u001b[0m que \u001b[38;5;241m=\u001b[39m Queue([\u001b[38;5;241m1\u001b[39m, \u001b[38;5;241m2\u001b[39m])\n\u001b[0;32m      3\u001b[0m \u001b[38;5;28mprint\u001b[39m(que)\n\u001b[1;32m----> 5\u001b[0m \u001b[43mque\u001b[49m\u001b[38;5;241;43m.\u001b[39;49m\u001b[43menqueue\u001b[49m(\u001b[38;5;241m2\u001b[39m)\n\u001b[0;32m      6\u001b[0m \u001b[38;5;28mprint\u001b[39m(que)\n",
      "\u001b[1;31mAttributeError\u001b[0m: 'Queue' object has no attribute 'enqueue'"
     ]
    }
   ],
   "source": [
    "from queue import Queue\n",
    "que = Queue([1, 2])\n",
    "print(que)\n",
    "\n",
    "que.enqueue(2)\n",
    "print(que)"
   ]
  },
  {
   "cell_type": "code",
   "execution_count": null,
   "id": "db0b8c4f",
   "metadata": {},
   "outputs": [],
   "source": [
    "que.get()"
   ]
  },
  {
   "cell_type": "code",
   "execution_count": null,
   "id": "39161e5a",
   "metadata": {},
   "outputs": [],
   "source": []
  }
 ],
 "metadata": {
  "kernelspec": {
   "display_name": "Python 3 (ipykernel)",
   "language": "python",
   "name": "python3"
  },
  "language_info": {
   "codemirror_mode": {
    "name": "ipython",
    "version": 3
   },
   "file_extension": ".py",
   "mimetype": "text/x-python",
   "name": "python",
   "nbconvert_exporter": "python",
   "pygments_lexer": "ipython3",
   "version": "3.9.12"
  }
 },
 "nbformat": 4,
 "nbformat_minor": 5
}

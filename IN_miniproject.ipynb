{
 "cells": [
  {
   "cell_type": "markdown",
   "id": "4c943e6e",
   "metadata": {},
   "source": [
    "### Problem 2"
   ]
  },
  {
   "cell_type": "markdown",
   "id": "9a150c40",
   "metadata": {},
   "source": [
    "Define a function that accepts a list (called numbers below) as input and return a list where each element is multiplied by 10. The grader will supply the argument numbers to the function when you run the grader.score.in__problem2 method below."
   ]
  },
  {
   "cell_type": "markdown",
   "id": "26d6eb84",
   "metadata": {},
   "source": [
    "In this case, you need to write a function that will work for arbitrary input. Before subiting your function to the grader, you may want to check that it returns the output you expect by evaluating code similar to the following "
   ]
  },
  {
   "cell_type": "code",
   "execution_count": 35,
   "id": "f595d342",
   "metadata": {},
   "outputs": [],
   "source": [
    "test_number = [1, 2, 3]"
   ]
  },
  {
   "cell_type": "code",
   "execution_count": 42,
   "id": "88553377",
   "metadata": {},
   "outputs": [],
   "source": [
    "result = []\n",
    "def mult(numbers):\n",
    "    for number in numbers:\n",
    "        value = number * 10\n",
    "        result.append(value)\n",
    "    \n",
    "    return result"
   ]
  },
  {
   "cell_type": "code",
   "execution_count": 43,
   "id": "1d25d3ca",
   "metadata": {},
   "outputs": [
    {
     "data": {
      "text/plain": [
       "[10, 20, 30]"
      ]
     },
     "execution_count": 43,
     "metadata": {},
     "output_type": "execute_result"
    }
   ],
   "source": [
    "mult(test_number)"
   ]
  },
  {
   "cell_type": "code",
   "execution_count": 44,
   "id": "f8055cd5",
   "metadata": {},
   "outputs": [
    {
     "data": {
      "text/plain": [
       "[10, 20, 30]"
      ]
     },
     "execution_count": 44,
     "metadata": {},
     "output_type": "execute_result"
    }
   ],
   "source": [
    "# using list comprehension\n",
    "def mult_comp(numbers):\n",
    "    return [num * 10 for num in numbers]\n",
    "\n",
    "mult_comp(test_number)"
   ]
  },
  {
   "cell_type": "code",
   "execution_count": 45,
   "id": "187de5d0",
   "metadata": {},
   "outputs": [
    {
     "name": "stdout",
     "output_type": "stream",
     "text": [
      "2.37 ms ± 275 µs per loop (mean ± std. dev. of 7 runs, 100 loops each)\n"
     ]
    }
   ],
   "source": [
    "%%timeit\n",
    "mult(range(10000))"
   ]
  },
  {
   "cell_type": "code",
   "execution_count": 46,
   "id": "3225333a",
   "metadata": {},
   "outputs": [
    {
     "name": "stdout",
     "output_type": "stream",
     "text": [
      "1.18 ms ± 237 µs per loop (mean ± std. dev. of 7 runs, 1,000 loops each)\n"
     ]
    }
   ],
   "source": [
    "%%timeit\n",
    "mult_comp(range(10000))"
   ]
  },
  {
   "cell_type": "code",
   "execution_count": 52,
   "id": "7d74aef7",
   "metadata": {},
   "outputs": [],
   "source": [
    "import time\n",
    "\n",
    "n_trials = 1000\n",
    "results = []\n",
    "for _ in range(n_trials):\n",
    "    \n",
    "    t_0 = time.time()\n",
    "\n",
    "    mult(range(10000))\n",
    "    t_elapsed = time.time() - t_0\n",
    "    results.append(t_elapsed)\n",
    "\n",
    "#print(results)"
   ]
  },
  {
   "cell_type": "code",
   "execution_count": 57,
   "id": "27ee19d5",
   "metadata": {},
   "outputs": [
    {
     "data": {
      "text/plain": [
       "[20, 40, 60]"
      ]
     },
     "execution_count": 57,
     "metadata": {},
     "output_type": "execute_result"
    }
   ],
   "source": [
    "from mult import mult\n",
    "\n",
    "mult(test_number, 20)"
   ]
  },
  {
   "cell_type": "code",
   "execution_count": 61,
   "id": "0eadda2e",
   "metadata": {},
   "outputs": [
    {
     "data": {
      "text/plain": [
       "[10, 20, 30, 40, 50]"
      ]
     },
     "execution_count": 61,
     "metadata": {},
     "output_type": "execute_result"
    }
   ],
   "source": [
    "# while vs for loop\n",
    "\n",
    "number = [1, 2, 3, 4, 5]\n",
    "# If the number of loops is definite, then it makes more natural sense to use a for loop\n",
    "\n",
    "result = [10 * num for num in number]\n",
    "result"
   ]
  },
  {
   "cell_type": "code",
   "execution_count": 62,
   "id": "f983e677",
   "metadata": {},
   "outputs": [
    {
     "data": {
      "text/plain": [
       "[10, 20, 30, 40, 50]"
      ]
     },
     "execution_count": 62,
     "metadata": {},
     "output_type": "execute_result"
    }
   ],
   "source": [
    "result_w = []\n",
    "while number: #truthines, basically, a non-empty list has a True value\n",
    "    result_w.append(10 * number.pop(0))\n",
    "    \n",
    "result_w"
   ]
  },
  {
   "cell_type": "code",
   "execution_count": null,
   "id": "261ebc3d",
   "metadata": {},
   "outputs": [],
   "source": []
  }
 ],
 "metadata": {
  "kernelspec": {
   "display_name": "Python 3 (ipykernel)",
   "language": "python",
   "name": "python3"
  },
  "language_info": {
   "codemirror_mode": {
    "name": "ipython",
    "version": 3
   },
   "file_extension": ".py",
   "mimetype": "text/x-python",
   "name": "python",
   "nbconvert_exporter": "python",
   "pygments_lexer": "ipython3",
   "version": "3.9.12"
  }
 },
 "nbformat": 4,
 "nbformat_minor": 5
}
